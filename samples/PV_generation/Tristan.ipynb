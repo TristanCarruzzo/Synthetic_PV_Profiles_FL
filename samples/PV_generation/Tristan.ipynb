{
 "cells": [
  {
   "cell_type": "code",
   "execution_count": 1,
   "metadata": {},
   "outputs": [],
   "source": [
    "# Imports\n",
    "\n",
    "import math, pickle, os, copy, sys, scipy.io, json, datetime, pickle\n",
    "\n",
    "import numpy as np\n",
    "import pandas as pd\n",
    "pd.set_option('display.max_columns', None)\n",
    "\n",
    "import warnings\n",
    "warnings.filterwarnings(\"ignore\")\n",
    "\n",
    "from numpy import random\n",
    "from tqdm import tqdm\n",
    "\n",
    "import matplotlib.pyplot as plt\n",
    "import seaborn as sns\n",
    "\n",
    "# Add the project directory to the path\n",
    "PROJECT_DIR = os.path.dirname(os.path.dirname(os.getcwd()))\n",
    "sys.path.insert(1, PROJECT_DIR)\n",
    "\n",
    "from utils_pv import *\n",
    "from samples.data_sim import PVDataset\n",
    "\n",
    "#### FL\n",
    "import torch\n",
    "import torch.optim as optim\n",
    "from torch.utils.data import DataLoader, Subset\n",
    "from trainer import Trainer\n",
    "from models import *\n",
    "from metrics import mse\n",
    "\n",
    "# Set the random seed\n",
    "random_seed = 46\n",
    "random.seed(random_seed)\n",
    "np.random.seed(random_seed)\n",
    "random_state = np.random.RandomState(random_seed)\n",
    "\n",
    "# Set the device\n",
    "DEVICE = torch.device('cuda' if torch.cuda.is_available() else 'cpu')\n",
    "# DEVICE = 'mps'"
   ]
  },
  {
   "cell_type": "markdown",
   "metadata": {},
   "source": [
    "### Data generation"
   ]
  },
  {
   "cell_type": "code",
   "execution_count": 2,
   "metadata": {},
   "outputs": [
    {
     "data": {
      "text/html": [
       "<div>\n",
       "<style scoped>\n",
       "    .dataframe tbody tr th:only-of-type {\n",
       "        vertical-align: middle;\n",
       "    }\n",
       "\n",
       "    .dataframe tbody tr th {\n",
       "        vertical-align: top;\n",
       "    }\n",
       "\n",
       "    .dataframe thead th {\n",
       "        text-align: right;\n",
       "    }\n",
       "</style>\n",
       "<table border=\"1\" class=\"dataframe\">\n",
       "  <thead>\n",
       "    <tr style=\"text-align: right;\">\n",
       "      <th></th>\n",
       "      <th>time</th>\n",
       "      <th>year</th>\n",
       "      <th>month</th>\n",
       "      <th>day</th>\n",
       "      <th>hour_day</th>\n",
       "      <th>H_sun</th>\n",
       "      <th>T2m</th>\n",
       "      <th>WS10m</th>\n",
       "      <th>hourofd_x</th>\n",
       "      <th>hourofd_y</th>\n",
       "      <th>dayofy_x</th>\n",
       "      <th>dayofy_y</th>\n",
       "      <th>station_irrad_direct_prev</th>\n",
       "      <th>station_irrad_diffuse_prev</th>\n",
       "      <th>lag 1</th>\n",
       "      <th>target</th>\n",
       "    </tr>\n",
       "  </thead>\n",
       "  <tbody>\n",
       "    <tr>\n",
       "      <th>80342</th>\n",
       "      <td>2014-03-02 15:10:00</td>\n",
       "      <td>2014</td>\n",
       "      <td>3</td>\n",
       "      <td>2</td>\n",
       "      <td>15</td>\n",
       "      <td>19.74</td>\n",
       "      <td>15.806133</td>\n",
       "      <td>1.322021</td>\n",
       "      <td>-7.071068e-01</td>\n",
       "      <td>-0.707107</td>\n",
       "      <td>0.867456</td>\n",
       "      <td>0.497513</td>\n",
       "      <td>0.000000</td>\n",
       "      <td>83.888610</td>\n",
       "      <td>11.813488</td>\n",
       "      <td>24.716404</td>\n",
       "    </tr>\n",
       "    <tr>\n",
       "      <th>47821</th>\n",
       "      <td>2010-06-16 14:10:00</td>\n",
       "      <td>2010</td>\n",
       "      <td>6</td>\n",
       "      <td>16</td>\n",
       "      <td>14</td>\n",
       "      <td>51.01</td>\n",
       "      <td>12.308159</td>\n",
       "      <td>0.666466</td>\n",
       "      <td>-5.000000e-01</td>\n",
       "      <td>-0.866025</td>\n",
       "      <td>0.263665</td>\n",
       "      <td>-0.964614</td>\n",
       "      <td>0.000000</td>\n",
       "      <td>78.590382</td>\n",
       "      <td>10.458863</td>\n",
       "      <td>13.134210</td>\n",
       "    </tr>\n",
       "    <tr>\n",
       "      <th>62459</th>\n",
       "      <td>2012-02-16 12:10:00</td>\n",
       "      <td>2012</td>\n",
       "      <td>2</td>\n",
       "      <td>16</td>\n",
       "      <td>12</td>\n",
       "      <td>30.92</td>\n",
       "      <td>5.132578</td>\n",
       "      <td>2.181787</td>\n",
       "      <td>1.224647e-16</td>\n",
       "      <td>-1.000000</td>\n",
       "      <td>0.723644</td>\n",
       "      <td>0.690173</td>\n",
       "      <td>2.890523</td>\n",
       "      <td>171.632869</td>\n",
       "      <td>26.479149</td>\n",
       "      <td>17.932810</td>\n",
       "    </tr>\n",
       "  </tbody>\n",
       "</table>\n",
       "</div>"
      ],
      "text/plain": [
       "                     time  year  month  day  hour_day  H_sun        T2m  \\\n",
       "80342 2014-03-02 15:10:00  2014      3    2        15  19.74  15.806133   \n",
       "47821 2010-06-16 14:10:00  2010      6   16        14  51.01  12.308159   \n",
       "62459 2012-02-16 12:10:00  2012      2   16        12  30.92   5.132578   \n",
       "\n",
       "          WS10m     hourofd_x  hourofd_y  dayofy_x  dayofy_y  \\\n",
       "80342  1.322021 -7.071068e-01  -0.707107  0.867456  0.497513   \n",
       "47821  0.666466 -5.000000e-01  -0.866025  0.263665 -0.964614   \n",
       "62459  2.181787  1.224647e-16  -1.000000  0.723644  0.690173   \n",
       "\n",
       "       station_irrad_direct_prev  station_irrad_diffuse_prev      lag 1  \\\n",
       "80342                   0.000000                   83.888610  11.813488   \n",
       "47821                   0.000000                   78.590382  10.458863   \n",
       "62459                   2.890523                  171.632869  26.479149   \n",
       "\n",
       "          target  \n",
       "80342  24.716404  \n",
       "47821  13.134210  \n",
       "62459  17.932810  "
      ]
     },
     "execution_count": 2,
     "metadata": {},
     "output_type": "execute_result"
    }
   ],
   "source": [
    "# Generate data for 1 client\n",
    "\n",
    "months_name = {1:'January', 2:'February', 3:'March', 4:'April', 5:'May', 6:'June', 7:'July', 8:'August', 9:'September', 10:'October', 11:'November', 12:'December'}\n",
    "\n",
    "train_columns = ['H_sun', 'T2m', 'WS10m', 'hourofd_x', 'hourofd_y', 'dayofy_x', 'dayofy_y', 'station_irrad_direct_prev', 'station_irrad_diffuse_prev', 'lag 1']\n",
    "\n",
    "hour_begin, hour_end = 8, 18\n",
    "\n",
    "NUM_CLIENTS=1\n",
    "\n",
    "city_names = ['Lausanne']\n",
    "env_dict = {'city_names':city_names,\n",
    "            'num_clients': NUM_CLIENTS, 'num_modes': len(city_names),\n",
    "            'tilt_std': 5, 'az_std': 0, 'weather_dev':0.1,\n",
    "            'irrad_std':0.2, 'altitude_dev':0.1, 'shadow_peak_red':1,\n",
    "            'module_name': get_available_modules('sandia')[0:NUM_CLIENTS], #['Canadian_Solar_CS5P_220M___2009_'],\n",
    "            'inverter_name': get_available_inverters('cec')[0:NUM_CLIENTS], # ['ABB__MICRO_0_25_I_OUTD_US_208__208V_'],\n",
    "            'lags':[1], 'months':[1, 2, 3, 4, 5, 6, 7, 8, 9, 10, 11, 12], 'hours':np.arange(hour_begin, hour_end), \n",
    "            'train_scenarios':{'1y':{'m_train':None, 'train_years':[2018], 'valid_years':2019}}}\n",
    "\n",
    "env_dict = PVDataset(env_dict).generate_clients_data()\n",
    "\n",
    "time_series = env_dict['train_scenarios']['1y']['time_series'][0]\n",
    "\n",
    "# Remove nights\n",
    "time_series = time_series[time_series['hour_day'].isin(np.arange(hour_begin, hour_end))]\n",
    "\n",
    "# Add column day_of_month using column time\n",
    "time_series['day'] = time_series['time'].dt.day\n",
    "\n",
    "# Reorder columns\n",
    "time_series = time_series[['time', 'year', 'month', 'day', 'hour_day', 'H_sun', 'T2m', 'WS10m', 'hourofd_x', 'hourofd_y', 'dayofy_x', 'dayofy_y', 'station_irrad_direct_prev', 'station_irrad_diffuse_prev', 'lag 1', 'target']]\n",
    "time_series.sample(3)"
   ]
  },
  {
   "cell_type": "markdown",
   "metadata": {},
   "source": [
    "### 1. One model for 3 months\n",
    "\n",
    "> Train a model using 3 consecutive months of data, predict the same three months of the next year."
   ]
  },
  {
   "cell_type": "code",
   "execution_count": 55,
   "metadata": {},
   "outputs": [
    {
     "data": {
      "text/plain": [
       "((920, 10), (920, 1), (920, 10), (920, 1))"
      ]
     },
     "execution_count": 55,
     "metadata": {},
     "output_type": "execute_result"
    }
   ],
   "source": [
    "# Filter the data for three selected months (continuous)\n",
    "selected_months = [7, 8, 9]\n",
    "train_year = [2018]\n",
    "test_year = 2019\n",
    "\n",
    "x_train = time_series[(time_series.year.isin(train_year)) & (time_series.month.isin(selected_months))][train_columns].values\n",
    "y_train = time_series[(time_series.year.isin(train_year)) & (time_series.month.isin(selected_months))]['target'].values\n",
    "\n",
    "x_test = time_series[(time_series.year==test_year) & (time_series.month.isin(selected_months))][train_columns].values\n",
    "y_test = time_series[(time_series.year==test_year) & (time_series.month.isin(selected_months))]['target'].values\n",
    "\n",
    "# Normalize the data\n",
    "x_mean = np.mean(x_train, axis=0)\n",
    "x_std = np.std(x_train, axis=0)\n",
    "y_mean = np.mean(y_train)\n",
    "y_std = np.std(y_train)\n",
    "\n",
    "x_train = (x_train - x_mean) / x_std\n",
    "x_test = (x_test - x_mean) / x_std\n",
    "y_train = (y_train - y_mean) / y_std\n",
    "y_test = (y_test - y_mean) / y_std\n",
    "\n",
    "# Reshape the data\n",
    "y_train = y_train.reshape(-1, 1)\n",
    "y_test = np.array(y_test).reshape(-1, 1)\n",
    "\n",
    "x_train.shape, y_train.shape, x_test.shape, y_test.shape"
   ]
  },
  {
   "cell_type": "code",
   "execution_count": 56,
   "metadata": {},
   "outputs": [
    {
     "name": "stdout",
     "output_type": "stream",
     "text": [
      "DEVICE: cpu\n"
     ]
    }
   ],
   "source": [
    "NUM_EPOCHS = 300\n",
    "\n",
    "LR_GRID = [1e-3, 1e-2, 1e-1]\n",
    "WEIGHT_DECAY_GRID = [5e-4, 5e-3, 5e-2]\n",
    "\n",
    "DEVICE = torch.device('cuda' if torch.cuda.is_available() else 'cpu')\n",
    "print(\"DEVICE:\", DEVICE)"
   ]
  },
  {
   "cell_type": "code",
   "execution_count": 62,
   "metadata": {},
   "outputs": [
    {
     "name": "stdout",
     "output_type": "stream",
     "text": [
      "LR: 0.001 | Weight Decay: 0.0005\n"
     ]
    },
    {
     "name": "stderr",
     "output_type": "stream",
     "text": [
      "100%|██████████| 300/300 [00:00<00:00, 446.29it/s]\n"
     ]
    },
    {
     "name": "stdout",
     "output_type": "stream",
     "text": [
      "Validation Loss: 0.177\n",
      "LR: 0.001 | Weight Decay: 0.005\n"
     ]
    },
    {
     "name": "stderr",
     "output_type": "stream",
     "text": [
      "100%|██████████| 300/300 [00:00<00:00, 565.32it/s]\n"
     ]
    },
    {
     "name": "stdout",
     "output_type": "stream",
     "text": [
      "Validation Loss: 0.177\n",
      "LR: 0.001 | Weight Decay: 0.05\n"
     ]
    },
    {
     "name": "stderr",
     "output_type": "stream",
     "text": [
      "100%|██████████| 300/300 [00:00<00:00, 637.27it/s]\n"
     ]
    },
    {
     "name": "stdout",
     "output_type": "stream",
     "text": [
      "Validation Loss: 0.177\n",
      "LR: 0.01 | Weight Decay: 0.0005\n"
     ]
    },
    {
     "name": "stderr",
     "output_type": "stream",
     "text": [
      "100%|██████████| 300/300 [00:00<00:00, 559.65it/s]\n"
     ]
    },
    {
     "name": "stdout",
     "output_type": "stream",
     "text": [
      "Validation Loss: 0.159\n",
      "LR: 0.01 | Weight Decay: 0.005\n"
     ]
    },
    {
     "name": "stderr",
     "output_type": "stream",
     "text": [
      "100%|██████████| 300/300 [00:00<00:00, 546.00it/s]\n"
     ]
    },
    {
     "name": "stdout",
     "output_type": "stream",
     "text": [
      "Validation Loss: 0.159\n",
      "LR: 0.01 | Weight Decay: 0.05\n"
     ]
    },
    {
     "name": "stderr",
     "output_type": "stream",
     "text": [
      "100%|██████████| 300/300 [00:00<00:00, 534.39it/s]\n"
     ]
    },
    {
     "name": "stdout",
     "output_type": "stream",
     "text": [
      "Validation Loss: 0.159\n",
      "LR: 0.1 | Weight Decay: 0.0005\n"
     ]
    },
    {
     "name": "stderr",
     "output_type": "stream",
     "text": [
      "100%|██████████| 300/300 [00:00<00:00, 434.63it/s]\n"
     ]
    },
    {
     "name": "stdout",
     "output_type": "stream",
     "text": [
      "Validation Loss: 0.176\n",
      "LR: 0.1 | Weight Decay: 0.005\n"
     ]
    },
    {
     "name": "stderr",
     "output_type": "stream",
     "text": [
      "100%|██████████| 300/300 [00:00<00:00, 458.77it/s]\n"
     ]
    },
    {
     "name": "stdout",
     "output_type": "stream",
     "text": [
      "Validation Loss: 0.160\n",
      "LR: 0.1 | Weight Decay: 0.05\n"
     ]
    },
    {
     "name": "stderr",
     "output_type": "stream",
     "text": [
      "100%|██████████| 300/300 [00:00<00:00, 498.76it/s]\n"
     ]
    },
    {
     "name": "stdout",
     "output_type": "stream",
     "text": [
      "Validation Loss: 0.161\n"
     ]
    }
   ],
   "source": [
    "# Run experiments\n",
    "\n",
    "all_results_dict = dict()\n",
    "\n",
    "for lr_ in LR_GRID:\n",
    "    all_results_dict[lr_] = dict()\n",
    "    for weight_decay_ in WEIGHT_DECAY_GRID:\n",
    "        all_results_dict[lr_][weight_decay_] = dict()\n",
    "        \n",
    "        print(f\"LR: {lr_} | Weight Decay: {weight_decay_}\")\n",
    "        \n",
    "        ###### Define the model, optimizer, loss function and history\n",
    "        training_loss_history = []\n",
    "        \n",
    "        torch.backends.cudnn.deterministic = True\n",
    "        torch.backends.cudnn.benchmark = True\n",
    "        torch.manual_seed(random_seed)\n",
    "\n",
    "        # Create the model, optimizer, and trainer\n",
    "        # model = SimpleNN(input_dim=len(train_columns), output_dim=1, hidden_dim=5).to(DEVICE)\n",
    "        model = TwoLayerNN(input_dim=len(train_columns), output_dim=1, hidden_dim1=32, hidden_dim2=32).to(DEVICE)\n",
    "\n",
    "        optimizer = optim.SGD(\n",
    "            [param for param in model.parameters() if param.requires_grad],\n",
    "            lr=lr_,\n",
    "            momentum=0.9,\n",
    "            weight_decay=weight_decay_,\n",
    "        )\n",
    "\n",
    "        trainer = Trainer(\n",
    "            model=model,\n",
    "            criterion=nn.MSELoss(reduction='none').to(DEVICE),\n",
    "            metric=mse,\n",
    "            device=DEVICE,\n",
    "            optimizer=optimizer,\n",
    "            cast_label=False,\n",
    "        )\n",
    "        \n",
    "        ###### Define training data\n",
    "        \n",
    "        train_dataset = torch.utils.data.TensorDataset(torch.tensor(x_train), torch.tensor(y_train))\n",
    "        train_dataloader = DataLoader(train_dataset, batch_size=512, shuffle=False)\n",
    "        train_iterator = iter(train_dataloader)\n",
    "        \n",
    "        ###### Training loop\n",
    "        for epoch in tqdm(range(NUM_EPOCHS)):\n",
    "        \n",
    "            # Clear gradients from the previous iteration\n",
    "            trainer.optimizer.zero_grad()\n",
    "\n",
    "            ## Training Loss\n",
    "            try:\n",
    "                x_batch, y_batch = next(train_iterator)\n",
    "            except StopIteration:\n",
    "                train_iterator = iter(train_dataloader)\n",
    "                x_batch, y_batch = next(train_iterator)\n",
    "        \n",
    "            x_batch = x_batch.to(DEVICE).type(torch.float32)\n",
    "            y_batch = y_batch.to(DEVICE).type(torch.float32)\n",
    "\n",
    "            # Forward pass\n",
    "            outs_batch = trainer.model(x_batch)\n",
    "            loss_batch = trainer.criterion(outs_batch, y_batch).mean()\n",
    "            \n",
    "            training_loss_history.append(loss_batch.detach().cpu().numpy())\n",
    "        \n",
    "            # Get gradients w.r.t to parameters\n",
    "            loss_batch.backward()\n",
    "            \n",
    "            # Update the parameters\n",
    "            trainer.optimizer.step()\n",
    "            # print(f\"Epoch: {epoch} | Training Loss: {loss_batch:0.3f}\")\n",
    "            \n",
    "        ###### Test the model\n",
    "        y_pred = trainer.model(torch.tensor(x_test).to(DEVICE).type(torch.float32))\n",
    "        loss_test = trainer.criterion(y_pred, torch.tensor(y_test).to(DEVICE).type(torch.float32)).mean()\n",
    "        \n",
    "        print(f\"Validation Loss: {loss_test:0.3f}\")\n",
    "        \n",
    "        # Save the results in a json file\n",
    "        all_results_dict[lr_][weight_decay_] = {'training_loss': training_loss_history,\n",
    "                                    'test_loss': loss_test.detach().cpu().numpy(),\n",
    "                                    'y_pred': y_pred.detach().cpu().numpy() * y_std + y_mean,\n",
    "                                    'y_test': y_test * y_std + y_mean}"
   ]
  },
  {
   "cell_type": "code",
   "execution_count": 63,
   "metadata": {},
   "outputs": [
    {
     "data": {
      "text/html": [
       "<div>\n",
       "<style scoped>\n",
       "    .dataframe tbody tr th:only-of-type {\n",
       "        vertical-align: middle;\n",
       "    }\n",
       "\n",
       "    .dataframe tbody tr th {\n",
       "        vertical-align: top;\n",
       "    }\n",
       "\n",
       "    .dataframe thead th {\n",
       "        text-align: right;\n",
       "    }\n",
       "</style>\n",
       "<table border=\"1\" class=\"dataframe\">\n",
       "  <thead>\n",
       "    <tr style=\"text-align: right;\">\n",
       "      <th></th>\n",
       "      <th>lr</th>\n",
       "      <th>weight_decay</th>\n",
       "      <th>training_loss</th>\n",
       "      <th>test_loss</th>\n",
       "      <th>y_pred</th>\n",
       "      <th>y_test</th>\n",
       "    </tr>\n",
       "  </thead>\n",
       "  <tbody>\n",
       "    <tr>\n",
       "      <th>0</th>\n",
       "      <td>0.001</td>\n",
       "      <td>0.0005</td>\n",
       "      <td>[1.0387384, 1.0728896, 1.0331519, 1.063847, 1....</td>\n",
       "      <td>0.1767979</td>\n",
       "      <td>[[52.046616], [67.88506], [86.232574], [87.734...</td>\n",
       "      <td>[[47.79270947711085], [77.00151460376317], [87...</td>\n",
       "    </tr>\n",
       "    <tr>\n",
       "      <th>1</th>\n",
       "      <td>0.001</td>\n",
       "      <td>0.0050</td>\n",
       "      <td>[1.0387384, 1.0728889, 1.0331498, 1.0638431, 1...</td>\n",
       "      <td>0.17668982</td>\n",
       "      <td>[[51.95005], [67.78162], [86.1532], [87.71631]...</td>\n",
       "      <td>[[47.79270947711085], [77.00151460376317], [87...</td>\n",
       "    </tr>\n",
       "    <tr>\n",
       "      <th>2</th>\n",
       "      <td>0.001</td>\n",
       "      <td>0.0500</td>\n",
       "      <td>[1.0387384, 1.0728807, 1.0331306, 1.0638036, 1...</td>\n",
       "      <td>0.17678162</td>\n",
       "      <td>[[51.247456], [66.8811], [85.30441], [87.442],...</td>\n",
       "      <td>[[47.79270947711085], [77.00151460376317], [87...</td>\n",
       "    </tr>\n",
       "    <tr>\n",
       "      <th>3</th>\n",
       "      <td>0.010</td>\n",
       "      <td>0.0005</td>\n",
       "      <td>[1.0387384, 1.0598029, 0.9844233, 0.9747007, 0...</td>\n",
       "      <td>0.15936694</td>\n",
       "      <td>[[53.08222], [73.06441], [92.11696], [91.52962...</td>\n",
       "      <td>[[47.79270947711085], [77.00151460376317], [87...</td>\n",
       "    </tr>\n",
       "    <tr>\n",
       "      <th>4</th>\n",
       "      <td>0.010</td>\n",
       "      <td>0.0050</td>\n",
       "      <td>[1.0387384, 1.0597961, 0.9844188, 0.9747142, 0...</td>\n",
       "      <td>0.1585682</td>\n",
       "      <td>[[52.648117], [73.12137], [91.774475], [91.482...</td>\n",
       "      <td>[[47.79270947711085], [77.00151460376317], [87...</td>\n",
       "    </tr>\n",
       "    <tr>\n",
       "      <th>5</th>\n",
       "      <td>0.010</td>\n",
       "      <td>0.0500</td>\n",
       "      <td>[1.0387384, 1.0597278, 0.984375, 0.9748477, 0....</td>\n",
       "      <td>0.15918964</td>\n",
       "      <td>[[50.660282], [73.38634], [90.02927], [89.9761...</td>\n",
       "      <td>[[47.79270947711085], [77.00151460376317], [87...</td>\n",
       "    </tr>\n",
       "    <tr>\n",
       "      <th>6</th>\n",
       "      <td>0.100</td>\n",
       "      <td>0.0005</td>\n",
       "      <td>[1.0387384, 0.941421, 0.6195918, 0.39713007, 0...</td>\n",
       "      <td>0.17620046</td>\n",
       "      <td>[[51.682983], [74.06497], [89.19382], [91.9052...</td>\n",
       "      <td>[[47.79270947711085], [77.00151460376317], [87...</td>\n",
       "    </tr>\n",
       "    <tr>\n",
       "      <th>7</th>\n",
       "      <td>0.100</td>\n",
       "      <td>0.0050</td>\n",
       "      <td>[1.0387384, 0.94146484, 0.62047386, 0.39929935...</td>\n",
       "      <td>0.16016354</td>\n",
       "      <td>[[53.054016], [73.78349], [91.53387], [89.6546...</td>\n",
       "      <td>[[47.79270947711085], [77.00151460376317], [87...</td>\n",
       "    </tr>\n",
       "    <tr>\n",
       "      <th>8</th>\n",
       "      <td>0.100</td>\n",
       "      <td>0.0500</td>\n",
       "      <td>[1.0387384, 0.94190425, 0.6292605, 0.42124656,...</td>\n",
       "      <td>0.16065669</td>\n",
       "      <td>[[49.70105], [75.41361], [90.44275], [90.78557...</td>\n",
       "      <td>[[47.79270947711085], [77.00151460376317], [87...</td>\n",
       "    </tr>\n",
       "  </tbody>\n",
       "</table>\n",
       "</div>"
      ],
      "text/plain": [
       "      lr  weight_decay                                      training_loss  \\\n",
       "0  0.001        0.0005  [1.0387384, 1.0728896, 1.0331519, 1.063847, 1....   \n",
       "1  0.001        0.0050  [1.0387384, 1.0728889, 1.0331498, 1.0638431, 1...   \n",
       "2  0.001        0.0500  [1.0387384, 1.0728807, 1.0331306, 1.0638036, 1...   \n",
       "3  0.010        0.0005  [1.0387384, 1.0598029, 0.9844233, 0.9747007, 0...   \n",
       "4  0.010        0.0050  [1.0387384, 1.0597961, 0.9844188, 0.9747142, 0...   \n",
       "5  0.010        0.0500  [1.0387384, 1.0597278, 0.984375, 0.9748477, 0....   \n",
       "6  0.100        0.0005  [1.0387384, 0.941421, 0.6195918, 0.39713007, 0...   \n",
       "7  0.100        0.0050  [1.0387384, 0.94146484, 0.62047386, 0.39929935...   \n",
       "8  0.100        0.0500  [1.0387384, 0.94190425, 0.6292605, 0.42124656,...   \n",
       "\n",
       "    test_loss                                             y_pred  \\\n",
       "0   0.1767979  [[52.046616], [67.88506], [86.232574], [87.734...   \n",
       "1  0.17668982  [[51.95005], [67.78162], [86.1532], [87.71631]...   \n",
       "2  0.17678162  [[51.247456], [66.8811], [85.30441], [87.442],...   \n",
       "3  0.15936694  [[53.08222], [73.06441], [92.11696], [91.52962...   \n",
       "4   0.1585682  [[52.648117], [73.12137], [91.774475], [91.482...   \n",
       "5  0.15918964  [[50.660282], [73.38634], [90.02927], [89.9761...   \n",
       "6  0.17620046  [[51.682983], [74.06497], [89.19382], [91.9052...   \n",
       "7  0.16016354  [[53.054016], [73.78349], [91.53387], [89.6546...   \n",
       "8  0.16065669  [[49.70105], [75.41361], [90.44275], [90.78557...   \n",
       "\n",
       "                                              y_test  \n",
       "0  [[47.79270947711085], [77.00151460376317], [87...  \n",
       "1  [[47.79270947711085], [77.00151460376317], [87...  \n",
       "2  [[47.79270947711085], [77.00151460376317], [87...  \n",
       "3  [[47.79270947711085], [77.00151460376317], [87...  \n",
       "4  [[47.79270947711085], [77.00151460376317], [87...  \n",
       "5  [[47.79270947711085], [77.00151460376317], [87...  \n",
       "6  [[47.79270947711085], [77.00151460376317], [87...  \n",
       "7  [[47.79270947711085], [77.00151460376317], [87...  \n",
       "8  [[47.79270947711085], [77.00151460376317], [87...  "
      ]
     },
     "execution_count": 63,
     "metadata": {},
     "output_type": "execute_result"
    }
   ],
   "source": [
    "# convert this a df with the columns lr, training_loss, validation_loss, outs_valid, y_valid\n",
    "df = pd.DataFrame(columns=['lr', 'weight_decay', 'training_loss', 'test_loss', 'y_pred', 'y_test'])\n",
    "\n",
    "for lr in all_results_dict.keys():\n",
    "    for weight_decay in all_results_dict[lr].keys():\n",
    "        df = df.append({'lr': lr,\n",
    "                        'weight_decay': weight_decay,\n",
    "                        'training_loss': all_results_dict[lr][weight_decay]['training_loss'],\n",
    "                        'test_loss': all_results_dict[lr][weight_decay]['test_loss'],\n",
    "                        'y_pred': all_results_dict[lr][weight_decay]['y_pred'],\n",
    "                        'y_test': all_results_dict[lr][weight_decay]['y_test']}, ignore_index=True)\n",
    "\n",
    "            \n",
    "df"
   ]
  },
  {
   "cell_type": "code",
   "execution_count": 64,
   "metadata": {},
   "outputs": [
    {
     "name": "stdout",
     "output_type": "stream",
     "text": [
      "Best Learning Rate: 0.01 | Best Weight Decay: 0.005\n"
     ]
    }
   ],
   "source": [
    "best_params = df.groupby(['lr', 'weight_decay'])['test_loss'].mean().idxmin()\n",
    "print(f'Best Learning Rate: {best_params[0]} | Best Weight Decay: {best_params[1]}')"
   ]
  },
  {
   "cell_type": "code",
   "execution_count": 65,
   "metadata": {},
   "outputs": [
    {
     "data": {
      "image/png": "[encoded data removed]",
      "text/plain": [
       "<Figure size 1000x500 with 1 Axes>"
      ]
     },
     "metadata": {},
     "output_type": "display_data"
    }
   ],
   "source": [
    "plt.figure(figsize=(10, 5))\n",
    "plt.plot(df[df.lr==best_params[0]][df.weight_decay==best_params[1]]['training_loss'].values[0], label='Training Loss')\n",
    "plt.title('Training Loss')\n",
    "plt.xlabel('Epoch')\n",
    "plt.ylabel('Loss')\n",
    "plt.legend()\n",
    "plt.show()"
   ]
  },
  {
   "cell_type": "code",
   "execution_count": 66,
   "metadata": {},
   "outputs": [
    {
     "data": {
      "image/png": "[encoded data removed]",
      "text/plain": [
       "<Figure size 1000x500 with 1 Axes>"
      ]
     },
     "metadata": {},
     "output_type": "display_data"
    }
   ],
   "source": [
    "plt.figure(figsize=(10, 5))\n",
    "plt.plot(df[df.lr==best_params[0]][df.weight_decay==best_params[1]]['y_test'].values[0][:7*10], label='True')\n",
    "plt.plot(df[df.lr==best_params[0]][df.weight_decay==best_params[1]]['y_pred'].values[0][:7*10], label='Predicted')\n",
    "plt.title(f'First 7 days - Loss: {df[df.lr==best_params[0]][df.weight_decay==best_params[1]][\"test_loss\"].values[0]:0.5f}')\n",
    "plt.xlabel('Sample')\n",
    "plt.ylabel('Power [W]')\n",
    "plt.legend()\n",
    "plt.show()"
   ]
  },
  {
   "cell_type": "markdown",
   "metadata": {},
   "source": [
    "### 2. One model per month\n",
    "> Train a model using one month of data, predict the same month of the next year."
   ]
  },
  {
   "cell_type": "code",
   "execution_count": 42,
   "metadata": {},
   "outputs": [],
   "source": [
    "selected_months = [1, 2, 3, 4, 5, 6, 7, 8, 9, 10, 11, 12]\n",
    "train_year = [2018]\n",
    "test_year = 2019"
   ]
  },
  {
   "cell_type": "code",
   "execution_count": 43,
   "metadata": {},
   "outputs": [
    {
     "name": "stdout",
     "output_type": "stream",
     "text": [
      "DEVICE: cpu\n"
     ]
    }
   ],
   "source": [
    "NUM_EPOCHS = 300\n",
    "\n",
    "LR_GRID = [1e-3, 1e-2, 1e-1]\n",
    "WEIGHT_DECAY_GRID = [5e-4, 5e-3, 5e-2]\n",
    "\n",
    "DEVICE = torch.device('cuda' if torch.cuda.is_available() else 'cpu')\n",
    "print(\"DEVICE:\", DEVICE)"
   ]
  },
  {
   "cell_type": "code",
   "execution_count": 44,
   "metadata": {},
   "outputs": [
    {
     "name": "stdout",
     "output_type": "stream",
     "text": [
      "LR: 0.001 | Weight Decay: 0.0005\n"
     ]
    },
    {
     "name": "stderr",
     "output_type": "stream",
     "text": [
      "100%|██████████| 300/300 [00:00<00:00, 782.41it/s]\n"
     ]
    },
    {
     "name": "stdout",
     "output_type": "stream",
     "text": [
      "Month: January | Test Loss: 0.224\n"
     ]
    },
    {
     "name": "stderr",
     "output_type": "stream",
     "text": [
      "100%|██████████| 300/300 [00:00<00:00, 776.75it/s]\n"
     ]
    },
    {
     "name": "stdout",
     "output_type": "stream",
     "text": [
      "Month: February | Test Loss: 0.157\n"
     ]
    },
    {
     "name": "stderr",
     "output_type": "stream",
     "text": [
      "100%|██████████| 300/300 [00:00<00:00, 689.93it/s]\n"
     ]
    },
    {
     "name": "stdout",
     "output_type": "stream",
     "text": [
      "Month: March | Test Loss: 0.352\n"
     ]
    },
    {
     "name": "stderr",
     "output_type": "stream",
     "text": [
      "100%|██████████| 300/300 [00:00<00:00, 577.49it/s]\n"
     ]
    },
    {
     "name": "stdout",
     "output_type": "stream",
     "text": [
      "Month: April | Test Loss: 0.206\n"
     ]
    },
    {
     "name": "stderr",
     "output_type": "stream",
     "text": [
      "100%|██████████| 300/300 [00:00<00:00, 756.04it/s]\n"
     ]
    },
    {
     "name": "stdout",
     "output_type": "stream",
     "text": [
      "Month: May | Test Loss: 0.266\n"
     ]
    },
    {
     "name": "stderr",
     "output_type": "stream",
     "text": [
      "100%|██████████| 300/300 [00:00<00:00, 675.94it/s]\n"
     ]
    },
    {
     "name": "stdout",
     "output_type": "stream",
     "text": [
      "Month: June | Test Loss: 0.149\n"
     ]
    },
    {
     "name": "stderr",
     "output_type": "stream",
     "text": [
      "100%|██████████| 300/300 [00:00<00:00, 746.74it/s]\n"
     ]
    },
    {
     "name": "stdout",
     "output_type": "stream",
     "text": [
      "Month: July | Test Loss: 0.203\n"
     ]
    },
    {
     "name": "stderr",
     "output_type": "stream",
     "text": [
      "100%|██████████| 300/300 [00:00<00:00, 739.21it/s]\n"
     ]
    },
    {
     "name": "stdout",
     "output_type": "stream",
     "text": [
      "Month: August | Test Loss: 0.219\n"
     ]
    },
    {
     "name": "stderr",
     "output_type": "stream",
     "text": [
      "100%|██████████| 300/300 [00:00<00:00, 857.06it/s]\n"
     ]
    },
    {
     "name": "stdout",
     "output_type": "stream",
     "text": [
      "Month: September | Test Loss: 0.136\n"
     ]
    },
    {
     "name": "stderr",
     "output_type": "stream",
     "text": [
      "100%|██████████| 300/300 [00:00<00:00, 854.12it/s]\n"
     ]
    },
    {
     "name": "stdout",
     "output_type": "stream",
     "text": [
      "Month: October | Test Loss: 0.154\n"
     ]
    },
    {
     "name": "stderr",
     "output_type": "stream",
     "text": [
      "100%|██████████| 300/300 [00:00<00:00, 857.35it/s]\n"
     ]
    },
    {
     "name": "stdout",
     "output_type": "stream",
     "text": [
      "Month: November | Test Loss: 0.264\n"
     ]
    },
    {
     "name": "stderr",
     "output_type": "stream",
     "text": [
      "100%|██████████| 300/300 [00:00<00:00, 751.90it/s]\n"
     ]
    },
    {
     "name": "stdout",
     "output_type": "stream",
     "text": [
      "Month: December | Test Loss: 0.230\n",
      "LR: 0.001 | Weight Decay: 0.005\n"
     ]
    },
    {
     "name": "stderr",
     "output_type": "stream",
     "text": [
      "100%|██████████| 300/300 [00:00<00:00, 849.58it/s]\n"
     ]
    },
    {
     "name": "stdout",
     "output_type": "stream",
     "text": [
      "Month: January | Test Loss: 0.225\n"
     ]
    },
    {
     "name": "stderr",
     "output_type": "stream",
     "text": [
      "100%|██████████| 300/300 [00:00<00:00, 914.15it/s]\n"
     ]
    },
    {
     "name": "stdout",
     "output_type": "stream",
     "text": [
      "Month: February | Test Loss: 0.158\n"
     ]
    },
    {
     "name": "stderr",
     "output_type": "stream",
     "text": [
      "100%|██████████| 300/300 [00:00<00:00, 795.80it/s]\n"
     ]
    },
    {
     "name": "stdout",
     "output_type": "stream",
     "text": [
      "Month: March | Test Loss: 0.352\n"
     ]
    },
    {
     "name": "stderr",
     "output_type": "stream",
     "text": [
      "100%|██████████| 300/300 [00:00<00:00, 822.08it/s]\n"
     ]
    },
    {
     "name": "stdout",
     "output_type": "stream",
     "text": [
      "Month: April | Test Loss: 0.206\n"
     ]
    },
    {
     "name": "stderr",
     "output_type": "stream",
     "text": [
      "100%|██████████| 300/300 [00:00<00:00, 733.65it/s]\n"
     ]
    },
    {
     "name": "stdout",
     "output_type": "stream",
     "text": [
      "Month: May | Test Loss: 0.266\n"
     ]
    },
    {
     "name": "stderr",
     "output_type": "stream",
     "text": [
      "100%|██████████| 300/300 [00:00<00:00, 871.23it/s]\n"
     ]
    },
    {
     "name": "stdout",
     "output_type": "stream",
     "text": [
      "Month: June | Test Loss: 0.149\n"
     ]
    },
    {
     "name": "stderr",
     "output_type": "stream",
     "text": [
      "100%|██████████| 300/300 [00:00<00:00, 822.08it/s]\n"
     ]
    },
    {
     "name": "stdout",
     "output_type": "stream",
     "text": [
      "Month: July | Test Loss: 0.203\n"
     ]
    },
    {
     "name": "stderr",
     "output_type": "stream",
     "text": [
      "100%|██████████| 300/300 [00:00<00:00, 824.16it/s]\n"
     ]
    },
    {
     "name": "stdout",
     "output_type": "stream",
     "text": [
      "Month: August | Test Loss: 0.219\n"
     ]
    },
    {
     "name": "stderr",
     "output_type": "stream",
     "text": [
      "100%|██████████| 300/300 [00:00<00:00, 740.04it/s]\n"
     ]
    },
    {
     "name": "stdout",
     "output_type": "stream",
     "text": [
      "Month: September | Test Loss: 0.136\n"
     ]
    },
    {
     "name": "stderr",
     "output_type": "stream",
     "text": [
      "100%|██████████| 300/300 [00:00<00:00, 817.46it/s]\n"
     ]
    },
    {
     "name": "stdout",
     "output_type": "stream",
     "text": [
      "Month: October | Test Loss: 0.154\n"
     ]
    },
    {
     "name": "stderr",
     "output_type": "stream",
     "text": [
      "100%|██████████| 300/300 [00:00<00:00, 829.04it/s]\n"
     ]
    },
    {
     "name": "stdout",
     "output_type": "stream",
     "text": [
      "Month: November | Test Loss: 0.263\n"
     ]
    },
    {
     "name": "stderr",
     "output_type": "stream",
     "text": [
      "100%|██████████| 300/300 [00:00<00:00, 838.56it/s]\n"
     ]
    },
    {
     "name": "stdout",
     "output_type": "stream",
     "text": [
      "Month: December | Test Loss: 0.230\n",
      "LR: 0.001 | Weight Decay: 0.05\n"
     ]
    },
    {
     "name": "stderr",
     "output_type": "stream",
     "text": [
      "100%|██████████| 300/300 [00:00<00:00, 728.54it/s]\n"
     ]
    },
    {
     "name": "stdout",
     "output_type": "stream",
     "text": [
      "Month: January | Test Loss: 0.235\n"
     ]
    },
    {
     "name": "stderr",
     "output_type": "stream",
     "text": [
      "100%|██████████| 300/300 [00:00<00:00, 841.44it/s]\n"
     ]
    },
    {
     "name": "stdout",
     "output_type": "stream",
     "text": [
      "Month: February | Test Loss: 0.170\n"
     ]
    },
    {
     "name": "stderr",
     "output_type": "stream",
     "text": [
      "100%|██████████| 300/300 [00:00<00:00, 730.13it/s]\n"
     ]
    },
    {
     "name": "stdout",
     "output_type": "stream",
     "text": [
      "Month: March | Test Loss: 0.349\n"
     ]
    },
    {
     "name": "stderr",
     "output_type": "stream",
     "text": [
      "100%|██████████| 300/300 [00:00<00:00, 739.30it/s]\n"
     ]
    },
    {
     "name": "stdout",
     "output_type": "stream",
     "text": [
      "Month: April | Test Loss: 0.207\n"
     ]
    },
    {
     "name": "stderr",
     "output_type": "stream",
     "text": [
      "100%|██████████| 300/300 [00:00<00:00, 725.72it/s]\n"
     ]
    },
    {
     "name": "stdout",
     "output_type": "stream",
     "text": [
      "Month: May | Test Loss: 0.267\n"
     ]
    },
    {
     "name": "stderr",
     "output_type": "stream",
     "text": [
      "100%|██████████| 300/300 [00:00<00:00, 838.79it/s]\n"
     ]
    },
    {
     "name": "stdout",
     "output_type": "stream",
     "text": [
      "Month: June | Test Loss: 0.153\n"
     ]
    },
    {
     "name": "stderr",
     "output_type": "stream",
     "text": [
      "100%|██████████| 300/300 [00:00<00:00, 839.47it/s]\n"
     ]
    },
    {
     "name": "stdout",
     "output_type": "stream",
     "text": [
      "Month: July | Test Loss: 0.203\n"
     ]
    },
    {
     "name": "stderr",
     "output_type": "stream",
     "text": [
      "100%|██████████| 300/300 [00:00<00:00, 827.86it/s]\n"
     ]
    },
    {
     "name": "stdout",
     "output_type": "stream",
     "text": [
      "Month: August | Test Loss: 0.217\n"
     ]
    },
    {
     "name": "stderr",
     "output_type": "stream",
     "text": [
      "100%|██████████| 300/300 [00:00<00:00, 792.51it/s]\n"
     ]
    },
    {
     "name": "stdout",
     "output_type": "stream",
     "text": [
      "Month: September | Test Loss: 0.137\n"
     ]
    },
    {
     "name": "stderr",
     "output_type": "stream",
     "text": [
      "100%|██████████| 300/300 [00:00<00:00, 730.22it/s]\n"
     ]
    },
    {
     "name": "stdout",
     "output_type": "stream",
     "text": [
      "Month: October | Test Loss: 0.156\n"
     ]
    },
    {
     "name": "stderr",
     "output_type": "stream",
     "text": [
      "100%|██████████| 300/300 [00:00<00:00, 882.88it/s]\n"
     ]
    },
    {
     "name": "stdout",
     "output_type": "stream",
     "text": [
      "Month: November | Test Loss: 0.264\n"
     ]
    },
    {
     "name": "stderr",
     "output_type": "stream",
     "text": [
      "100%|██████████| 300/300 [00:00<00:00, 791.45it/s]\n"
     ]
    },
    {
     "name": "stdout",
     "output_type": "stream",
     "text": [
      "Month: December | Test Loss: 0.235\n",
      "LR: 0.01 | Weight Decay: 0.0005\n"
     ]
    },
    {
     "name": "stderr",
     "output_type": "stream",
     "text": [
      "100%|██████████| 300/300 [00:00<00:00, 764.44it/s]\n"
     ]
    },
    {
     "name": "stdout",
     "output_type": "stream",
     "text": [
      "Month: January | Test Loss: 0.246\n"
     ]
    },
    {
     "name": "stderr",
     "output_type": "stream",
     "text": [
      "100%|██████████| 300/300 [00:00<00:00, 753.64it/s]\n"
     ]
    },
    {
     "name": "stdout",
     "output_type": "stream",
     "text": [
      "Month: February | Test Loss: 0.084\n"
     ]
    },
    {
     "name": "stderr",
     "output_type": "stream",
     "text": [
      "100%|██████████| 300/300 [00:00<00:00, 829.69it/s]\n"
     ]
    },
    {
     "name": "stdout",
     "output_type": "stream",
     "text": [
      "Month: March | Test Loss: 0.317\n"
     ]
    },
    {
     "name": "stderr",
     "output_type": "stream",
     "text": [
      "100%|██████████| 300/300 [00:00<00:00, 741.26it/s]\n"
     ]
    },
    {
     "name": "stdout",
     "output_type": "stream",
     "text": [
      "Month: April | Test Loss: 0.214\n"
     ]
    },
    {
     "name": "stderr",
     "output_type": "stream",
     "text": [
      "100%|██████████| 300/300 [00:00<00:00, 746.25it/s]\n"
     ]
    },
    {
     "name": "stdout",
     "output_type": "stream",
     "text": [
      "Month: May | Test Loss: 0.274\n"
     ]
    },
    {
     "name": "stderr",
     "output_type": "stream",
     "text": [
      "100%|██████████| 300/300 [00:00<00:00, 638.41it/s]\n"
     ]
    },
    {
     "name": "stdout",
     "output_type": "stream",
     "text": [
      "Month: June | Test Loss: 0.136\n"
     ]
    },
    {
     "name": "stderr",
     "output_type": "stream",
     "text": [
      "100%|██████████| 300/300 [00:00<00:00, 732.14it/s]\n"
     ]
    },
    {
     "name": "stdout",
     "output_type": "stream",
     "text": [
      "Month: July | Test Loss: 0.201\n"
     ]
    },
    {
     "name": "stderr",
     "output_type": "stream",
     "text": [
      "100%|██████████| 300/300 [00:00<00:00, 771.11it/s]\n"
     ]
    },
    {
     "name": "stdout",
     "output_type": "stream",
     "text": [
      "Month: August | Test Loss: 0.208\n"
     ]
    },
    {
     "name": "stderr",
     "output_type": "stream",
     "text": [
      "100%|██████████| 300/300 [00:00<00:00, 812.76it/s]\n"
     ]
    },
    {
     "name": "stdout",
     "output_type": "stream",
     "text": [
      "Month: September | Test Loss: 0.125\n"
     ]
    },
    {
     "name": "stderr",
     "output_type": "stream",
     "text": [
      "100%|██████████| 300/300 [00:00<00:00, 585.60it/s]\n"
     ]
    },
    {
     "name": "stdout",
     "output_type": "stream",
     "text": [
      "Month: October | Test Loss: 0.157\n"
     ]
    },
    {
     "name": "stderr",
     "output_type": "stream",
     "text": [
      "100%|██████████| 300/300 [00:00<00:00, 729.57it/s]\n"
     ]
    },
    {
     "name": "stdout",
     "output_type": "stream",
     "text": [
      "Month: November | Test Loss: 0.285\n"
     ]
    },
    {
     "name": "stderr",
     "output_type": "stream",
     "text": [
      "100%|██████████| 300/300 [00:00<00:00, 826.64it/s]\n"
     ]
    },
    {
     "name": "stdout",
     "output_type": "stream",
     "text": [
      "Month: December | Test Loss: 0.209\n",
      "LR: 0.01 | Weight Decay: 0.005\n"
     ]
    },
    {
     "name": "stderr",
     "output_type": "stream",
     "text": [
      "100%|██████████| 300/300 [00:00<00:00, 817.83it/s]\n"
     ]
    },
    {
     "name": "stdout",
     "output_type": "stream",
     "text": [
      "Month: January | Test Loss: 0.239\n"
     ]
    },
    {
     "name": "stderr",
     "output_type": "stream",
     "text": [
      "100%|██████████| 300/300 [00:00<00:00, 872.64it/s]\n"
     ]
    },
    {
     "name": "stdout",
     "output_type": "stream",
     "text": [
      "Month: February | Test Loss: 0.088\n"
     ]
    },
    {
     "name": "stderr",
     "output_type": "stream",
     "text": [
      "100%|██████████| 300/300 [00:00<00:00, 642.21it/s]\n"
     ]
    },
    {
     "name": "stdout",
     "output_type": "stream",
     "text": [
      "Month: March | Test Loss: 0.316\n"
     ]
    },
    {
     "name": "stderr",
     "output_type": "stream",
     "text": [
      "100%|██████████| 300/300 [00:00<00:00, 777.47it/s]\n"
     ]
    },
    {
     "name": "stdout",
     "output_type": "stream",
     "text": [
      "Month: April | Test Loss: 0.208\n"
     ]
    },
    {
     "name": "stderr",
     "output_type": "stream",
     "text": [
      "100%|██████████| 300/300 [00:00<00:00, 799.35it/s]\n"
     ]
    },
    {
     "name": "stdout",
     "output_type": "stream",
     "text": [
      "Month: May | Test Loss: 0.272\n"
     ]
    },
    {
     "name": "stderr",
     "output_type": "stream",
     "text": [
      "100%|██████████| 300/300 [00:00<00:00, 824.64it/s]\n"
     ]
    },
    {
     "name": "stdout",
     "output_type": "stream",
     "text": [
      "Month: June | Test Loss: 0.134\n"
     ]
    },
    {
     "name": "stderr",
     "output_type": "stream",
     "text": [
      "100%|██████████| 300/300 [00:00<00:00, 741.63it/s]\n"
     ]
    },
    {
     "name": "stdout",
     "output_type": "stream",
     "text": [
      "Month: July | Test Loss: 0.199\n"
     ]
    },
    {
     "name": "stderr",
     "output_type": "stream",
     "text": [
      "100%|██████████| 300/300 [00:00<00:00, 833.28it/s]\n"
     ]
    },
    {
     "name": "stdout",
     "output_type": "stream",
     "text": [
      "Month: August | Test Loss: 0.207\n"
     ]
    },
    {
     "name": "stderr",
     "output_type": "stream",
     "text": [
      "100%|██████████| 300/300 [00:00<00:00, 828.33it/s]\n"
     ]
    },
    {
     "name": "stdout",
     "output_type": "stream",
     "text": [
      "Month: September | Test Loss: 0.124\n"
     ]
    },
    {
     "name": "stderr",
     "output_type": "stream",
     "text": [
      "100%|██████████| 300/300 [00:00<00:00, 817.06it/s]\n"
     ]
    },
    {
     "name": "stdout",
     "output_type": "stream",
     "text": [
      "Month: October | Test Loss: 0.153\n"
     ]
    },
    {
     "name": "stderr",
     "output_type": "stream",
     "text": [
      "100%|██████████| 300/300 [00:00<00:00, 811.95it/s]\n"
     ]
    },
    {
     "name": "stdout",
     "output_type": "stream",
     "text": [
      "Month: November | Test Loss: 0.280\n"
     ]
    },
    {
     "name": "stderr",
     "output_type": "stream",
     "text": [
      "100%|██████████| 300/300 [00:00<00:00, 551.92it/s]\n"
     ]
    },
    {
     "name": "stdout",
     "output_type": "stream",
     "text": [
      "Month: December | Test Loss: 0.209\n",
      "LR: 0.01 | Weight Decay: 0.05\n"
     ]
    },
    {
     "name": "stderr",
     "output_type": "stream",
     "text": [
      "100%|██████████| 300/300 [00:00<00:00, 790.54it/s]\n"
     ]
    },
    {
     "name": "stdout",
     "output_type": "stream",
     "text": [
      "Month: January | Test Loss: 0.212\n"
     ]
    },
    {
     "name": "stderr",
     "output_type": "stream",
     "text": [
      "100%|██████████| 300/300 [00:00<00:00, 784.41it/s]\n"
     ]
    },
    {
     "name": "stdout",
     "output_type": "stream",
     "text": [
      "Month: February | Test Loss: 0.120\n"
     ]
    },
    {
     "name": "stderr",
     "output_type": "stream",
     "text": [
      "100%|██████████| 300/300 [00:00<00:00, 773.72it/s]\n"
     ]
    },
    {
     "name": "stdout",
     "output_type": "stream",
     "text": [
      "Month: March | Test Loss: 0.318\n"
     ]
    },
    {
     "name": "stderr",
     "output_type": "stream",
     "text": [
      "100%|██████████| 300/300 [00:00<00:00, 685.87it/s]\n"
     ]
    },
    {
     "name": "stdout",
     "output_type": "stream",
     "text": [
      "Month: April | Test Loss: 0.190\n"
     ]
    },
    {
     "name": "stderr",
     "output_type": "stream",
     "text": [
      "100%|██████████| 300/300 [00:00<00:00, 856.05it/s]\n"
     ]
    },
    {
     "name": "stdout",
     "output_type": "stream",
     "text": [
      "Month: May | Test Loss: 0.264\n"
     ]
    },
    {
     "name": "stderr",
     "output_type": "stream",
     "text": [
      "100%|██████████| 300/300 [00:00<00:00, 843.34it/s]\n"
     ]
    },
    {
     "name": "stdout",
     "output_type": "stream",
     "text": [
      "Month: June | Test Loss: 0.128\n"
     ]
    },
    {
     "name": "stderr",
     "output_type": "stream",
     "text": [
      "100%|██████████| 300/300 [00:00<00:00, 778.11it/s]\n"
     ]
    },
    {
     "name": "stdout",
     "output_type": "stream",
     "text": [
      "Month: July | Test Loss: 0.198\n"
     ]
    },
    {
     "name": "stderr",
     "output_type": "stream",
     "text": [
      "100%|██████████| 300/300 [00:00<00:00, 854.34it/s]\n"
     ]
    },
    {
     "name": "stdout",
     "output_type": "stream",
     "text": [
      "Month: August | Test Loss: 0.201\n"
     ]
    },
    {
     "name": "stderr",
     "output_type": "stream",
     "text": [
      "100%|██████████| 300/300 [00:00<00:00, 759.95it/s]\n"
     ]
    },
    {
     "name": "stdout",
     "output_type": "stream",
     "text": [
      "Month: September | Test Loss: 0.118\n"
     ]
    },
    {
     "name": "stderr",
     "output_type": "stream",
     "text": [
      "100%|██████████| 300/300 [00:00<00:00, 848.97it/s]\n"
     ]
    },
    {
     "name": "stdout",
     "output_type": "stream",
     "text": [
      "Month: October | Test Loss: 0.140\n"
     ]
    },
    {
     "name": "stderr",
     "output_type": "stream",
     "text": [
      "100%|██████████| 300/300 [00:00<00:00, 860.53it/s]\n"
     ]
    },
    {
     "name": "stdout",
     "output_type": "stream",
     "text": [
      "Month: November | Test Loss: 0.249\n"
     ]
    },
    {
     "name": "stderr",
     "output_type": "stream",
     "text": [
      "100%|██████████| 300/300 [00:00<00:00, 862.70it/s]\n"
     ]
    },
    {
     "name": "stdout",
     "output_type": "stream",
     "text": [
      "Month: December | Test Loss: 0.206\n",
      "LR: 0.1 | Weight Decay: 0.0005\n"
     ]
    },
    {
     "name": "stderr",
     "output_type": "stream",
     "text": [
      "100%|██████████| 300/300 [00:00<00:00, 726.37it/s]\n"
     ]
    },
    {
     "name": "stdout",
     "output_type": "stream",
     "text": [
      "Month: January | Test Loss: 0.368\n"
     ]
    },
    {
     "name": "stderr",
     "output_type": "stream",
     "text": [
      "100%|██████████| 300/300 [00:00<00:00, 917.18it/s]\n"
     ]
    },
    {
     "name": "stdout",
     "output_type": "stream",
     "text": [
      "Month: February | Test Loss: 0.151\n"
     ]
    },
    {
     "name": "stderr",
     "output_type": "stream",
     "text": [
      "100%|██████████| 300/300 [00:00<00:00, 833.91it/s]\n"
     ]
    },
    {
     "name": "stdout",
     "output_type": "stream",
     "text": [
      "Month: March | Test Loss: 0.396\n"
     ]
    },
    {
     "name": "stderr",
     "output_type": "stream",
     "text": [
      "100%|██████████| 300/300 [00:00<00:00, 839.49it/s]\n"
     ]
    },
    {
     "name": "stdout",
     "output_type": "stream",
     "text": [
      "Month: April | Test Loss: 0.323\n"
     ]
    },
    {
     "name": "stderr",
     "output_type": "stream",
     "text": [
      "100%|██████████| 300/300 [00:00<00:00, 731.93it/s]\n"
     ]
    },
    {
     "name": "stdout",
     "output_type": "stream",
     "text": [
      "Month: May | Test Loss: 0.371\n"
     ]
    },
    {
     "name": "stderr",
     "output_type": "stream",
     "text": [
      "100%|██████████| 300/300 [00:00<00:00, 790.35it/s]\n"
     ]
    },
    {
     "name": "stdout",
     "output_type": "stream",
     "text": [
      "Month: June | Test Loss: 0.198\n"
     ]
    },
    {
     "name": "stderr",
     "output_type": "stream",
     "text": [
      "100%|██████████| 300/300 [00:00<00:00, 813.22it/s]\n"
     ]
    },
    {
     "name": "stdout",
     "output_type": "stream",
     "text": [
      "Month: July | Test Loss: 0.276\n"
     ]
    },
    {
     "name": "stderr",
     "output_type": "stream",
     "text": [
      "100%|██████████| 300/300 [00:00<00:00, 815.87it/s]\n"
     ]
    },
    {
     "name": "stdout",
     "output_type": "stream",
     "text": [
      "Month: August | Test Loss: 0.316\n"
     ]
    },
    {
     "name": "stderr",
     "output_type": "stream",
     "text": [
      "100%|██████████| 300/300 [00:00<00:00, 847.20it/s]\n"
     ]
    },
    {
     "name": "stdout",
     "output_type": "stream",
     "text": [
      "Month: September | Test Loss: 0.170\n"
     ]
    },
    {
     "name": "stderr",
     "output_type": "stream",
     "text": [
      "100%|██████████| 300/300 [00:00<00:00, 731.62it/s]\n"
     ]
    },
    {
     "name": "stdout",
     "output_type": "stream",
     "text": [
      "Month: October | Test Loss: 0.233\n"
     ]
    },
    {
     "name": "stderr",
     "output_type": "stream",
     "text": [
      "100%|██████████| 300/300 [00:00<00:00, 875.02it/s]\n"
     ]
    },
    {
     "name": "stdout",
     "output_type": "stream",
     "text": [
      "Month: November | Test Loss: 0.462\n"
     ]
    },
    {
     "name": "stderr",
     "output_type": "stream",
     "text": [
      "100%|██████████| 300/300 [00:00<00:00, 851.11it/s]\n"
     ]
    },
    {
     "name": "stdout",
     "output_type": "stream",
     "text": [
      "Month: December | Test Loss: 0.260\n",
      "LR: 0.1 | Weight Decay: 0.005\n"
     ]
    },
    {
     "name": "stderr",
     "output_type": "stream",
     "text": [
      "100%|██████████| 300/300 [00:00<00:00, 835.82it/s]\n"
     ]
    },
    {
     "name": "stdout",
     "output_type": "stream",
     "text": [
      "Month: January | Test Loss: 0.358\n"
     ]
    },
    {
     "name": "stderr",
     "output_type": "stream",
     "text": [
      "100%|██████████| 300/300 [00:00<00:00, 769.90it/s]\n"
     ]
    },
    {
     "name": "stdout",
     "output_type": "stream",
     "text": [
      "Month: February | Test Loss: 0.130\n"
     ]
    },
    {
     "name": "stderr",
     "output_type": "stream",
     "text": [
      "100%|██████████| 300/300 [00:00<00:00, 825.34it/s]\n"
     ]
    },
    {
     "name": "stdout",
     "output_type": "stream",
     "text": [
      "Month: March | Test Loss: 0.328\n"
     ]
    },
    {
     "name": "stderr",
     "output_type": "stream",
     "text": [
      "100%|██████████| 300/300 [00:00<00:00, 853.10it/s]\n"
     ]
    },
    {
     "name": "stdout",
     "output_type": "stream",
     "text": [
      "Month: April | Test Loss: 0.240\n"
     ]
    },
    {
     "name": "stderr",
     "output_type": "stream",
     "text": [
      "100%|██████████| 300/300 [00:00<00:00, 775.49it/s]\n"
     ]
    },
    {
     "name": "stdout",
     "output_type": "stream",
     "text": [
      "Month: May | Test Loss: 0.307\n"
     ]
    },
    {
     "name": "stderr",
     "output_type": "stream",
     "text": [
      "100%|██████████| 300/300 [00:00<00:00, 841.70it/s]\n"
     ]
    },
    {
     "name": "stdout",
     "output_type": "stream",
     "text": [
      "Month: June | Test Loss: 0.149\n"
     ]
    },
    {
     "name": "stderr",
     "output_type": "stream",
     "text": [
      "100%|██████████| 300/300 [00:00<00:00, 723.56it/s]\n"
     ]
    },
    {
     "name": "stdout",
     "output_type": "stream",
     "text": [
      "Month: July | Test Loss: 0.234\n"
     ]
    },
    {
     "name": "stderr",
     "output_type": "stream",
     "text": [
      "100%|██████████| 300/300 [00:00<00:00, 818.09it/s]\n"
     ]
    },
    {
     "name": "stdout",
     "output_type": "stream",
     "text": [
      "Month: August | Test Loss: 0.267\n"
     ]
    },
    {
     "name": "stderr",
     "output_type": "stream",
     "text": [
      "100%|██████████| 300/300 [00:00<00:00, 843.30it/s]\n"
     ]
    },
    {
     "name": "stdout",
     "output_type": "stream",
     "text": [
      "Month: September | Test Loss: 0.134\n"
     ]
    },
    {
     "name": "stderr",
     "output_type": "stream",
     "text": [
      "100%|██████████| 300/300 [00:00<00:00, 850.29it/s]\n"
     ]
    },
    {
     "name": "stdout",
     "output_type": "stream",
     "text": [
      "Month: October | Test Loss: 0.194\n"
     ]
    },
    {
     "name": "stderr",
     "output_type": "stream",
     "text": [
      "100%|██████████| 300/300 [00:00<00:00, 743.18it/s]\n"
     ]
    },
    {
     "name": "stdout",
     "output_type": "stream",
     "text": [
      "Month: November | Test Loss: 0.401\n"
     ]
    },
    {
     "name": "stderr",
     "output_type": "stream",
     "text": [
      "100%|██████████| 300/300 [00:00<00:00, 849.66it/s]\n"
     ]
    },
    {
     "name": "stdout",
     "output_type": "stream",
     "text": [
      "Month: December | Test Loss: 0.236\n",
      "LR: 0.1 | Weight Decay: 0.05\n"
     ]
    },
    {
     "name": "stderr",
     "output_type": "stream",
     "text": [
      "100%|██████████| 300/300 [00:00<00:00, 841.90it/s]\n"
     ]
    },
    {
     "name": "stdout",
     "output_type": "stream",
     "text": [
      "Month: January | Test Loss: 0.216\n"
     ]
    },
    {
     "name": "stderr",
     "output_type": "stream",
     "text": [
      "100%|██████████| 300/300 [00:00<00:00, 906.49it/s]\n"
     ]
    },
    {
     "name": "stdout",
     "output_type": "stream",
     "text": [
      "Month: February | Test Loss: 0.117\n"
     ]
    },
    {
     "name": "stderr",
     "output_type": "stream",
     "text": [
      "100%|██████████| 300/300 [00:00<00:00, 811.47it/s]\n"
     ]
    },
    {
     "name": "stdout",
     "output_type": "stream",
     "text": [
      "Month: March | Test Loss: 0.314\n"
     ]
    },
    {
     "name": "stderr",
     "output_type": "stream",
     "text": [
      "100%|██████████| 300/300 [00:00<00:00, 715.20it/s]\n"
     ]
    },
    {
     "name": "stdout",
     "output_type": "stream",
     "text": [
      "Month: April | Test Loss: 0.193\n"
     ]
    },
    {
     "name": "stderr",
     "output_type": "stream",
     "text": [
      "100%|██████████| 300/300 [00:00<00:00, 842.96it/s]\n"
     ]
    },
    {
     "name": "stdout",
     "output_type": "stream",
     "text": [
      "Month: May | Test Loss: 0.267\n"
     ]
    },
    {
     "name": "stderr",
     "output_type": "stream",
     "text": [
      "100%|██████████| 300/300 [00:00<00:00, 875.28it/s]\n"
     ]
    },
    {
     "name": "stdout",
     "output_type": "stream",
     "text": [
      "Month: June | Test Loss: 0.128\n"
     ]
    },
    {
     "name": "stderr",
     "output_type": "stream",
     "text": [
      "100%|██████████| 300/300 [00:00<00:00, 842.90it/s]\n"
     ]
    },
    {
     "name": "stdout",
     "output_type": "stream",
     "text": [
      "Month: July | Test Loss: 0.200\n"
     ]
    },
    {
     "name": "stderr",
     "output_type": "stream",
     "text": [
      "100%|██████████| 300/300 [00:00<00:00, 848.17it/s]\n"
     ]
    },
    {
     "name": "stdout",
     "output_type": "stream",
     "text": [
      "Month: August | Test Loss: 0.200\n"
     ]
    },
    {
     "name": "stderr",
     "output_type": "stream",
     "text": [
      "100%|██████████| 300/300 [00:00<00:00, 776.54it/s]\n"
     ]
    },
    {
     "name": "stdout",
     "output_type": "stream",
     "text": [
      "Month: September | Test Loss: 0.114\n"
     ]
    },
    {
     "name": "stderr",
     "output_type": "stream",
     "text": [
      "100%|██████████| 300/300 [00:00<00:00, 817.05it/s]\n"
     ]
    },
    {
     "name": "stdout",
     "output_type": "stream",
     "text": [
      "Month: October | Test Loss: 0.139\n"
     ]
    },
    {
     "name": "stderr",
     "output_type": "stream",
     "text": [
      "100%|██████████| 300/300 [00:00<00:00, 865.74it/s]\n"
     ]
    },
    {
     "name": "stdout",
     "output_type": "stream",
     "text": [
      "Month: November | Test Loss: 0.254\n"
     ]
    },
    {
     "name": "stderr",
     "output_type": "stream",
     "text": [
      "100%|██████████| 300/300 [00:00<00:00, 846.91it/s]"
     ]
    },
    {
     "name": "stdout",
     "output_type": "stream",
     "text": [
      "Month: December | Test Loss: 0.209\n"
     ]
    },
    {
     "name": "stderr",
     "output_type": "stream",
     "text": [
      "\n"
     ]
    }
   ],
   "source": [
    "# Run experiments\n",
    "all_results_dict = dict()\n",
    "for lr_ in LR_GRID:\n",
    "    all_results_dict[lr_] = dict()\n",
    "    for weight_decay_ in WEIGHT_DECAY_GRID:\n",
    "        all_results_dict[lr_][weight_decay_] = dict()\n",
    "        \n",
    "        print(f\"LR: {lr_} | Weight Decay: {weight_decay_}\")\n",
    "        \n",
    "        y_pred_history = []\n",
    "        \n",
    "        # Loop over the months\n",
    "        for index, row in enumerate(selected_months):\n",
    "            all_results_dict[lr_][weight_decay_][months_name[row]] = dict()\n",
    "        \n",
    "            ###### Define month data\n",
    "            \n",
    "            x_train_month = time_series[(time_series.year.isin(train_year)) & (time_series.month == row)][train_columns].values\n",
    "            y_train_month = time_series[(time_series.year.isin(train_year)) & (time_series.month == row)]['target'].values\n",
    "            \n",
    "            x_test_month = time_series[(time_series.year==test_year) & (time_series.month == row)][train_columns].values\n",
    "            y_test_month = time_series[(time_series.year==test_year) & (time_series.month == row)]['target'].values\n",
    "            \n",
    "            # Normalize the data\n",
    "            x_mean, x_std = np.mean(x_train_month, axis=0), np.std(x_train_month, axis=0)\n",
    "            y_mean, y_std = np.mean(y_train_month), np.std(y_train_month)\n",
    "            \n",
    "            x_train_month = (x_train_month - x_mean) / x_std\n",
    "            x_test_month = (x_test_month - x_mean) / x_std\n",
    "            y_train_month = (y_train_month - y_mean) / y_std\n",
    "            y_test_month = (y_test_month - y_mean) / y_std\n",
    "            \n",
    "            # Reshape the data\n",
    "            y_train_month = y_train_month.reshape(-1, 1)\n",
    "            y_test_month = np.array(y_test_month).reshape(-1, 1)\n",
    "                        \n",
    "            train_dataset = torch.utils.data.TensorDataset(torch.tensor(x_train_month), torch.tensor(y_train_month))\n",
    "            train_dataloader = DataLoader(train_dataset, batch_size=512, shuffle=True)\n",
    "            train_iterator = iter(train_dataloader)\n",
    "            \n",
    "            ###### Define the model, optimizer, loss function and history\n",
    "            training_loss_history = []\n",
    "            \n",
    "            torch.backends.cudnn.deterministic = True\n",
    "            torch.backends.cudnn.benchmark = True\n",
    "            torch.manual_seed(random_seed)\n",
    "\n",
    "            # Create the model, optimizer, and trainer\n",
    "            # model = SimpleNN(input_dim=x_train_month.shape[1], output_dim=1, hidden_dim=5).to(DEVICE)\n",
    "            model = TwoLayerNN(input_dim=x_train_month.shape[1], output_dim=1, hidden_dim1=32, hidden_dim2=32).to(DEVICE)\n",
    "\n",
    "            optimizer = optim.SGD(\n",
    "                [param for param in model.parameters() if param.requires_grad],\n",
    "                lr=lr_,\n",
    "                momentum=0.9,\n",
    "                weight_decay=weight_decay_,\n",
    "            )\n",
    "\n",
    "            trainer = Trainer(\n",
    "                model=model,\n",
    "                criterion=nn.MSELoss(reduction='none').to(DEVICE),\n",
    "                metric=mse,\n",
    "                device=DEVICE,\n",
    "                optimizer=optimizer,\n",
    "                cast_label=False,\n",
    "            )\n",
    "            \n",
    "            ###### Training loop\n",
    "            for epoch in tqdm(range(NUM_EPOCHS)):\n",
    "            \n",
    "                # Clear gradients from the previous iteration\n",
    "                trainer.optimizer.zero_grad()\n",
    "\n",
    "                ## Training Loss\n",
    "                try:\n",
    "                    x_batch, y_batch = next(train_iterator)\n",
    "                except StopIteration:\n",
    "                    train_iterator = iter(train_dataloader)\n",
    "                    x_batch, y_batch = next(train_iterator)\n",
    "            \n",
    "                x_batch = x_batch.to(DEVICE).type(torch.float32)\n",
    "                y_batch = y_batch.to(DEVICE).type(torch.float32)\n",
    "\n",
    "                # Forward pass\n",
    "                outs_batch = trainer.model(x_batch)\n",
    "                loss_batch = trainer.criterion(outs_batch, y_batch).mean()\n",
    "                \n",
    "                training_loss_history.append(loss_batch.detach().cpu().numpy())\n",
    "            \n",
    "                # Get gradients w.r.t to parameters\n",
    "                loss_batch.backward()\n",
    "                \n",
    "                # Update the parameters\n",
    "                trainer.optimizer.step()\n",
    "                # print(f\"Epoch: {epoch} | Training Loss: {loss_batch:0.3f}\")\n",
    "                \n",
    "            ###### Test the model\n",
    "            y_pred = trainer.model(torch.tensor(x_test_month).to(DEVICE).type(torch.float32))\n",
    "            y_pred_history.append(y_pred.detach().cpu().numpy())\n",
    "            test_loss = trainer.criterion(y_pred, torch.tensor(y_test_month).to(DEVICE).type(torch.float32)).mean()\n",
    "            print(f'Month: {months_name[row]} | Test Loss: {test_loss:0.3f}')\n",
    "            \n",
    "            # Save the results in a json file\n",
    "            all_results_dict[lr_][weight_decay_][months_name[row]] = {'training_loss': training_loss_history,\n",
    "                                                        'test_loss': test_loss.detach().cpu().numpy().tolist(),\n",
    "                                                        'y_pred': y_pred.detach().cpu().numpy(),\n",
    "                                                        'y_test': y_test_month}\n",
    "    "
   ]
  },
  {
   "cell_type": "code",
   "execution_count": 46,
   "metadata": {},
   "outputs": [
    {
     "data": {
      "text/html": [
       "<div>\n",
       "<style scoped>\n",
       "    .dataframe tbody tr th:only-of-type {\n",
       "        vertical-align: middle;\n",
       "    }\n",
       "\n",
       "    .dataframe tbody tr th {\n",
       "        vertical-align: top;\n",
       "    }\n",
       "\n",
       "    .dataframe thead th {\n",
       "        text-align: right;\n",
       "    }\n",
       "</style>\n",
       "<table border=\"1\" class=\"dataframe\">\n",
       "  <thead>\n",
       "    <tr style=\"text-align: right;\">\n",
       "      <th></th>\n",
       "      <th>lr</th>\n",
       "      <th>weight_decay</th>\n",
       "      <th>month</th>\n",
       "      <th>training_loss</th>\n",
       "      <th>test_loss</th>\n",
       "      <th>y_pred</th>\n",
       "      <th>y_test</th>\n",
       "    </tr>\n",
       "  </thead>\n",
       "  <tbody>\n",
       "    <tr>\n",
       "      <th>0</th>\n",
       "      <td>0.001</td>\n",
       "      <td>0.0005</td>\n",
       "      <td>January</td>\n",
       "      <td>[1.0410495, 1.0395085, 1.0365891, 1.0324566, 1...</td>\n",
       "      <td>0.223643</td>\n",
       "      <td>[[-0.3650431], [-0.1584121], [0.32657835], [0....</td>\n",
       "      <td>[[-0.7550562991111998], [-0.2390450499711779],...</td>\n",
       "    </tr>\n",
       "    <tr>\n",
       "      <th>1</th>\n",
       "      <td>0.001</td>\n",
       "      <td>0.0005</td>\n",
       "      <td>February</td>\n",
       "      <td>[1.0478832, 1.0463213, 1.0433578, 1.0391505, 1...</td>\n",
       "      <td>0.157362</td>\n",
       "      <td>[[-0.68499446], [-0.3606039], [-0.3296895], [0...</td>\n",
       "      <td>[[-0.9031516712683557], [-0.8104662545035237],...</td>\n",
       "    </tr>\n",
       "    <tr>\n",
       "      <th>2</th>\n",
       "      <td>0.001</td>\n",
       "      <td>0.0005</td>\n",
       "      <td>March</td>\n",
       "      <td>[1.0357469, 1.0341642, 1.0311671, 1.0269113, 1...</td>\n",
       "      <td>0.352316</td>\n",
       "      <td>[[-0.61911917], [-0.6631001], [-0.60574895], [...</td>\n",
       "      <td>[[-1.0983790749259115], [-0.6997114343077211],...</td>\n",
       "    </tr>\n",
       "    <tr>\n",
       "      <th>3</th>\n",
       "      <td>0.001</td>\n",
       "      <td>0.0005</td>\n",
       "      <td>April</td>\n",
       "      <td>[1.047234, 1.0450414, 1.0408953, 1.0350202, 1....</td>\n",
       "      <td>0.205688</td>\n",
       "      <td>[[-0.39238563], [0.39328247], [0.68036014], [0...</td>\n",
       "      <td>[[-0.14403339266172416], [0.6380525348505197],...</td>\n",
       "    </tr>\n",
       "    <tr>\n",
       "      <th>4</th>\n",
       "      <td>0.001</td>\n",
       "      <td>0.0005</td>\n",
       "      <td>May</td>\n",
       "      <td>[1.0324781, 1.0307934, 1.0276039, 1.0230805, 1...</td>\n",
       "      <td>0.266403</td>\n",
       "      <td>[[-0.08374779], [0.7067292], [1.2777468], [1.6...</td>\n",
       "      <td>[[0.28163759756069223], [1.1092817503282117], ...</td>\n",
       "    </tr>\n",
       "    <tr>\n",
       "      <th>...</th>\n",
       "      <td>...</td>\n",
       "      <td>...</td>\n",
       "      <td>...</td>\n",
       "      <td>...</td>\n",
       "      <td>...</td>\n",
       "      <td>...</td>\n",
       "      <td>...</td>\n",
       "    </tr>\n",
       "    <tr>\n",
       "      <th>103</th>\n",
       "      <td>0.100</td>\n",
       "      <td>0.0500</td>\n",
       "      <td>August</td>\n",
       "      <td>[1.061693, 0.8897459, 0.6647194, 0.40750343, 0...</td>\n",
       "      <td>0.200467</td>\n",
       "      <td>[[0.037179425], [0.85049903], [1.235929], [1.6...</td>\n",
       "      <td>[[0.008877634846071198], [0.7589876401853798],...</td>\n",
       "    </tr>\n",
       "    <tr>\n",
       "      <th>104</th>\n",
       "      <td>0.100</td>\n",
       "      <td>0.0500</td>\n",
       "      <td>September</td>\n",
       "      <td>[1.0673991, 0.87044954, 0.6166231, 0.33060285,...</td>\n",
       "      <td>0.114444</td>\n",
       "      <td>[[-0.7164375], [0.27824542], [1.0103782], [1.1...</td>\n",
       "      <td>[[-0.04831608801381965], [0.7249998279737181],...</td>\n",
       "    </tr>\n",
       "    <tr>\n",
       "      <th>105</th>\n",
       "      <td>0.100</td>\n",
       "      <td>0.0500</td>\n",
       "      <td>October</td>\n",
       "      <td>[1.0184205, 0.80658394, 0.54761696, 0.32764038...</td>\n",
       "      <td>0.139434</td>\n",
       "      <td>[[-0.04662691], [0.74039024], [1.4383382], [1....</td>\n",
       "      <td>[[0.2360460131023878], [1.0503480474435902], [...</td>\n",
       "    </tr>\n",
       "    <tr>\n",
       "      <th>106</th>\n",
       "      <td>0.100</td>\n",
       "      <td>0.0500</td>\n",
       "      <td>November</td>\n",
       "      <td>[1.0192181, 0.8585372, 0.6407042, 0.4356368, 0...</td>\n",
       "      <td>0.253960</td>\n",
       "      <td>[[0.10753605], [0.6652108], [1.5967522], [1.84...</td>\n",
       "      <td>[[-0.1809419047349563], [1.158136077207435], [...</td>\n",
       "    </tr>\n",
       "    <tr>\n",
       "      <th>107</th>\n",
       "      <td>0.100</td>\n",
       "      <td>0.0500</td>\n",
       "      <td>December</td>\n",
       "      <td>[1.0329264, 0.8743341, 0.65424037, 0.4197025, ...</td>\n",
       "      <td>0.208654</td>\n",
       "      <td>[[-0.34636718], [0.08440544], [0.26511085], [1...</td>\n",
       "      <td>[[-0.7456759199765544], [-0.6598340944951315],...</td>\n",
       "    </tr>\n",
       "  </tbody>\n",
       "</table>\n",
       "<p>108 rows × 7 columns</p>\n",
       "</div>"
      ],
      "text/plain": [
       "        lr  weight_decay      month  \\\n",
       "0    0.001        0.0005    January   \n",
       "1    0.001        0.0005   February   \n",
       "2    0.001        0.0005      March   \n",
       "3    0.001        0.0005      April   \n",
       "4    0.001        0.0005        May   \n",
       "..     ...           ...        ...   \n",
       "103  0.100        0.0500     August   \n",
       "104  0.100        0.0500  September   \n",
       "105  0.100        0.0500    October   \n",
       "106  0.100        0.0500   November   \n",
       "107  0.100        0.0500   December   \n",
       "\n",
       "                                         training_loss  test_loss  \\\n",
       "0    [1.0410495, 1.0395085, 1.0365891, 1.0324566, 1...   0.223643   \n",
       "1    [1.0478832, 1.0463213, 1.0433578, 1.0391505, 1...   0.157362   \n",
       "2    [1.0357469, 1.0341642, 1.0311671, 1.0269113, 1...   0.352316   \n",
       "3    [1.047234, 1.0450414, 1.0408953, 1.0350202, 1....   0.205688   \n",
       "4    [1.0324781, 1.0307934, 1.0276039, 1.0230805, 1...   0.266403   \n",
       "..                                                 ...        ...   \n",
       "103  [1.061693, 0.8897459, 0.6647194, 0.40750343, 0...   0.200467   \n",
       "104  [1.0673991, 0.87044954, 0.6166231, 0.33060285,...   0.114444   \n",
       "105  [1.0184205, 0.80658394, 0.54761696, 0.32764038...   0.139434   \n",
       "106  [1.0192181, 0.8585372, 0.6407042, 0.4356368, 0...   0.253960   \n",
       "107  [1.0329264, 0.8743341, 0.65424037, 0.4197025, ...   0.208654   \n",
       "\n",
       "                                                y_pred  \\\n",
       "0    [[-0.3650431], [-0.1584121], [0.32657835], [0....   \n",
       "1    [[-0.68499446], [-0.3606039], [-0.3296895], [0...   \n",
       "2    [[-0.61911917], [-0.6631001], [-0.60574895], [...   \n",
       "3    [[-0.39238563], [0.39328247], [0.68036014], [0...   \n",
       "4    [[-0.08374779], [0.7067292], [1.2777468], [1.6...   \n",
       "..                                                 ...   \n",
       "103  [[0.037179425], [0.85049903], [1.235929], [1.6...   \n",
       "104  [[-0.7164375], [0.27824542], [1.0103782], [1.1...   \n",
       "105  [[-0.04662691], [0.74039024], [1.4383382], [1....   \n",
       "106  [[0.10753605], [0.6652108], [1.5967522], [1.84...   \n",
       "107  [[-0.34636718], [0.08440544], [0.26511085], [1...   \n",
       "\n",
       "                                                y_test  \n",
       "0    [[-0.7550562991111998], [-0.2390450499711779],...  \n",
       "1    [[-0.9031516712683557], [-0.8104662545035237],...  \n",
       "2    [[-1.0983790749259115], [-0.6997114343077211],...  \n",
       "3    [[-0.14403339266172416], [0.6380525348505197],...  \n",
       "4    [[0.28163759756069223], [1.1092817503282117], ...  \n",
       "..                                                 ...  \n",
       "103  [[0.008877634846071198], [0.7589876401853798],...  \n",
       "104  [[-0.04831608801381965], [0.7249998279737181],...  \n",
       "105  [[0.2360460131023878], [1.0503480474435902], [...  \n",
       "106  [[-0.1809419047349563], [1.158136077207435], [...  \n",
       "107  [[-0.7456759199765544], [-0.6598340944951315],...  \n",
       "\n",
       "[108 rows x 7 columns]"
      ]
     },
     "execution_count": 46,
     "metadata": {},
     "output_type": "execute_result"
    }
   ],
   "source": [
    "# convert this a df with the columns lr, weight_decay,  month, training_loss, test_loss, y_pred, y_test\n",
    "df = pd.DataFrame(columns=['lr', 'weight_decay', 'month', 'training_loss', 'test_loss', 'y_pred', 'y_test'])\n",
    "for lr in all_results_dict.keys():\n",
    "    for weight_decay in all_results_dict[lr].keys():\n",
    "        for month in all_results_dict[lr][weight_decay].keys():\n",
    "            df = df.append({'lr': lr,\n",
    "                            'weight_decay': weight_decay,\n",
    "                            'month': month,\n",
    "                            'training_loss': all_results_dict[lr][weight_decay][month]['training_loss'],\n",
    "                            'test_loss': all_results_dict[lr][weight_decay][month]['test_loss'],\n",
    "                            'y_pred': all_results_dict[lr][weight_decay][month]['y_pred'],\n",
    "                            'y_test': all_results_dict[lr][weight_decay][month]['y_test']}, ignore_index=True)\n",
    "            \n",
    "df"
   ]
  },
  {
   "cell_type": "code",
   "execution_count": 47,
   "metadata": {},
   "outputs": [
    {
     "data": {
      "text/plain": [
       "lr     weight_decay\n",
       "0.001  0.0005          0.213336\n",
       "       0.0050          0.213491\n",
       "       0.0500          0.215985\n",
       "0.010  0.0005          0.204618\n",
       "       0.0050          0.202314\n",
       "       0.0500          0.195351\n",
       "0.100  0.0005          0.293724\n",
       "       0.0050          0.248039\n",
       "       0.0500          0.196012\n",
       "Name: test_loss, dtype: float64"
      ]
     },
     "execution_count": 47,
     "metadata": {},
     "output_type": "execute_result"
    }
   ],
   "source": [
    "df.groupby(['lr', 'weight_decay'])['test_loss'].mean()"
   ]
  },
  {
   "cell_type": "code",
   "execution_count": 48,
   "metadata": {},
   "outputs": [
    {
     "name": "stdout",
     "output_type": "stream",
     "text": [
      "Best Learning Rate: 0.01 | Best Weight Decay: 0.05\n"
     ]
    }
   ],
   "source": [
    "best_params = df.groupby(['lr', 'weight_decay'])['test_loss'].mean().idxmin()\n",
    "print(f'Best Learning Rate: {best_params[0]} | Best Weight Decay: {best_params[1]}')"
   ]
  },
  {
   "cell_type": "code",
   "execution_count": 50,
   "metadata": {},
   "outputs": [
    {
     "data": {
      "text/html": [
       "<div>\n",
       "<style scoped>\n",
       "    .dataframe tbody tr th:only-of-type {\n",
       "        vertical-align: middle;\n",
       "    }\n",
       "\n",
       "    .dataframe tbody tr th {\n",
       "        vertical-align: top;\n",
       "    }\n",
       "\n",
       "    .dataframe thead th {\n",
       "        text-align: right;\n",
       "    }\n",
       "</style>\n",
       "<table border=\"1\" class=\"dataframe\">\n",
       "  <thead>\n",
       "    <tr style=\"text-align: right;\">\n",
       "      <th></th>\n",
       "      <th>lr</th>\n",
       "      <th>weight_decay</th>\n",
       "      <th>month</th>\n",
       "      <th>training_loss</th>\n",
       "      <th>test_loss</th>\n",
       "      <th>y_pred</th>\n",
       "      <th>y_test</th>\n",
       "    </tr>\n",
       "  </thead>\n",
       "  <tbody>\n",
       "    <tr>\n",
       "      <th>60</th>\n",
       "      <td>0.01</td>\n",
       "      <td>0.05</td>\n",
       "      <td>January</td>\n",
       "      <td>[1.0410495, 1.0257188, 0.99753505, 0.9594779, ...</td>\n",
       "      <td>0.212236</td>\n",
       "      <td>[[-0.42082125], [-0.06132765], [0.43565214], [...</td>\n",
       "      <td>[[-0.7550562991111998], [-0.2390450499711779],...</td>\n",
       "    </tr>\n",
       "    <tr>\n",
       "      <th>61</th>\n",
       "      <td>0.01</td>\n",
       "      <td>0.05</td>\n",
       "      <td>February</td>\n",
       "      <td>[1.0478832, 1.0323086, 1.0037501, 0.9652297, 0...</td>\n",
       "      <td>0.119888</td>\n",
       "      <td>[[-0.6344137], [-0.47385007], [-0.39144552], [...</td>\n",
       "      <td>[[-0.9031516712683557], [-0.8104662545035237],...</td>\n",
       "    </tr>\n",
       "    <tr>\n",
       "      <th>62</th>\n",
       "      <td>0.01</td>\n",
       "      <td>0.05</td>\n",
       "      <td>March</td>\n",
       "      <td>[1.0357469, 1.0199833, 0.99100137, 0.9516792, ...</td>\n",
       "      <td>0.317582</td>\n",
       "      <td>[[-0.5631382], [-0.71567905], [-0.45245433], [...</td>\n",
       "      <td>[[-1.0983790749259115], [-0.6997114343077211],...</td>\n",
       "    </tr>\n",
       "    <tr>\n",
       "      <th>63</th>\n",
       "      <td>0.01</td>\n",
       "      <td>0.05</td>\n",
       "      <td>April</td>\n",
       "      <td>[1.047234, 1.0254718, 0.9859648, 0.93359447, 0...</td>\n",
       "      <td>0.189900</td>\n",
       "      <td>[[-0.3885836], [0.44150952], [0.84751076], [1....</td>\n",
       "      <td>[[-0.14403339266172416], [0.6380525348505197],...</td>\n",
       "    </tr>\n",
       "    <tr>\n",
       "      <th>64</th>\n",
       "      <td>0.01</td>\n",
       "      <td>0.05</td>\n",
       "      <td>May</td>\n",
       "      <td>[1.0324781, 1.0157266, 0.98499626, 0.9433385, ...</td>\n",
       "      <td>0.264298</td>\n",
       "      <td>[[0.13754529], [0.9337808], [1.4273093], [1.80...</td>\n",
       "      <td>[[0.28163759756069223], [1.1092817503282117], ...</td>\n",
       "    </tr>\n",
       "    <tr>\n",
       "      <th>65</th>\n",
       "      <td>0.01</td>\n",
       "      <td>0.05</td>\n",
       "      <td>June</td>\n",
       "      <td>[1.0462506, 1.0244001, 0.9848007, 0.9322081, 0...</td>\n",
       "      <td>0.127695</td>\n",
       "      <td>[[-0.29647535], [0.28967103], [0.8771198], [1....</td>\n",
       "      <td>[[-0.24380578295341865], [0.6122900150782292],...</td>\n",
       "    </tr>\n",
       "    <tr>\n",
       "      <th>66</th>\n",
       "      <td>0.01</td>\n",
       "      <td>0.05</td>\n",
       "      <td>July</td>\n",
       "      <td>[1.0583369, 1.037182, 0.9986441, 0.9476687, 0....</td>\n",
       "      <td>0.197780</td>\n",
       "      <td>[[-0.40275928], [0.333774], [0.95848703], [0.9...</td>\n",
       "      <td>[[-0.4637311126856533], [0.5075336356119289], ...</td>\n",
       "    </tr>\n",
       "    <tr>\n",
       "      <th>67</th>\n",
       "      <td>0.01</td>\n",
       "      <td>0.05</td>\n",
       "      <td>August</td>\n",
       "      <td>[1.061693, 1.0425462, 1.007744, 0.96121883, 0....</td>\n",
       "      <td>0.201229</td>\n",
       "      <td>[[0.002902504], [0.7949453], [1.2795186], [1.7...</td>\n",
       "      <td>[[0.008877634846071198], [0.7589876401853798],...</td>\n",
       "    </tr>\n",
       "    <tr>\n",
       "      <th>68</th>\n",
       "      <td>0.01</td>\n",
       "      <td>0.05</td>\n",
       "      <td>September</td>\n",
       "      <td>[1.0673991, 1.0448937, 1.003879, 0.9496694, 0....</td>\n",
       "      <td>0.118222</td>\n",
       "      <td>[[-0.70230126], [0.2764426], [1.0021865], [1.1...</td>\n",
       "      <td>[[-0.04831608801381965], [0.7249998279737181],...</td>\n",
       "    </tr>\n",
       "    <tr>\n",
       "      <th>69</th>\n",
       "      <td>0.01</td>\n",
       "      <td>0.05</td>\n",
       "      <td>October</td>\n",
       "      <td>[1.0184205, 0.99433494, 0.95084494, 0.8936047,...</td>\n",
       "      <td>0.140057</td>\n",
       "      <td>[[-0.07085953], [0.7312055], [1.4490563], [1.6...</td>\n",
       "      <td>[[0.2360460131023878], [1.0503480474435902], [...</td>\n",
       "    </tr>\n",
       "    <tr>\n",
       "      <th>70</th>\n",
       "      <td>0.01</td>\n",
       "      <td>0.05</td>\n",
       "      <td>November</td>\n",
       "      <td>[1.0192181, 1.0014492, 0.9689691, 0.92527986, ...</td>\n",
       "      <td>0.248875</td>\n",
       "      <td>[[0.03741631], [0.62286997], [1.587369], [1.85...</td>\n",
       "      <td>[[-0.1809419047349563], [1.158136077207435], [...</td>\n",
       "    </tr>\n",
       "    <tr>\n",
       "      <th>71</th>\n",
       "      <td>0.01</td>\n",
       "      <td>0.05</td>\n",
       "      <td>December</td>\n",
       "      <td>[1.0329264, 1.0155052, 0.9835195, 0.94051355, ...</td>\n",
       "      <td>0.206451</td>\n",
       "      <td>[[-0.3926599], [0.08589229], [0.29621544], [1....</td>\n",
       "      <td>[[-0.7456759199765544], [-0.6598340944951315],...</td>\n",
       "    </tr>\n",
       "  </tbody>\n",
       "</table>\n",
       "</div>"
      ],
      "text/plain": [
       "      lr  weight_decay      month  \\\n",
       "60  0.01          0.05    January   \n",
       "61  0.01          0.05   February   \n",
       "62  0.01          0.05      March   \n",
       "63  0.01          0.05      April   \n",
       "64  0.01          0.05        May   \n",
       "65  0.01          0.05       June   \n",
       "66  0.01          0.05       July   \n",
       "67  0.01          0.05     August   \n",
       "68  0.01          0.05  September   \n",
       "69  0.01          0.05    October   \n",
       "70  0.01          0.05   November   \n",
       "71  0.01          0.05   December   \n",
       "\n",
       "                                        training_loss  test_loss  \\\n",
       "60  [1.0410495, 1.0257188, 0.99753505, 0.9594779, ...   0.212236   \n",
       "61  [1.0478832, 1.0323086, 1.0037501, 0.9652297, 0...   0.119888   \n",
       "62  [1.0357469, 1.0199833, 0.99100137, 0.9516792, ...   0.317582   \n",
       "63  [1.047234, 1.0254718, 0.9859648, 0.93359447, 0...   0.189900   \n",
       "64  [1.0324781, 1.0157266, 0.98499626, 0.9433385, ...   0.264298   \n",
       "65  [1.0462506, 1.0244001, 0.9848007, 0.9322081, 0...   0.127695   \n",
       "66  [1.0583369, 1.037182, 0.9986441, 0.9476687, 0....   0.197780   \n",
       "67  [1.061693, 1.0425462, 1.007744, 0.96121883, 0....   0.201229   \n",
       "68  [1.0673991, 1.0448937, 1.003879, 0.9496694, 0....   0.118222   \n",
       "69  [1.0184205, 0.99433494, 0.95084494, 0.8936047,...   0.140057   \n",
       "70  [1.0192181, 1.0014492, 0.9689691, 0.92527986, ...   0.248875   \n",
       "71  [1.0329264, 1.0155052, 0.9835195, 0.94051355, ...   0.206451   \n",
       "\n",
       "                                               y_pred  \\\n",
       "60  [[-0.42082125], [-0.06132765], [0.43565214], [...   \n",
       "61  [[-0.6344137], [-0.47385007], [-0.39144552], [...   \n",
       "62  [[-0.5631382], [-0.71567905], [-0.45245433], [...   \n",
       "63  [[-0.3885836], [0.44150952], [0.84751076], [1....   \n",
       "64  [[0.13754529], [0.9337808], [1.4273093], [1.80...   \n",
       "65  [[-0.29647535], [0.28967103], [0.8771198], [1....   \n",
       "66  [[-0.40275928], [0.333774], [0.95848703], [0.9...   \n",
       "67  [[0.002902504], [0.7949453], [1.2795186], [1.7...   \n",
       "68  [[-0.70230126], [0.2764426], [1.0021865], [1.1...   \n",
       "69  [[-0.07085953], [0.7312055], [1.4490563], [1.6...   \n",
       "70  [[0.03741631], [0.62286997], [1.587369], [1.85...   \n",
       "71  [[-0.3926599], [0.08589229], [0.29621544], [1....   \n",
       "\n",
       "                                               y_test  \n",
       "60  [[-0.7550562991111998], [-0.2390450499711779],...  \n",
       "61  [[-0.9031516712683557], [-0.8104662545035237],...  \n",
       "62  [[-1.0983790749259115], [-0.6997114343077211],...  \n",
       "63  [[-0.14403339266172416], [0.6380525348505197],...  \n",
       "64  [[0.28163759756069223], [1.1092817503282117], ...  \n",
       "65  [[-0.24380578295341865], [0.6122900150782292],...  \n",
       "66  [[-0.4637311126856533], [0.5075336356119289], ...  \n",
       "67  [[0.008877634846071198], [0.7589876401853798],...  \n",
       "68  [[-0.04831608801381965], [0.7249998279737181],...  \n",
       "69  [[0.2360460131023878], [1.0503480474435902], [...  \n",
       "70  [[-0.1809419047349563], [1.158136077207435], [...  \n",
       "71  [[-0.7456759199765544], [-0.6598340944951315],...  "
      ]
     },
     "execution_count": 50,
     "metadata": {},
     "output_type": "execute_result"
    }
   ],
   "source": [
    "df[df.lr==best_params[0]][df.weight_decay==best_params[1]]"
   ]
  },
  {
   "cell_type": "code",
   "execution_count": 52,
   "metadata": {},
   "outputs": [
    {
     "data": {
      "image/png": "[encoded data removed]",
      "text/plain": [
       "<Figure size 1000x500 with 1 Axes>"
      ]
     },
     "metadata": {},
     "output_type": "display_data"
    }
   ],
   "source": [
    "month = 'June'\n",
    "plt.figure(figsize=(10, 5))\n",
    "plt.plot(df[df.lr==best_params[0]][df.weight_decay==best_params[1]][df.month==month]['y_test'].values[0], label='True')\n",
    "plt.plot(df[df.lr==best_params[0]][df.weight_decay==best_params[1]][df.month==month]['y_pred'].values[0], label='Predicted')\n",
    "plt.title(f'True vs Predicted - {month} - Loss: {df[df.lr==best_params[0]][df.weight_decay==best_params[1]][df.month==month][\"test_loss\"].values[0]:0.5f}')\n",
    "plt.xlabel('Sample')\n",
    "plt.ylabel('Power [W]')\n",
    "plt.legend()\n",
    "plt.show()"
   ]
  },
  {
   "cell_type": "markdown",
   "metadata": {},
   "source": [
    "> Similar results, but the model is less likely to overfit, since it only has one month of data."
   ]
  },
  {
   "cell_type": "markdown",
   "metadata": {},
   "source": [
    "### 3. Streaming model, shifting window\n",
    "\n",
    "> Train a model using a week of data, predict the same week of the next year. Shift the window one day at a time and average the results for the same days. "
   ]
  },
  {
   "cell_type": "code",
   "execution_count": null,
   "metadata": {},
   "outputs": [],
   "source": [
    "train_year = [2018]\n",
    "valid_year = 2019\n",
    "\n",
    "selected_months = [7, 8, 9]\n",
    "\n",
    "x_train = time_series[(time_series.year.isin(train_year)) & (time_series.month.isin(selected_months))][train_columns].values\n",
    "y_train = time_series[(time_series.year.isin(train_year)) & (time_series.month.isin(selected_months))]['target'].values\n",
    "\n",
    "x_valid = time_series[(time_series.year==valid_year) & (time_series.month.isin(selected_months))][train_columns].values\n",
    "y_valid = time_series[(time_series.year==valid_year) & (time_series.month.isin(selected_months))]['target'].values\n",
    "\n",
    "x_train.shape, y_train.shape, x_valid.shape, y_valid.shape"
   ]
  },
  {
   "cell_type": "code",
   "execution_count": null,
   "metadata": {},
   "outputs": [],
   "source": [
    "TOTAL_TRAIN_SAMPLES = len(x_train)\n",
    "WINDOW_SIZE = 7*(hour_end-hour_begin) # window of 7 days\n",
    "\n",
    "N_ARRIVALS_PER_ROUND = 1*(hour_end-hour_begin) # shift by 1 day\n",
    "\n",
    "TIME_HORIZON = int((TOTAL_TRAIN_SAMPLES-WINDOW_SIZE)/N_ARRIVALS_PER_ROUND)\n",
    "\n",
    "NUM_EPOCHS = 300\n",
    "\n",
    "LR_GRID = [1e-2]\n",
    "SEED_GRID = [1956]\n",
    "\n",
    "SAVE_PATH = 'scenario3.json'\n",
    "\n",
    "if torch.cuda.is_available():\n",
    "    DEVICE = \"cuda\"\n",
    "else:\n",
    "    DEVICE = \"cpu\"\n",
    "# DEVICE = 'mps'\n",
    "\n",
    "print(\"DEVICE:\", DEVICE)"
   ]
  },
  {
   "cell_type": "code",
   "execution_count": null,
   "metadata": {},
   "outputs": [],
   "source": [
    "all_results_dict = dict()\n",
    "\n",
    "for seed_ in SEED_GRID:\n",
    "    all_results_dict[seed_] = dict()\n",
    "    for lr_ in LR_GRID:\n",
    "        all_results_dict[seed_][lr_] = dict()\n",
    "        torch.backends.cudnn.deterministic = True\n",
    "        torch.backends.cudnn.benchmark = True\n",
    "        torch.manual_seed(seed_)\n",
    "        \n",
    "        start_index = 0\n",
    "\n",
    "        for step in tqdm(range(1, TIME_HORIZON+1)):\n",
    "            all_results_dict[seed_][lr_][step] = dict()\n",
    "            # Get the current window of data\n",
    "            x_train_window = x_train[start_index:start_index+WINDOW_SIZE, :]\n",
    "            y_train_window = y_train[start_index:start_index+WINDOW_SIZE]\n",
    "            \n",
    "            x_mean, x_std = np.mean(x_train_window, axis=0), np.std(x_train_window, axis=0)\n",
    "            y_mean, y_std = np.mean(y_train_window), np.std(y_train_window)\n",
    "            \n",
    "            x_train_window = (x_train_window - x_mean) / x_std\n",
    "            y_train_window = (y_train_window - y_mean) / y_std\n",
    "            y_train_window = np.array(y_train_window).reshape(-1, 1)\n",
    "            \n",
    "            train_dataset = torch.utils.data.TensorDataset(torch.tensor(x_train_window), torch.tensor(y_train_window))\n",
    "            train_dataloader = DataLoader(train_dataset, batch_size=WINDOW_SIZE, shuffle=True)\n",
    "            train_iterator = iter(train_dataloader)\n",
    "            \n",
    "            # Create the model, optimizer, and trainer\n",
    "            model = SimpleNN(input_dim=x_train.shape[1], output_dim=1, hidden_dim=5).to(DEVICE)\n",
    "            \n",
    "            training_loss_history = []\n",
    "\n",
    "            optimizer = optim.SGD(\n",
    "                [param for param in model.parameters() if param.requires_grad],\n",
    "                lr=lr_,\n",
    "                momentum=0.9,\n",
    "                weight_decay=5e-4\n",
    "            )\n",
    "\n",
    "            trainer = Trainer(\n",
    "                model=model,\n",
    "                criterion=nn.MSELoss(reduction='none').to(DEVICE),\n",
    "                metric=mse,\n",
    "                device=DEVICE,\n",
    "                optimizer=optimizer,\n",
    "                cast_label=False,\n",
    "            )\n",
    "            \n",
    "            for epoch in range(NUM_EPOCHS):\n",
    "                # Clear gradients from the previous iteration\n",
    "                trainer.optimizer.zero_grad()\n",
    "\n",
    "                ## Training Loss\n",
    "                try:\n",
    "                    x_stream, y_stream = next(train_iterator)\n",
    "                except StopIteration:\n",
    "                    train_iterator = iter(train_dataloader)\n",
    "                    x_stream, y_stream = next(train_iterator)\n",
    "            \n",
    "                x_stream = x_stream.to(DEVICE).type(torch.float32)\n",
    "                y_stream = y_stream.to(DEVICE).type(torch.float32)\n",
    "\n",
    "                # Forward pass\n",
    "                outs_stream = trainer.model(x_stream)\n",
    "                loss_stream = trainer.criterion(outs_stream, y_stream).mean()\n",
    "                loss = loss_stream\n",
    "                \n",
    "                training_loss_history.append(loss_stream.detach().cpu().numpy())\n",
    "            \n",
    "                # Get gradients w.r.t to parameters\n",
    "                loss.backward()\n",
    "                \n",
    "                # Update the parameters\n",
    "                trainer.optimizer.step()\n",
    "                # print(f\"Step: {step} | Epoch: {epoch} | Training Loss: {loss:0.3f}\")\n",
    "                \n",
    "            # Predict the values\n",
    "            x_valid_window = (x_valid[start_index:start_index+WINDOW_SIZE, :] - x_mean) / x_std\n",
    "            y_valid_window = (y_valid[start_index:start_index+WINDOW_SIZE] - y_mean) / y_std\n",
    "            y_valid_window = np.array(y_valid_window).reshape(-1, 1)\n",
    "            \n",
    "            x_valid_window = torch.tensor(x_valid_window).to(DEVICE).type(torch.float32)\n",
    "            y_valid_window = torch.tensor(y_valid_window).to(DEVICE).type(torch.float32)\n",
    "            \n",
    "            outs_valid_window = trainer.model(x_valid_window)\n",
    "            \n",
    "            # Compute prediction loss\n",
    "            loss_pred = trainer.criterion(outs_valid_window, y_valid_window).mean()\n",
    "            \n",
    "            # Update the start index\n",
    "            start_index += N_ARRIVALS_PER_ROUND\n",
    "            \n",
    "            # save the results\n",
    "            all_results_dict[seed_][lr_][step] = {'training_loss': training_loss_history,\n",
    "                                                  'prediction_loss': loss_pred.detach().cpu().numpy().tolist(),\n",
    "                                                  'outs_valid': outs_valid_window.detach().cpu().numpy(),\n",
    "                                                  'y_valid': y_valid_window.detach().cpu().numpy()}\n",
    "            \n",
    "        \n",
    "        # Save the results in a json file\n",
    "        with open(SAVE_PATH, 'w') as f:\n",
    "            json.dump(all_results_dict, f, default=lambda x: x.tolist())"
   ]
  },
  {
   "cell_type": "code",
   "execution_count": null,
   "metadata": {},
   "outputs": [],
   "source": [
    "# read the results\n",
    "with open(SAVE_PATH, 'r') as f:\n",
    "    all_results_dict = json.load(f)\n",
    "\n",
    "# convert this a df with the columns seed, lr, step, training_loss, prediction_loss, outs_valid, y_valid\n",
    "df = pd.DataFrame(columns=['seed', 'lr', 'step', 'training_loss', 'prediction_loss', 'outs_valid', 'y_valid'])\n",
    "for seed in all_results_dict.keys():\n",
    "    for lr in all_results_dict[seed].keys():\n",
    "        for step in all_results_dict[seed][lr].keys():\n",
    "            df = df.append({'seed': seed,\n",
    "                            'lr': lr,\n",
    "                            'step': step,\n",
    "                            'training_loss': all_results_dict[seed][lr][step]['training_loss'],\n",
    "                            'prediction_loss': all_results_dict[seed][lr][step]['prediction_loss'],\n",
    "                            'outs_valid': all_results_dict[seed][lr][step]['outs_valid'],\n",
    "                            'y_valid': all_results_dict[seed][lr][step]['y_valid']}, ignore_index=True)\n",
    "        \n",
    "df.head(3)"
   ]
  },
  {
   "cell_type": "code",
   "execution_count": null,
   "metadata": {},
   "outputs": [],
   "source": [
    "seed = '1956'\n",
    "lr = '0.01'\n",
    "\n",
    "outs_valid = df[(df.seed == seed) & (df.lr == lr)]['outs_valid'].values\n",
    "y_valid_values = df[(df.seed == seed) & (df.lr == lr)]['y_valid'].values"
   ]
  },
  {
   "cell_type": "code",
   "execution_count": null,
   "metadata": {},
   "outputs": [],
   "source": [
    "outs_valid = np.array(outs_valid.tolist()).reshape(-1, WINDOW_SIZE)\n",
    "outs_valid"
   ]
  },
  {
   "cell_type": "code",
   "execution_count": null,
   "metadata": {},
   "outputs": [],
   "source": [
    "y_final = np.full((outs_valid.shape[0], 910), np.nan)\n",
    "\n",
    "# for each row of outs_valid, fill the corresponding row of y_final shifting by 10 columns each time\n",
    "for i in range(outs_valid.shape[0]):\n",
    "    y_final[i, i*(hour_end-hour_begin):i*(hour_end-hour_begin)+WINDOW_SIZE] = outs_valid[i]"
   ]
  },
  {
   "cell_type": "code",
   "execution_count": null,
   "metadata": {},
   "outputs": [],
   "source": [
    "y_final_df = pd.DataFrame(y_final)\n",
    "y_final_df.shape"
   ]
  },
  {
   "cell_type": "code",
   "execution_count": null,
   "metadata": {},
   "outputs": [],
   "source": [
    "y_final_df.head(3)"
   ]
  },
  {
   "cell_type": "code",
   "execution_count": null,
   "metadata": {},
   "outputs": [],
   "source": [
    "# compute the mean and std of each column\n",
    "y_final_mean = y_final_df.mean(axis=0)\n",
    "y_final_std = y_final_df.std(axis=0)"
   ]
  },
  {
   "cell_type": "code",
   "execution_count": null,
   "metadata": {},
   "outputs": [],
   "source": [
    "loss = np.mean((y_final_mean - y_valid[0:910].flatten())**2)\n",
    "loss"
   ]
  },
  {
   "cell_type": "code",
   "execution_count": null,
   "metadata": {},
   "outputs": [],
   "source": [
    "# plot the mean and std using fill_between of the first 70 columns\n",
    "plt.figure(figsize=(15, 5))\n",
    "plt.plot(y_final_mean[70:140], label='Predicted power')\n",
    "plt.fill_between(np.arange(70, 140), y_final_mean[70:140] - y_final_std[70:140], y_final_mean[70:140] + y_final_std[70:140], alpha=0.3)\n",
    "plt.plot(np.arange(70, 140),y_valid_values[1], label='True power')\n",
    "plt.title('Average PV generation over one week')\n",
    "plt.legend()\n",
    "plt.show()"
   ]
  },
  {
   "cell_type": "markdown",
   "metadata": {},
   "source": [
    "> This experiement makes less sense, we compare the online method using a week of data with the offline method using a month of data."
   ]
  },
  {
   "cell_type": "markdown",
   "metadata": {},
   "source": [
    "### 4. Train 01.2018 -> predict each month of 2018 with this model"
   ]
  },
  {
   "cell_type": "markdown",
   "metadata": {},
   "source": [
    "> Train a model using 01.2018, predict each month of 2018 with this model."
   ]
  },
  {
   "cell_type": "code",
   "execution_count": 3,
   "metadata": {},
   "outputs": [],
   "source": [
    "# Run experiments\n",
    "\n",
    "def run_scenario4(lr_, weight_decay_, train_year, test_year, train_month, test_month, NUM_EPOCHS=300):\n",
    "\n",
    "    ###### Define the model, optimizer, loss function and history\n",
    "    torch.backends.cudnn.deterministic = True\n",
    "    torch.backends.cudnn.benchmark = True\n",
    "    torch.manual_seed(random_seed)\n",
    "\n",
    "    # Create the model, optimizer, and trainer\n",
    "    # model = SimpleNN(input_dim=len(train_columns), output_dim=1, hidden_dim=5).to(DEVICE)\n",
    "    model = TwoLayerNN(input_dim=len(train_columns), output_dim=1, hidden_dim1 = 32, hidden_dim2 = 32).to(DEVICE)\n",
    "\n",
    "    optimizer = optim.SGD(\n",
    "        [param for param in model.parameters() if param.requires_grad],\n",
    "        lr=lr_,\n",
    "        momentum=0.9,\n",
    "        weight_decay=weight_decay_,\n",
    "    )\n",
    "\n",
    "    trainer = Trainer(\n",
    "        model=model,\n",
    "        criterion=nn.MSELoss(reduction='none').to(DEVICE),\n",
    "        metric=mse,\n",
    "        device=DEVICE,\n",
    "        optimizer=optimizer,\n",
    "        cast_label=False,\n",
    "    )\n",
    "    \n",
    "    ###### Define training data\n",
    "    \n",
    "    x_train = time_series[(time_series.year.isin(train_year)) & (time_series.month.isin(train_month))][train_columns].values\n",
    "    y_train = time_series[(time_series.year.isin(train_year)) & (time_series.month.isin(train_month))]['target'].values\n",
    "    \n",
    "    x_mean, x_std = np.mean(x_train, axis=0), np.std(x_train, axis=0)\n",
    "    y_mean, y_std = np.mean(y_train), np.std(y_train)\n",
    "    \n",
    "    x_train = (x_train - x_mean) / x_std\n",
    "    y_train = (y_train - y_mean) / y_std\n",
    "    y_train = np.array(y_train).reshape(-1, 1)\n",
    "    \n",
    "    train_dataset = torch.utils.data.TensorDataset(torch.tensor(x_train), torch.tensor(y_train))\n",
    "    train_dataloader = DataLoader(train_dataset, batch_size=512, shuffle=True)\n",
    "    train_iterator = iter(train_dataloader)\n",
    "    \n",
    "    ###### Training loop\n",
    "    training_loss_history = []\n",
    "    for epoch in range(NUM_EPOCHS):\n",
    "    \n",
    "        # Clear gradients from the previous iteration\n",
    "        trainer.optimizer.zero_grad()\n",
    "\n",
    "        # Get next batch of data\n",
    "        try:\n",
    "            x_stream, y_stream = next(train_iterator)\n",
    "        except StopIteration:\n",
    "            train_iterator = iter(train_dataloader)\n",
    "            x_stream, y_stream = next(train_iterator)\n",
    "        x_stream = x_stream.to(DEVICE).type(torch.float32)\n",
    "        y_stream = y_stream.to(DEVICE).type(torch.float32)\n",
    "\n",
    "        # Forward pass\n",
    "        outs_stream = trainer.model(x_stream)\n",
    "        loss_stream = trainer.criterion(outs_stream, y_stream).mean()\n",
    "        \n",
    "        # Store loss value\n",
    "        training_loss_history.append(loss_stream.detach().cpu().numpy())\n",
    "    \n",
    "        # Get gradients w.r.t to parameters\n",
    "        loss_stream.backward()\n",
    "        \n",
    "        # Update the parameters\n",
    "        trainer.optimizer.step()\n",
    "\n",
    "    ###### Test the model\n",
    "    \n",
    "    x_test = time_series[(time_series.year==test_year) & (time_series.month.isin(test_month))][train_columns].values\n",
    "    y_test = time_series[(time_series.year==test_year) & (time_series.month.isin(test_month))]['target'].values\n",
    "    \n",
    "    x_test = (x_test - x_mean) / x_std\n",
    "    y_test = (y_test - y_mean) / y_std\n",
    "    y_test = np.array(y_test).reshape(-1, 1)\n",
    "    \n",
    "    y_pred = trainer.model(torch.tensor(x_test).to(DEVICE).type(torch.float32))\n",
    "    test_loss = trainer.criterion(y_pred, torch.tensor(y_test).to(DEVICE).type(torch.float32)).mean()\n",
    "    \n",
    "    # print(f\"Test Loss: {test_loss:0.3f}\")\n",
    "\n",
    "    return training_loss_history, y_pred*y_std + y_mean, y_test*y_std + y_mean, test_loss"
   ]
  },
  {
   "cell_type": "code",
   "execution_count": 20,
   "metadata": {},
   "outputs": [
    {
     "name": "stderr",
     "output_type": "stream",
     "text": [
      "Years: 100%|██████████| 5/5 [03:09<00:00, 37.91s/it]\n"
     ]
    }
   ],
   "source": [
    "results = {'lr': {}, 'weight_decay': {}, 'train_year': {}, 'test_year': {}, 'train_month': {}, 'test_month': {}, 'training_loss': {}, 'y_pred': {}, 'y_test': {}, 'test_loss': {}}\n",
    "\n",
    "for year in tqdm([2014, 2015, 2016, 2017, 2018], position=0, leave=True, desc='Years'):\n",
    "\n",
    "    train_year = [year]\n",
    "    test_year = year\n",
    "\n",
    "    train_month = [1]\n",
    "    # test_month = [2, 3, 4, 5, 6, 7, 8, 9, 10, 11, 12]\n",
    "    \n",
    "    for lr_ in [0.001, 0.01, 0.1]:\n",
    "        for weight_decay_ in [5e-4, 5e-3, 5e-2]:\n",
    "            for test_month in [[2], [3], [4], [5], [6], [7], [8], [9], [10], [11], [12]]:\n",
    "                training_loss_history, y_pred, y_test, test_loss = run_scenario4(lr_=lr_, weight_decay_=weight_decay_,   train_year=train_year, test_year=test_year, train_month=train_month, test_month=test_month)\n",
    "                \n",
    "                results['lr'][(year, lr_, weight_decay_, test_month[0])] = lr_\n",
    "                results['weight_decay'][(year, lr_, weight_decay_, test_month[0])] = weight_decay_\n",
    "                results['train_year'][(year, lr_, weight_decay_, test_month[0])] = train_year\n",
    "                results['test_year'][(year, lr_, weight_decay_, test_month[0])] = test_year\n",
    "                results['train_month'][(year, lr_, weight_decay_, test_month[0])] = train_month\n",
    "                results['test_month'][(year, lr_, weight_decay_, test_month[0])] = test_month[0]\n",
    "                results['training_loss'][(year, lr_, weight_decay_, test_month[0])] = training_loss_history\n",
    "                results['y_pred'][(year, lr_, weight_decay_, test_month[0])] = y_pred.detach().cpu().numpy()\n",
    "                results['y_test'][(year, lr_, weight_decay_, test_month[0])] = y_test\n",
    "                results['test_loss'][(year, lr_, weight_decay_, test_month[0])] = test_loss.detach().cpu().numpy()\n",
    "                \n",
    "with open('scenario4_results.pkl', 'wb') as f:\n",
    "    pickle.dump(results, f)"
   ]
  },
  {
   "cell_type": "code",
   "execution_count": 21,
   "metadata": {},
   "outputs": [],
   "source": [
    "with open('scenario4_results.pkl', 'rb') as f:\n",
    "    results = pickle.load(f)\n",
    "\n",
    "df4 = pd.DataFrame.from_dict(results).reset_index(drop=True)"
   ]
  },
  {
   "cell_type": "code",
   "execution_count": 22,
   "metadata": {},
   "outputs": [
    {
     "data": {
      "text/plain": [
       "lr     weight_decay\n",
       "0.001  0.0005           1.498298\n",
       "       0.0050           1.475781\n",
       "       0.0500           1.364936\n",
       "0.010  0.0005          13.197128\n",
       "       0.0050          11.064708\n",
       "       0.0500           2.055658\n",
       "0.100  0.0005          53.750271\n",
       "       0.0050          21.079510\n",
       "       0.0500           1.976413\n",
       "Name: test_loss, dtype: float64"
      ]
     },
     "execution_count": 22,
     "metadata": {},
     "output_type": "execute_result"
    }
   ],
   "source": [
    "df4.groupby(['lr', 'weight_decay'])['test_loss'].mean()"
   ]
  },
  {
   "cell_type": "code",
   "execution_count": 23,
   "metadata": {},
   "outputs": [
    {
     "name": "stdout",
     "output_type": "stream",
     "text": [
      "Best Learning Rate: 0.001 | Best Weight Decay: 0.05\n",
      "Average test loss (5y): 1.365 ± 0.821\n"
     ]
    }
   ],
   "source": [
    "best_params = df4.groupby(['lr', 'weight_decay'])['test_loss'].mean().idxmin()\n",
    "print(f'Best Learning Rate: {best_params[0]} | Best Weight Decay: {best_params[1]}')\n",
    "\n",
    "print(f'Average test loss (5y): {df4[df4.lr==best_params[0]][df4.weight_decay==best_params[1]][\"test_loss\"].mean():.3f} ± {df4[df4.lr==best_params[0]][df4.weight_decay==best_params[1]][\"test_loss\"].std():.3f}')"
   ]
  },
  {
   "cell_type": "code",
   "execution_count": 24,
   "metadata": {},
   "outputs": [
    {
     "data": {
      "image/png": "[encoded data removed]",
      "text/plain": [
       "<Figure size 1000x500 with 1 Axes>"
      ]
     },
     "metadata": {},
     "output_type": "display_data"
    }
   ],
   "source": [
    "plt.figure(figsize=(10, 5))\n",
    "# plt.bar(np.arange(2, 13), df4[df4.lr==best_params[0]][df4.weight_decay==best_params[1]].groupby('test_month')['test_loss'].mean())\n",
    "plt.errorbar(np.arange(2, 13), df4[df4.lr==best_params[0]][df4.weight_decay==best_params[1]].groupby('test_month')['test_loss'].mean(), yerr=df4[df4.lr==best_params[0]][df4.weight_decay==best_params[1]].groupby('test_month')['test_loss'].std(), fmt='o', label='Average')\n",
    "plt.title('Average test loss for each month')\n",
    "plt.xticks(np.arange(2, 13), [months_name[i] for i in np.arange(2, 13)], rotation=45)\n",
    "plt.legend()\n",
    "plt.xlabel('Month')\n",
    "plt.ylabel('Test Loss')\n",
    "plt.show()"
   ]
  },
  {
   "cell_type": "code",
   "execution_count": 31,
   "metadata": {},
   "outputs": [
    {
     "data": {
      "image/png": "[encoded data removed]",
      "text/plain": [
       "<Figure size 1000x500 with 1 Axes>"
      ]
     },
     "metadata": {},
     "output_type": "display_data"
    }
   ],
   "source": [
    "plt.figure(figsize=(10, 5))\n",
    "plt.plot(df4[(df4.lr==best_params[0]) & (df4.weight_decay==best_params[1]) & (df4.test_month==7) & (df4.test_year==2018)]['training_loss'].values[0])\n",
    "plt.xlabel('Epoch')\n",
    "plt.ylabel('Training Loss')\n",
    "plt.title('Training Loss for July 2018')\n",
    "plt.show()"
   ]
  },
  {
   "cell_type": "markdown",
   "metadata": {},
   "source": [
    "### 5. Train 01.2018 -> predict 02.2018, add 02.2018 to the training set -> predict 03.2018 ...\n",
    "\n",
    "> To take into account the new data, we add the month to the training set and keep the old months (increasing the training set size at the end of each month). We predict the following month with the model trained on the previous months."
   ]
  },
  {
   "cell_type": "code",
   "execution_count": 32,
   "metadata": {},
   "outputs": [],
   "source": [
    "def run_scenario5(lr_, weight_decay_, train_year, test_year, selected_months = [1, 2, 3, 4, 5, 6, 7, 8, 9, 10, 11, 12], NUM_EPOCHS=300):\n",
    "\n",
    "    ###### Print current lr\n",
    "    # print(f\"\\nLR: {lr_}\")\n",
    "    \n",
    "    ###### Define the model, optimizer, loss function and history\n",
    "    torch.backends.cudnn.deterministic = True\n",
    "    torch.backends.cudnn.benchmark = True\n",
    "    torch.manual_seed(random_seed)\n",
    "\n",
    "    # Create the model, optimizer, and trainer\n",
    "    # model = SimpleNN(input_dim=len(train_columns), output_dim=1, hidden_dim=5).to(DEVICE)\n",
    "    model = TwoLayerNN(input_dim=len(train_columns), output_dim=1, hidden_dim1 = 32, hidden_dim2 = 32).to(DEVICE)\n",
    "\n",
    "    optimizer = optim.SGD(\n",
    "        [param for param in model.parameters() if param.requires_grad],\n",
    "        lr=lr_,\n",
    "        momentum=0.9,\n",
    "        weight_decay=weight_decay_,\n",
    "    )\n",
    "\n",
    "    trainer = Trainer(\n",
    "        model=model,\n",
    "        criterion=nn.MSELoss(reduction='none').to(DEVICE),\n",
    "        metric=mse,\n",
    "        device=DEVICE,\n",
    "        optimizer=optimizer,\n",
    "        cast_label=False,\n",
    "    )\n",
    "    \n",
    "    y_pred_month_history = []\n",
    "    y_test_month_history = []\n",
    "    loss_test_month_history = []\n",
    "    \n",
    "    # loop over the months to use as training data\n",
    "    for month in selected_months[:-1]:\n",
    "        \n",
    "        ###### Define training data\n",
    "        x_train_month = time_series[(time_series.year.isin(train_year)) & (time_series.month.isin(np.arange(1, month+1, 1)))][train_columns].values\n",
    "        y_train_month = time_series[(time_series.year.isin(train_year)) & (time_series.month.isin(np.arange(1, month+1, 1)))]['target'].values\n",
    "        \n",
    "        x_mean, x_std = np.mean(x_train_month, axis=0), np.std(x_train_month, axis=0)\n",
    "        y_mean, y_std = np.mean(y_train_month), np.std(y_train_month)\n",
    "        \n",
    "        x_train_month = (x_train_month - x_mean) / x_std\n",
    "        y_train_month = (y_train_month - y_mean) / y_std\n",
    "        y_train_month = np.array(y_train_month).reshape(-1, 1)\n",
    "    \n",
    "        train_dataset = torch.utils.data.TensorDataset(torch.tensor(x_train_month), torch.tensor(y_train_month))\n",
    "        train_dataloader = DataLoader(train_dataset, batch_size=512, shuffle=True)\n",
    "        train_iterator = iter(train_dataloader)\n",
    "    \n",
    "        ###### Training loop\n",
    "        training_loss_history = []\n",
    "        for epoch in range(NUM_EPOCHS):\n",
    "        \n",
    "            # Clear gradients from the previous iteration\n",
    "            trainer.optimizer.zero_grad()\n",
    "\n",
    "            # Get next batch of data\n",
    "            try:\n",
    "                x_stream, y_stream = next(train_iterator)\n",
    "            except StopIteration:\n",
    "                train_iterator = iter(train_dataloader)\n",
    "                x_stream, y_stream = next(train_iterator)\n",
    "            x_stream = x_stream.to(DEVICE).type(torch.float32)\n",
    "            y_stream = y_stream.to(DEVICE).type(torch.float32)\n",
    "\n",
    "            # Forward pass\n",
    "            outs_stream = trainer.model(x_stream)\n",
    "            loss_stream = trainer.criterion(outs_stream, y_stream).mean()\n",
    "            \n",
    "            # Store loss value\n",
    "            training_loss_history.append(loss_stream.detach().cpu().numpy())\n",
    "        \n",
    "            # Get gradients w.r.t to parameters\n",
    "            loss_stream.backward()\n",
    "            \n",
    "            # Update the parameters\n",
    "            trainer.optimizer.step()\n",
    "    \n",
    "        # Print training loss value\n",
    "        # print(f'Training Loss: {loss_stream:0.3f}')\n",
    "    \n",
    "        ###### Test the model on the next month\n",
    "        x_test_month = time_series[(time_series.year==test_year) & (time_series.month==month+1)][train_columns].values\n",
    "        y_test_month = time_series[(time_series.year==test_year) & (time_series.month==month+1)]['target'].values\n",
    "        \n",
    "        x_test_month = (x_test_month - x_mean) / x_std\n",
    "        y_test_month = (y_test_month - y_mean) / y_std\n",
    "        y_test_month = np.array(y_test_month).reshape(-1, 1)\n",
    "        \n",
    "        y_pred_month = trainer.model(torch.tensor(x_test_month).to(DEVICE).type(torch.float32))\n",
    "        loss_test_month = trainer.criterion(y_pred_month, torch.tensor(y_test_month).to(DEVICE).type(torch.float32)).mean()\n",
    "        \n",
    "        y_pred_month_history.append(y_pred_month.detach().cpu().numpy()*y_std + y_mean)\n",
    "        y_test_month_history.append(y_test_month*y_std + y_mean)\n",
    "        loss_test_month_history.append(loss_test_month.detach().cpu().numpy())\n",
    "    \n",
    "        # print(f\"Test Loss: {loss_test_month:0.3f}\")\n",
    "        \n",
    "    return training_loss_history, y_pred_month_history, y_test_month_history, loss_test_month_history"
   ]
  },
  {
   "cell_type": "code",
   "execution_count": 33,
   "metadata": {},
   "outputs": [
    {
     "name": "stderr",
     "output_type": "stream",
     "text": [
      "Years: 100%|██████████| 5/5 [03:56<00:00, 47.23s/it]\n"
     ]
    }
   ],
   "source": [
    "results = {'lr': {}, 'weight_decay_':{}, 'train_year': {}, 'test_year': {}, 'training_loss': {}, 'y_pred': {}, 'y_test': {}, 'test_loss': {}}\n",
    "\n",
    "for year in tqdm([2014, 2015, 2016, 2017, 2018], position=0, leave=True, desc='Years'):\n",
    "\n",
    "    train_year = [year]\n",
    "    test_year = year\n",
    "\n",
    "    for lr_ in [0.001, 0.01, 0.1]:\n",
    "        for weight_decay_ in [5e-4, 5e-3, 5e-2]:\n",
    "            training_loss_history, y_pred, y_test, test_loss = run_scenario5(lr_=lr_, weight_decay_=weight_decay_, train_year=train_year, test_year=test_year)\n",
    "            \n",
    "            results['lr'][(year, lr_, weight_decay_)] = lr_\n",
    "            results['weight_decay_'][(year, lr_, weight_decay_)] = weight_decay_\n",
    "            results['train_year'][(year, lr_, weight_decay_)] = train_year\n",
    "            results['test_year'][(year, lr_, weight_decay_)] = test_year\n",
    "            results['training_loss'][(year, lr_, weight_decay_)] = training_loss_history\n",
    "            results['y_pred'][(year, lr_, weight_decay_)] = y_pred\n",
    "            results['y_test'][(year, lr_, weight_decay_)] = y_test\n",
    "            results['test_loss'][(year, lr_, weight_decay_)] = test_loss\n",
    "            \n",
    "with open('scenario5_results.pkl', 'wb') as f:\n",
    "    pickle.dump(results, f)"
   ]
  },
  {
   "cell_type": "code",
   "execution_count": 34,
   "metadata": {},
   "outputs": [
    {
     "data": {
      "text/html": [
       "<div>\n",
       "<style scoped>\n",
       "    .dataframe tbody tr th:only-of-type {\n",
       "        vertical-align: middle;\n",
       "    }\n",
       "\n",
       "    .dataframe tbody tr th {\n",
       "        vertical-align: top;\n",
       "    }\n",
       "\n",
       "    .dataframe thead th {\n",
       "        text-align: right;\n",
       "    }\n",
       "</style>\n",
       "<table border=\"1\" class=\"dataframe\">\n",
       "  <thead>\n",
       "    <tr style=\"text-align: right;\">\n",
       "      <th></th>\n",
       "      <th>lr</th>\n",
       "      <th>weight_decay_</th>\n",
       "      <th>train_year</th>\n",
       "      <th>test_year</th>\n",
       "      <th>training_loss</th>\n",
       "      <th>y_pred</th>\n",
       "      <th>y_test</th>\n",
       "      <th>test_loss</th>\n",
       "      <th>mean_test_loss</th>\n",
       "    </tr>\n",
       "  </thead>\n",
       "  <tbody>\n",
       "    <tr>\n",
       "      <th>0</th>\n",
       "      <td>0.001</td>\n",
       "      <td>0.0005</td>\n",
       "      <td>[2014]</td>\n",
       "      <td>2014</td>\n",
       "      <td>[0.12242916, 0.11694706, 0.10060112, 0.1392033...</td>\n",
       "      <td>[[[10.027031], [16.274424], [23.974024], [26.8...</td>\n",
       "      <td>[[[6.823986227624879], [13.397230516795288], [...</td>\n",
       "      <td>[0.47952363, 0.27822033, 0.17818551, 0.2997394...</td>\n",
       "      <td>0.196082</td>\n",
       "    </tr>\n",
       "    <tr>\n",
       "      <th>1</th>\n",
       "      <td>0.001</td>\n",
       "      <td>0.0050</td>\n",
       "      <td>[2014]</td>\n",
       "      <td>2014</td>\n",
       "      <td>[0.12283526, 0.117403515, 0.10106051, 0.140017...</td>\n",
       "      <td>[[[9.99506], [16.25196], [23.929525], [26.8021...</td>\n",
       "      <td>[[[6.823986227624879], [13.397230516795288], [...</td>\n",
       "      <td>[0.48013234, 0.28178865, 0.17674515, 0.2986187...</td>\n",
       "      <td>0.195786</td>\n",
       "    </tr>\n",
       "    <tr>\n",
       "      <th>2</th>\n",
       "      <td>0.001</td>\n",
       "      <td>0.0500</td>\n",
       "      <td>[2014]</td>\n",
       "      <td>2014</td>\n",
       "      <td>[0.1289636, 0.12549786, 0.10944986, 0.14797823...</td>\n",
       "      <td>[[[9.812568], [16.113058], [23.542345], [26.61...</td>\n",
       "      <td>[[[6.823986227624879], [13.397230516795288], [...</td>\n",
       "      <td>[0.48469695, 0.31257254, 0.18703298, 0.300563,...</td>\n",
       "      <td>0.200332</td>\n",
       "    </tr>\n",
       "    <tr>\n",
       "      <th>3</th>\n",
       "      <td>0.010</td>\n",
       "      <td>0.0005</td>\n",
       "      <td>[2014]</td>\n",
       "      <td>2014</td>\n",
       "      <td>[0.112242356, 0.103264764, 0.08792846, 0.12051...</td>\n",
       "      <td>[[[12.338573], [17.994143], [23.20803], [25.66...</td>\n",
       "      <td>[[[6.823986227624879], [13.397230516795288], [...</td>\n",
       "      <td>[0.55378866, 0.23387077, 0.18255949, 0.3071186...</td>\n",
       "      <td>0.201382</td>\n",
       "    </tr>\n",
       "    <tr>\n",
       "      <th>4</th>\n",
       "      <td>0.010</td>\n",
       "      <td>0.0050</td>\n",
       "      <td>[2014]</td>\n",
       "      <td>2014</td>\n",
       "      <td>[0.1141254, 0.10740328, 0.09261176, 0.12971672...</td>\n",
       "      <td>[[[12.600267], [17.864857], [23.189617], [25.5...</td>\n",
       "      <td>[[[6.823986227624879], [13.397230516795288], [...</td>\n",
       "      <td>[0.51131725, 0.21289511, 0.1832521, 0.29490086...</td>\n",
       "      <td>0.188335</td>\n",
       "    </tr>\n",
       "    <tr>\n",
       "      <th>5</th>\n",
       "      <td>0.010</td>\n",
       "      <td>0.0500</td>\n",
       "      <td>[2014]</td>\n",
       "      <td>2014</td>\n",
       "      <td>[0.12768736, 0.12556826, 0.10992944, 0.1494419...</td>\n",
       "      <td>[[[11.999714], [18.912992], [24.352802], [25.6...</td>\n",
       "      <td>[[[6.823986227624879], [13.397230516795288], [...</td>\n",
       "      <td>[0.4260331, 0.27279034, 0.1930303, 0.29415825,...</td>\n",
       "      <td>0.189182</td>\n",
       "    </tr>\n",
       "    <tr>\n",
       "      <th>6</th>\n",
       "      <td>0.100</td>\n",
       "      <td>0.0005</td>\n",
       "      <td>[2014]</td>\n",
       "      <td>2014</td>\n",
       "      <td>[0.09048945, 0.09217555, 0.076684654, 0.102985...</td>\n",
       "      <td>[[[9.715769], [19.958208], [22.405561], [21.42...</td>\n",
       "      <td>[[[6.823986227624879], [13.397230516795288], [...</td>\n",
       "      <td>[1.6225176, 0.49620727, 0.23345754, 0.35704044...</td>\n",
       "      <td>0.345963</td>\n",
       "    </tr>\n",
       "    <tr>\n",
       "      <th>7</th>\n",
       "      <td>0.100</td>\n",
       "      <td>0.0050</td>\n",
       "      <td>[2014]</td>\n",
       "      <td>2014</td>\n",
       "      <td>[0.11633828, 0.10496793, 0.09109348, 0.1282075...</td>\n",
       "      <td>[[[10.769281], [16.446026], [19.44989], [22.28...</td>\n",
       "      <td>[[[6.823986227624879], [13.397230516795288], [...</td>\n",
       "      <td>[1.4188101, 0.29197347, 0.15333605, 0.3154519,...</td>\n",
       "      <td>0.278226</td>\n",
       "    </tr>\n",
       "    <tr>\n",
       "      <th>8</th>\n",
       "      <td>0.100</td>\n",
       "      <td>0.0500</td>\n",
       "      <td>[2014]</td>\n",
       "      <td>2014</td>\n",
       "      <td>[0.12848121, 0.12732637, 0.1146837, 0.15169854...</td>\n",
       "      <td>[[[11.587548], [18.222399], [23.12173], [25.16...</td>\n",
       "      <td>[[[6.823986227624879], [13.397230516795288], [...</td>\n",
       "      <td>[0.44144657, 0.38795996, 0.19049823, 0.3022683...</td>\n",
       "      <td>0.202581</td>\n",
       "    </tr>\n",
       "    <tr>\n",
       "      <th>9</th>\n",
       "      <td>0.001</td>\n",
       "      <td>0.0005</td>\n",
       "      <td>[2015]</td>\n",
       "      <td>2015</td>\n",
       "      <td>[0.110469125, 0.11921865, 0.10280943, 0.106386...</td>\n",
       "      <td>[[[8.729511], [10.488321], [16.467651], [20.29...</td>\n",
       "      <td>[[[5.5254920739104705], [8.72059047021699], [1...</td>\n",
       "      <td>[0.74514025, 0.4734809, 0.20758477, 0.21326503...</td>\n",
       "      <td>0.219892</td>\n",
       "    </tr>\n",
       "    <tr>\n",
       "      <th>10</th>\n",
       "      <td>0.001</td>\n",
       "      <td>0.0050</td>\n",
       "      <td>[2015]</td>\n",
       "      <td>2015</td>\n",
       "      <td>[0.11063109, 0.11895223, 0.103952445, 0.107448...</td>\n",
       "      <td>[[[8.693079], [10.506877], [16.47373], [20.282...</td>\n",
       "      <td>[[[5.5254920739104705], [8.72059047021699], [1...</td>\n",
       "      <td>[0.7465125, 0.47345257, 0.20975348, 0.21294709...</td>\n",
       "      <td>0.219310</td>\n",
       "    </tr>\n",
       "    <tr>\n",
       "      <th>11</th>\n",
       "      <td>0.001</td>\n",
       "      <td>0.0500</td>\n",
       "      <td>[2015]</td>\n",
       "      <td>2015</td>\n",
       "      <td>[0.11971596, 0.12503532, 0.11013177, 0.117129,...</td>\n",
       "      <td>[[[8.399813], [10.691908], [16.487888], [20.37...</td>\n",
       "      <td>[[[5.5254920739104705], [8.72059047021699], [1...</td>\n",
       "      <td>[0.7493359, 0.48765707, 0.23373583, 0.21960872...</td>\n",
       "      <td>0.221718</td>\n",
       "    </tr>\n",
       "    <tr>\n",
       "      <th>12</th>\n",
       "      <td>0.010</td>\n",
       "      <td>0.0005</td>\n",
       "      <td>[2015]</td>\n",
       "      <td>2015</td>\n",
       "      <td>[0.09938183, 0.10144227, 0.09285657, 0.0818313...</td>\n",
       "      <td>[[[10.751748], [15.05232], [17.614113], [19.25...</td>\n",
       "      <td>[[[5.5254920739104705], [8.72059047021699], [1...</td>\n",
       "      <td>[0.55847114, 0.37978885, 0.24733374, 0.2104330...</td>\n",
       "      <td>0.200371</td>\n",
       "    </tr>\n",
       "    <tr>\n",
       "      <th>13</th>\n",
       "      <td>0.010</td>\n",
       "      <td>0.0050</td>\n",
       "      <td>[2015]</td>\n",
       "      <td>2015</td>\n",
       "      <td>[0.103186615, 0.1080713, 0.09479274, 0.0891237...</td>\n",
       "      <td>[[[10.4722], [15.319833], [17.386683], [19.177...</td>\n",
       "      <td>[[[5.5254920739104705], [8.72059047021699], [1...</td>\n",
       "      <td>[0.5609578, 0.3778348, 0.22739674, 0.20949966,...</td>\n",
       "      <td>0.191113</td>\n",
       "    </tr>\n",
       "    <tr>\n",
       "      <th>14</th>\n",
       "      <td>0.010</td>\n",
       "      <td>0.0500</td>\n",
       "      <td>[2015]</td>\n",
       "      <td>2015</td>\n",
       "      <td>[0.12063484, 0.12346142, 0.111210406, 0.118770...</td>\n",
       "      <td>[[[10.085201], [15.540478], [17.635809], [20.4...</td>\n",
       "      <td>[[[5.5254920739104705], [8.72059047021699], [1...</td>\n",
       "      <td>[0.53199214, 0.4365672, 0.21876721, 0.21108106...</td>\n",
       "      <td>0.194220</td>\n",
       "    </tr>\n",
       "    <tr>\n",
       "      <th>15</th>\n",
       "      <td>0.100</td>\n",
       "      <td>0.0005</td>\n",
       "      <td>[2015]</td>\n",
       "      <td>2015</td>\n",
       "      <td>[0.07562807, 0.07659301, 0.07568035, 0.0694859...</td>\n",
       "      <td>[[[9.725908], [22.099194], [15.431458], [13.52...</td>\n",
       "      <td>[[[5.5254920739104705], [8.72059047021699], [1...</td>\n",
       "      <td>[1.73277, 0.4427758, 0.4111469, 0.31531253, 0....</td>\n",
       "      <td>0.359366</td>\n",
       "    </tr>\n",
       "    <tr>\n",
       "      <th>16</th>\n",
       "      <td>0.100</td>\n",
       "      <td>0.0050</td>\n",
       "      <td>[2015]</td>\n",
       "      <td>2015</td>\n",
       "      <td>[0.10770324, 0.10897826, 0.09523994, 0.0898648...</td>\n",
       "      <td>[[[10.228131], [20.149202], [15.549195], [11.8...</td>\n",
       "      <td>[[[5.5254920739104705], [8.72059047021699], [1...</td>\n",
       "      <td>[2.0500252, 0.37924755, 0.2839488, 0.22681129,...</td>\n",
       "      <td>0.336321</td>\n",
       "    </tr>\n",
       "    <tr>\n",
       "      <th>17</th>\n",
       "      <td>0.100</td>\n",
       "      <td>0.0500</td>\n",
       "      <td>[2015]</td>\n",
       "      <td>2015</td>\n",
       "      <td>[0.12377119, 0.1251938, 0.11446412, 0.12257939...</td>\n",
       "      <td>[[[9.716061], [15.591369], [17.110165], [19.49...</td>\n",
       "      <td>[[[5.5254920739104705], [8.72059047021699], [1...</td>\n",
       "      <td>[0.5364739, 0.46236882, 0.22217913, 0.22016397...</td>\n",
       "      <td>0.200403</td>\n",
       "    </tr>\n",
       "    <tr>\n",
       "      <th>18</th>\n",
       "      <td>0.001</td>\n",
       "      <td>0.0005</td>\n",
       "      <td>[2016]</td>\n",
       "      <td>2016</td>\n",
       "      <td>[0.15385857, 0.10327087, 0.11493671, 0.1335405...</td>\n",
       "      <td>[[[7.7704635], [16.737984], [28.658772], [27.4...</td>\n",
       "      <td>[[[7.436691793298497], [18.179829456913502], [...</td>\n",
       "      <td>[0.38628545, 0.7427452, 0.3703817, 0.27187595,...</td>\n",
       "      <td>0.241171</td>\n",
       "    </tr>\n",
       "    <tr>\n",
       "      <th>19</th>\n",
       "      <td>0.001</td>\n",
       "      <td>0.0050</td>\n",
       "      <td>[2016]</td>\n",
       "      <td>2016</td>\n",
       "      <td>[0.15532194, 0.103672996, 0.11461209, 0.133966...</td>\n",
       "      <td>[[[7.80626], [16.756716], [28.631527], [27.458...</td>\n",
       "      <td>[[[7.436691793298497], [18.179829456913502], [...</td>\n",
       "      <td>[0.38787448, 0.7476907, 0.37261835, 0.27211562...</td>\n",
       "      <td>0.241764</td>\n",
       "    </tr>\n",
       "    <tr>\n",
       "      <th>20</th>\n",
       "      <td>0.001</td>\n",
       "      <td>0.0500</td>\n",
       "      <td>[2016]</td>\n",
       "      <td>2016</td>\n",
       "      <td>[0.17008409, 0.11291967, 0.12402365, 0.1447223...</td>\n",
       "      <td>[[[8.220125], [16.858292], [28.318462], [27.24...</td>\n",
       "      <td>[[[7.436691793298497], [18.179829456913502], [...</td>\n",
       "      <td>[0.4027729, 0.80330247, 0.38320857, 0.2822693,...</td>\n",
       "      <td>0.252775</td>\n",
       "    </tr>\n",
       "    <tr>\n",
       "      <th>21</th>\n",
       "      <td>0.010</td>\n",
       "      <td>0.0005</td>\n",
       "      <td>[2016]</td>\n",
       "      <td>2016</td>\n",
       "      <td>[0.12880915, 0.09391065, 0.10812967, 0.1165833...</td>\n",
       "      <td>[[[6.978794], [16.27007], [27.778906], [20.293...</td>\n",
       "      <td>[[[7.436691793298497], [18.179829456913502], [...</td>\n",
       "      <td>[0.3116222, 0.57835996, 0.3831021, 0.2994879, ...</td>\n",
       "      <td>0.225365</td>\n",
       "    </tr>\n",
       "    <tr>\n",
       "      <th>22</th>\n",
       "      <td>0.010</td>\n",
       "      <td>0.0050</td>\n",
       "      <td>[2016]</td>\n",
       "      <td>2016</td>\n",
       "      <td>[0.13961512, 0.09804674, 0.1104213, 0.1226655,...</td>\n",
       "      <td>[[[7.4482365], [16.942547], [28.408995], [21.6...</td>\n",
       "      <td>[[[7.436691793298497], [18.179829456913502], [...</td>\n",
       "      <td>[0.31046766, 0.5794681, 0.3674428, 0.2915811, ...</td>\n",
       "      <td>0.216173</td>\n",
       "    </tr>\n",
       "    <tr>\n",
       "      <th>23</th>\n",
       "      <td>0.010</td>\n",
       "      <td>0.0500</td>\n",
       "      <td>[2016]</td>\n",
       "      <td>2016</td>\n",
       "      <td>[0.17210758, 0.11427191, 0.12438835, 0.1454320...</td>\n",
       "      <td>[[[10.037668], [19.973278], [30.57752], [26.62...</td>\n",
       "      <td>[[[7.436691793298497], [18.179829456913502], [...</td>\n",
       "      <td>[0.42250302, 0.72924334, 0.39017773, 0.2818692...</td>\n",
       "      <td>0.246588</td>\n",
       "    </tr>\n",
       "    <tr>\n",
       "      <th>24</th>\n",
       "      <td>0.100</td>\n",
       "      <td>0.0005</td>\n",
       "      <td>[2016]</td>\n",
       "      <td>2016</td>\n",
       "      <td>[0.096399225, 0.074715465, 0.084118925, 0.0869...</td>\n",
       "      <td>[[[5.27335], [14.74866], [33.515537], [16.6968...</td>\n",
       "      <td>[[[7.436691793298497], [18.179829456913502], [...</td>\n",
       "      <td>[0.40386847, 0.75804824, 0.5778001, 0.4315052,...</td>\n",
       "      <td>0.304863</td>\n",
       "    </tr>\n",
       "    <tr>\n",
       "      <th>25</th>\n",
       "      <td>0.100</td>\n",
       "      <td>0.0050</td>\n",
       "      <td>[2016]</td>\n",
       "      <td>2016</td>\n",
       "      <td>[0.13940986, 0.1005704, 0.11673193, 0.1286808,...</td>\n",
       "      <td>[[[7.706598], [16.678045], [30.864649], [18.17...</td>\n",
       "      <td>[[[7.436691793298497], [18.179829456913502], [...</td>\n",
       "      <td>[0.45444784, 0.9528722, 0.34708968, 0.3151675,...</td>\n",
       "      <td>0.267708</td>\n",
       "    </tr>\n",
       "    <tr>\n",
       "      <th>26</th>\n",
       "      <td>0.100</td>\n",
       "      <td>0.0500</td>\n",
       "      <td>[2016]</td>\n",
       "      <td>2016</td>\n",
       "      <td>[0.17344272, 0.1167109, 0.1257966, 0.14700447,...</td>\n",
       "      <td>[[[10.077435], [20.278435], [30.187738], [25.5...</td>\n",
       "      <td>[[[7.436691793298497], [18.179829456913502], [...</td>\n",
       "      <td>[0.4563299, 0.83359456, 0.3662339, 0.2973489, ...</td>\n",
       "      <td>0.259696</td>\n",
       "    </tr>\n",
       "    <tr>\n",
       "      <th>27</th>\n",
       "      <td>0.001</td>\n",
       "      <td>0.0005</td>\n",
       "      <td>[2017]</td>\n",
       "      <td>2017</td>\n",
       "      <td>[0.09771555, 0.10662677, 0.12711851, 0.1369920...</td>\n",
       "      <td>[[[6.4294615], [16.090384], [33.291748], [42.1...</td>\n",
       "      <td>[[[15.22495256448771], [33.77693436157554], [4...</td>\n",
       "      <td>[0.79802585, 0.24749367, 0.20519519, 0.1791570...</td>\n",
       "      <td>0.218551</td>\n",
       "    </tr>\n",
       "    <tr>\n",
       "      <th>28</th>\n",
       "      <td>0.001</td>\n",
       "      <td>0.0050</td>\n",
       "      <td>[2017]</td>\n",
       "      <td>2017</td>\n",
       "      <td>[0.0980982, 0.10704528, 0.12753856, 0.13612968...</td>\n",
       "      <td>[[[6.443143], [16.062439], [33.195396], [42.04...</td>\n",
       "      <td>[[[15.22495256448771], [33.77693436157554], [4...</td>\n",
       "      <td>[0.7988485, 0.24758333, 0.20610262, 0.17917743...</td>\n",
       "      <td>0.218264</td>\n",
       "    </tr>\n",
       "    <tr>\n",
       "      <th>29</th>\n",
       "      <td>0.001</td>\n",
       "      <td>0.0500</td>\n",
       "      <td>[2017]</td>\n",
       "      <td>2017</td>\n",
       "      <td>[0.11024801, 0.11539359, 0.13629305, 0.1441962...</td>\n",
       "      <td>[[[6.5725536], [15.84778], [32.241337], [41.21...</td>\n",
       "      <td>[[[15.22495256448771], [33.77693436157554], [4...</td>\n",
       "      <td>[0.8132111, 0.25779137, 0.22674453, 0.18607253...</td>\n",
       "      <td>0.223319</td>\n",
       "    </tr>\n",
       "    <tr>\n",
       "      <th>30</th>\n",
       "      <td>0.010</td>\n",
       "      <td>0.0005</td>\n",
       "      <td>[2017]</td>\n",
       "      <td>2017</td>\n",
       "      <td>[0.09148762, 0.090965465, 0.10376141, 0.122332...</td>\n",
       "      <td>[[[9.304348], [24.99822], [40.37024], [52.0839...</td>\n",
       "      <td>[[[15.22495256448771], [33.77693436157554], [4...</td>\n",
       "      <td>[0.49139962, 0.21709509, 0.19161083, 0.1873208...</td>\n",
       "      <td>0.192021</td>\n",
       "    </tr>\n",
       "    <tr>\n",
       "      <th>31</th>\n",
       "      <td>0.010</td>\n",
       "      <td>0.0050</td>\n",
       "      <td>[2017]</td>\n",
       "      <td>2017</td>\n",
       "      <td>[0.09112591, 0.09472981, 0.11117157, 0.1267086...</td>\n",
       "      <td>[[[9.115704], [24.475029], [39.35254], [51.217...</td>\n",
       "      <td>[[[15.22495256448771], [33.77693436157554], [4...</td>\n",
       "      <td>[0.49252713, 0.24310027, 0.18369389, 0.1871396...</td>\n",
       "      <td>0.184903</td>\n",
       "    </tr>\n",
       "    <tr>\n",
       "      <th>32</th>\n",
       "      <td>0.010</td>\n",
       "      <td>0.0500</td>\n",
       "      <td>[2017]</td>\n",
       "      <td>2017</td>\n",
       "      <td>[0.10899939, 0.11357439, 0.13575499, 0.1432272...</td>\n",
       "      <td>[[[8.718411], [20.708849], [37.181152], [45.02...</td>\n",
       "      <td>[[[15.22495256448771], [33.77693436157554], [4...</td>\n",
       "      <td>[0.4558448, 0.24349013, 0.21191458, 0.18421006...</td>\n",
       "      <td>0.186382</td>\n",
       "    </tr>\n",
       "    <tr>\n",
       "      <th>33</th>\n",
       "      <td>0.100</td>\n",
       "      <td>0.0005</td>\n",
       "      <td>[2017]</td>\n",
       "      <td>2017</td>\n",
       "      <td>[0.08345683, 0.07835972, 0.08516464, 0.1028596...</td>\n",
       "      <td>[[[7.7351637], [22.481825], [48.040573], [38.5...</td>\n",
       "      <td>[[[15.22495256448771], [33.77693436157554], [4...</td>\n",
       "      <td>[0.83028406, 0.28023353, 0.18463121, 0.2279322...</td>\n",
       "      <td>0.248229</td>\n",
       "    </tr>\n",
       "    <tr>\n",
       "      <th>34</th>\n",
       "      <td>0.100</td>\n",
       "      <td>0.0050</td>\n",
       "      <td>[2017]</td>\n",
       "      <td>2017</td>\n",
       "      <td>[0.09571367, 0.095100746, 0.11251207, 0.129789...</td>\n",
       "      <td>[[[8.861454], [24.73747], [45.988136], [56.989...</td>\n",
       "      <td>[[[15.22495256448771], [33.77693436157554], [4...</td>\n",
       "      <td>[0.79945886, 0.40835804, 0.2185168, 0.19199964...</td>\n",
       "      <td>0.232000</td>\n",
       "    </tr>\n",
       "    <tr>\n",
       "      <th>35</th>\n",
       "      <td>0.100</td>\n",
       "      <td>0.0500</td>\n",
       "      <td>[2017]</td>\n",
       "      <td>2017</td>\n",
       "      <td>[0.11069121, 0.11337454, 0.1359762, 0.14417681...</td>\n",
       "      <td>[[[9.109169], [24.0294], [37.431427], [45.0606...</td>\n",
       "      <td>[[[15.22495256448771], [33.77693436157554], [4...</td>\n",
       "      <td>[0.4637515, 0.33980352, 0.20658931, 0.18896657...</td>\n",
       "      <td>0.195809</td>\n",
       "    </tr>\n",
       "    <tr>\n",
       "      <th>36</th>\n",
       "      <td>0.001</td>\n",
       "      <td>0.0005</td>\n",
       "      <td>[2018]</td>\n",
       "      <td>2018</td>\n",
       "      <td>[0.10180738, 0.1178796, 0.08421072, 0.08821349...</td>\n",
       "      <td>[[[7.3976326], [11.384456], [15.233883], [21.8...</td>\n",
       "      <td>[[[4.703835373160635], [6.010389335678687], [1...</td>\n",
       "      <td>[0.5646864, 0.3416949, 0.37660512, 0.30189574,...</td>\n",
       "      <td>0.202656</td>\n",
       "    </tr>\n",
       "    <tr>\n",
       "      <th>37</th>\n",
       "      <td>0.001</td>\n",
       "      <td>0.0050</td>\n",
       "      <td>[2018]</td>\n",
       "      <td>2018</td>\n",
       "      <td>[0.10185661, 0.11735655, 0.08489962, 0.0880022...</td>\n",
       "      <td>[[[7.3549986], [11.48245], [15.272931], [21.87...</td>\n",
       "      <td>[[[4.703835373160635], [6.010389335678687], [1...</td>\n",
       "      <td>[0.5646507, 0.34213075, 0.37635693, 0.30203128...</td>\n",
       "      <td>0.202081</td>\n",
       "    </tr>\n",
       "    <tr>\n",
       "      <th>38</th>\n",
       "      <td>0.001</td>\n",
       "      <td>0.0500</td>\n",
       "      <td>[2018]</td>\n",
       "      <td>2018</td>\n",
       "      <td>[0.106842145, 0.11931032, 0.090643294, 0.09390...</td>\n",
       "      <td>[[[7.146555], [12.449159], [15.619535], [21.84...</td>\n",
       "      <td>[[[4.703835373160635], [6.010389335678687], [1...</td>\n",
       "      <td>[0.5560264, 0.34749165, 0.38232553, 0.30664232...</td>\n",
       "      <td>0.202436</td>\n",
       "    </tr>\n",
       "    <tr>\n",
       "      <th>39</th>\n",
       "      <td>0.010</td>\n",
       "      <td>0.0005</td>\n",
       "      <td>[2018]</td>\n",
       "      <td>2018</td>\n",
       "      <td>[0.09307433, 0.10990299, 0.07118156, 0.0776508...</td>\n",
       "      <td>[[[8.6881485], [15.126256], [14.437086], [21.1...</td>\n",
       "      <td>[[[4.703835373160635], [6.010389335678687], [1...</td>\n",
       "      <td>[0.46233505, 0.40088043, 0.363964, 0.33155915,...</td>\n",
       "      <td>0.202874</td>\n",
       "    </tr>\n",
       "    <tr>\n",
       "      <th>40</th>\n",
       "      <td>0.010</td>\n",
       "      <td>0.0050</td>\n",
       "      <td>[2018]</td>\n",
       "      <td>2018</td>\n",
       "      <td>[0.09752739, 0.11131366, 0.07742461, 0.0818356...</td>\n",
       "      <td>[[[8.315105], [15.791674], [13.538589], [21.21...</td>\n",
       "      <td>[[[4.703835373160635], [6.010389335678687], [1...</td>\n",
       "      <td>[0.46791187, 0.38735807, 0.36721846, 0.2907592...</td>\n",
       "      <td>0.194456</td>\n",
       "    </tr>\n",
       "    <tr>\n",
       "      <th>41</th>\n",
       "      <td>0.010</td>\n",
       "      <td>0.0500</td>\n",
       "      <td>[2018]</td>\n",
       "      <td>2018</td>\n",
       "      <td>[0.1073571, 0.12117703, 0.08998516, 0.09573866...</td>\n",
       "      <td>[[[6.898448], [17.176516], [15.545786], [21.19...</td>\n",
       "      <td>[[[4.703835373160635], [6.010389335678687], [1...</td>\n",
       "      <td>[0.355643, 0.34293512, 0.36365938, 0.313412, 0...</td>\n",
       "      <td>0.181290</td>\n",
       "    </tr>\n",
       "    <tr>\n",
       "      <th>42</th>\n",
       "      <td>0.100</td>\n",
       "      <td>0.0005</td>\n",
       "      <td>[2018]</td>\n",
       "      <td>2018</td>\n",
       "      <td>[0.06825758, 0.07668443, 0.058262445, 0.058474...</td>\n",
       "      <td>[[[8.700403], [18.316532], [13.616099], [26.02...</td>\n",
       "      <td>[[[4.703835373160635], [6.010389335678687], [1...</td>\n",
       "      <td>[2.5123086, 0.97630805, 0.49998343, 0.6041228,...</td>\n",
       "      <td>0.504714</td>\n",
       "    </tr>\n",
       "    <tr>\n",
       "      <th>43</th>\n",
       "      <td>0.100</td>\n",
       "      <td>0.0050</td>\n",
       "      <td>[2018]</td>\n",
       "      <td>2018</td>\n",
       "      <td>[0.10061498, 0.11092382, 0.08113663, 0.0836529...</td>\n",
       "      <td>[[[8.023889], [16.928179], [16.53339], [31.182...</td>\n",
       "      <td>[[[4.703835373160635], [6.010389335678687], [1...</td>\n",
       "      <td>[1.0762672, 0.36687008, 0.40569413, 0.30982533...</td>\n",
       "      <td>0.255655</td>\n",
       "    </tr>\n",
       "    <tr>\n",
       "      <th>44</th>\n",
       "      <td>0.100</td>\n",
       "      <td>0.0500</td>\n",
       "      <td>[2018]</td>\n",
       "      <td>2018</td>\n",
       "      <td>[0.11020608, 0.121212244, 0.09066482, 0.093833...</td>\n",
       "      <td>[[[7.3832874], [17.489897], [16.25206], [22.24...</td>\n",
       "      <td>[[[4.703835373160635], [6.010389335678687], [1...</td>\n",
       "      <td>[0.43097824, 0.36279616, 0.37873825, 0.3308226...</td>\n",
       "      <td>0.195608</td>\n",
       "    </tr>\n",
       "  </tbody>\n",
       "</table>\n",
       "</div>"
      ],
      "text/plain": [
       "       lr  weight_decay_ train_year  test_year  \\\n",
       "0   0.001         0.0005     [2014]       2014   \n",
       "1   0.001         0.0050     [2014]       2014   \n",
       "2   0.001         0.0500     [2014]       2014   \n",
       "3   0.010         0.0005     [2014]       2014   \n",
       "4   0.010         0.0050     [2014]       2014   \n",
       "5   0.010         0.0500     [2014]       2014   \n",
       "6   0.100         0.0005     [2014]       2014   \n",
       "7   0.100         0.0050     [2014]       2014   \n",
       "8   0.100         0.0500     [2014]       2014   \n",
       "9   0.001         0.0005     [2015]       2015   \n",
       "10  0.001         0.0050     [2015]       2015   \n",
       "11  0.001         0.0500     [2015]       2015   \n",
       "12  0.010         0.0005     [2015]       2015   \n",
       "13  0.010         0.0050     [2015]       2015   \n",
       "14  0.010         0.0500     [2015]       2015   \n",
       "15  0.100         0.0005     [2015]       2015   \n",
       "16  0.100         0.0050     [2015]       2015   \n",
       "17  0.100         0.0500     [2015]       2015   \n",
       "18  0.001         0.0005     [2016]       2016   \n",
       "19  0.001         0.0050     [2016]       2016   \n",
       "20  0.001         0.0500     [2016]       2016   \n",
       "21  0.010         0.0005     [2016]       2016   \n",
       "22  0.010         0.0050     [2016]       2016   \n",
       "23  0.010         0.0500     [2016]       2016   \n",
       "24  0.100         0.0005     [2016]       2016   \n",
       "25  0.100         0.0050     [2016]       2016   \n",
       "26  0.100         0.0500     [2016]       2016   \n",
       "27  0.001         0.0005     [2017]       2017   \n",
       "28  0.001         0.0050     [2017]       2017   \n",
       "29  0.001         0.0500     [2017]       2017   \n",
       "30  0.010         0.0005     [2017]       2017   \n",
       "31  0.010         0.0050     [2017]       2017   \n",
       "32  0.010         0.0500     [2017]       2017   \n",
       "33  0.100         0.0005     [2017]       2017   \n",
       "34  0.100         0.0050     [2017]       2017   \n",
       "35  0.100         0.0500     [2017]       2017   \n",
       "36  0.001         0.0005     [2018]       2018   \n",
       "37  0.001         0.0050     [2018]       2018   \n",
       "38  0.001         0.0500     [2018]       2018   \n",
       "39  0.010         0.0005     [2018]       2018   \n",
       "40  0.010         0.0050     [2018]       2018   \n",
       "41  0.010         0.0500     [2018]       2018   \n",
       "42  0.100         0.0005     [2018]       2018   \n",
       "43  0.100         0.0050     [2018]       2018   \n",
       "44  0.100         0.0500     [2018]       2018   \n",
       "\n",
       "                                        training_loss  \\\n",
       "0   [0.12242916, 0.11694706, 0.10060112, 0.1392033...   \n",
       "1   [0.12283526, 0.117403515, 0.10106051, 0.140017...   \n",
       "2   [0.1289636, 0.12549786, 0.10944986, 0.14797823...   \n",
       "3   [0.112242356, 0.103264764, 0.08792846, 0.12051...   \n",
       "4   [0.1141254, 0.10740328, 0.09261176, 0.12971672...   \n",
       "5   [0.12768736, 0.12556826, 0.10992944, 0.1494419...   \n",
       "6   [0.09048945, 0.09217555, 0.076684654, 0.102985...   \n",
       "7   [0.11633828, 0.10496793, 0.09109348, 0.1282075...   \n",
       "8   [0.12848121, 0.12732637, 0.1146837, 0.15169854...   \n",
       "9   [0.110469125, 0.11921865, 0.10280943, 0.106386...   \n",
       "10  [0.11063109, 0.11895223, 0.103952445, 0.107448...   \n",
       "11  [0.11971596, 0.12503532, 0.11013177, 0.117129,...   \n",
       "12  [0.09938183, 0.10144227, 0.09285657, 0.0818313...   \n",
       "13  [0.103186615, 0.1080713, 0.09479274, 0.0891237...   \n",
       "14  [0.12063484, 0.12346142, 0.111210406, 0.118770...   \n",
       "15  [0.07562807, 0.07659301, 0.07568035, 0.0694859...   \n",
       "16  [0.10770324, 0.10897826, 0.09523994, 0.0898648...   \n",
       "17  [0.12377119, 0.1251938, 0.11446412, 0.12257939...   \n",
       "18  [0.15385857, 0.10327087, 0.11493671, 0.1335405...   \n",
       "19  [0.15532194, 0.103672996, 0.11461209, 0.133966...   \n",
       "20  [0.17008409, 0.11291967, 0.12402365, 0.1447223...   \n",
       "21  [0.12880915, 0.09391065, 0.10812967, 0.1165833...   \n",
       "22  [0.13961512, 0.09804674, 0.1104213, 0.1226655,...   \n",
       "23  [0.17210758, 0.11427191, 0.12438835, 0.1454320...   \n",
       "24  [0.096399225, 0.074715465, 0.084118925, 0.0869...   \n",
       "25  [0.13940986, 0.1005704, 0.11673193, 0.1286808,...   \n",
       "26  [0.17344272, 0.1167109, 0.1257966, 0.14700447,...   \n",
       "27  [0.09771555, 0.10662677, 0.12711851, 0.1369920...   \n",
       "28  [0.0980982, 0.10704528, 0.12753856, 0.13612968...   \n",
       "29  [0.11024801, 0.11539359, 0.13629305, 0.1441962...   \n",
       "30  [0.09148762, 0.090965465, 0.10376141, 0.122332...   \n",
       "31  [0.09112591, 0.09472981, 0.11117157, 0.1267086...   \n",
       "32  [0.10899939, 0.11357439, 0.13575499, 0.1432272...   \n",
       "33  [0.08345683, 0.07835972, 0.08516464, 0.1028596...   \n",
       "34  [0.09571367, 0.095100746, 0.11251207, 0.129789...   \n",
       "35  [0.11069121, 0.11337454, 0.1359762, 0.14417681...   \n",
       "36  [0.10180738, 0.1178796, 0.08421072, 0.08821349...   \n",
       "37  [0.10185661, 0.11735655, 0.08489962, 0.0880022...   \n",
       "38  [0.106842145, 0.11931032, 0.090643294, 0.09390...   \n",
       "39  [0.09307433, 0.10990299, 0.07118156, 0.0776508...   \n",
       "40  [0.09752739, 0.11131366, 0.07742461, 0.0818356...   \n",
       "41  [0.1073571, 0.12117703, 0.08998516, 0.09573866...   \n",
       "42  [0.06825758, 0.07668443, 0.058262445, 0.058474...   \n",
       "43  [0.10061498, 0.11092382, 0.08113663, 0.0836529...   \n",
       "44  [0.11020608, 0.121212244, 0.09066482, 0.093833...   \n",
       "\n",
       "                                               y_pred  \\\n",
       "0   [[[10.027031], [16.274424], [23.974024], [26.8...   \n",
       "1   [[[9.99506], [16.25196], [23.929525], [26.8021...   \n",
       "2   [[[9.812568], [16.113058], [23.542345], [26.61...   \n",
       "3   [[[12.338573], [17.994143], [23.20803], [25.66...   \n",
       "4   [[[12.600267], [17.864857], [23.189617], [25.5...   \n",
       "5   [[[11.999714], [18.912992], [24.352802], [25.6...   \n",
       "6   [[[9.715769], [19.958208], [22.405561], [21.42...   \n",
       "7   [[[10.769281], [16.446026], [19.44989], [22.28...   \n",
       "8   [[[11.587548], [18.222399], [23.12173], [25.16...   \n",
       "9   [[[8.729511], [10.488321], [16.467651], [20.29...   \n",
       "10  [[[8.693079], [10.506877], [16.47373], [20.282...   \n",
       "11  [[[8.399813], [10.691908], [16.487888], [20.37...   \n",
       "12  [[[10.751748], [15.05232], [17.614113], [19.25...   \n",
       "13  [[[10.4722], [15.319833], [17.386683], [19.177...   \n",
       "14  [[[10.085201], [15.540478], [17.635809], [20.4...   \n",
       "15  [[[9.725908], [22.099194], [15.431458], [13.52...   \n",
       "16  [[[10.228131], [20.149202], [15.549195], [11.8...   \n",
       "17  [[[9.716061], [15.591369], [17.110165], [19.49...   \n",
       "18  [[[7.7704635], [16.737984], [28.658772], [27.4...   \n",
       "19  [[[7.80626], [16.756716], [28.631527], [27.458...   \n",
       "20  [[[8.220125], [16.858292], [28.318462], [27.24...   \n",
       "21  [[[6.978794], [16.27007], [27.778906], [20.293...   \n",
       "22  [[[7.4482365], [16.942547], [28.408995], [21.6...   \n",
       "23  [[[10.037668], [19.973278], [30.57752], [26.62...   \n",
       "24  [[[5.27335], [14.74866], [33.515537], [16.6968...   \n",
       "25  [[[7.706598], [16.678045], [30.864649], [18.17...   \n",
       "26  [[[10.077435], [20.278435], [30.187738], [25.5...   \n",
       "27  [[[6.4294615], [16.090384], [33.291748], [42.1...   \n",
       "28  [[[6.443143], [16.062439], [33.195396], [42.04...   \n",
       "29  [[[6.5725536], [15.84778], [32.241337], [41.21...   \n",
       "30  [[[9.304348], [24.99822], [40.37024], [52.0839...   \n",
       "31  [[[9.115704], [24.475029], [39.35254], [51.217...   \n",
       "32  [[[8.718411], [20.708849], [37.181152], [45.02...   \n",
       "33  [[[7.7351637], [22.481825], [48.040573], [38.5...   \n",
       "34  [[[8.861454], [24.73747], [45.988136], [56.989...   \n",
       "35  [[[9.109169], [24.0294], [37.431427], [45.0606...   \n",
       "36  [[[7.3976326], [11.384456], [15.233883], [21.8...   \n",
       "37  [[[7.3549986], [11.48245], [15.272931], [21.87...   \n",
       "38  [[[7.146555], [12.449159], [15.619535], [21.84...   \n",
       "39  [[[8.6881485], [15.126256], [14.437086], [21.1...   \n",
       "40  [[[8.315105], [15.791674], [13.538589], [21.21...   \n",
       "41  [[[6.898448], [17.176516], [15.545786], [21.19...   \n",
       "42  [[[8.700403], [18.316532], [13.616099], [26.02...   \n",
       "43  [[[8.023889], [16.928179], [16.53339], [31.182...   \n",
       "44  [[[7.3832874], [17.489897], [16.25206], [22.24...   \n",
       "\n",
       "                                               y_test  \\\n",
       "0   [[[6.823986227624879], [13.397230516795288], [...   \n",
       "1   [[[6.823986227624879], [13.397230516795288], [...   \n",
       "2   [[[6.823986227624879], [13.397230516795288], [...   \n",
       "3   [[[6.823986227624879], [13.397230516795288], [...   \n",
       "4   [[[6.823986227624879], [13.397230516795288], [...   \n",
       "5   [[[6.823986227624879], [13.397230516795288], [...   \n",
       "6   [[[6.823986227624879], [13.397230516795288], [...   \n",
       "7   [[[6.823986227624879], [13.397230516795288], [...   \n",
       "8   [[[6.823986227624879], [13.397230516795288], [...   \n",
       "9   [[[5.5254920739104705], [8.72059047021699], [1...   \n",
       "10  [[[5.5254920739104705], [8.72059047021699], [1...   \n",
       "11  [[[5.5254920739104705], [8.72059047021699], [1...   \n",
       "12  [[[5.5254920739104705], [8.72059047021699], [1...   \n",
       "13  [[[5.5254920739104705], [8.72059047021699], [1...   \n",
       "14  [[[5.5254920739104705], [8.72059047021699], [1...   \n",
       "15  [[[5.5254920739104705], [8.72059047021699], [1...   \n",
       "16  [[[5.5254920739104705], [8.72059047021699], [1...   \n",
       "17  [[[5.5254920739104705], [8.72059047021699], [1...   \n",
       "18  [[[7.436691793298497], [18.179829456913502], [...   \n",
       "19  [[[7.436691793298497], [18.179829456913502], [...   \n",
       "20  [[[7.436691793298497], [18.179829456913502], [...   \n",
       "21  [[[7.436691793298497], [18.179829456913502], [...   \n",
       "22  [[[7.436691793298497], [18.179829456913502], [...   \n",
       "23  [[[7.436691793298497], [18.179829456913502], [...   \n",
       "24  [[[7.436691793298497], [18.179829456913502], [...   \n",
       "25  [[[7.436691793298497], [18.179829456913502], [...   \n",
       "26  [[[7.436691793298497], [18.179829456913502], [...   \n",
       "27  [[[15.22495256448771], [33.77693436157554], [4...   \n",
       "28  [[[15.22495256448771], [33.77693436157554], [4...   \n",
       "29  [[[15.22495256448771], [33.77693436157554], [4...   \n",
       "30  [[[15.22495256448771], [33.77693436157554], [4...   \n",
       "31  [[[15.22495256448771], [33.77693436157554], [4...   \n",
       "32  [[[15.22495256448771], [33.77693436157554], [4...   \n",
       "33  [[[15.22495256448771], [33.77693436157554], [4...   \n",
       "34  [[[15.22495256448771], [33.77693436157554], [4...   \n",
       "35  [[[15.22495256448771], [33.77693436157554], [4...   \n",
       "36  [[[4.703835373160635], [6.010389335678687], [1...   \n",
       "37  [[[4.703835373160635], [6.010389335678687], [1...   \n",
       "38  [[[4.703835373160635], [6.010389335678687], [1...   \n",
       "39  [[[4.703835373160635], [6.010389335678687], [1...   \n",
       "40  [[[4.703835373160635], [6.010389335678687], [1...   \n",
       "41  [[[4.703835373160635], [6.010389335678687], [1...   \n",
       "42  [[[4.703835373160635], [6.010389335678687], [1...   \n",
       "43  [[[4.703835373160635], [6.010389335678687], [1...   \n",
       "44  [[[4.703835373160635], [6.010389335678687], [1...   \n",
       "\n",
       "                                            test_loss  mean_test_loss  \n",
       "0   [0.47952363, 0.27822033, 0.17818551, 0.2997394...        0.196082  \n",
       "1   [0.48013234, 0.28178865, 0.17674515, 0.2986187...        0.195786  \n",
       "2   [0.48469695, 0.31257254, 0.18703298, 0.300563,...        0.200332  \n",
       "3   [0.55378866, 0.23387077, 0.18255949, 0.3071186...        0.201382  \n",
       "4   [0.51131725, 0.21289511, 0.1832521, 0.29490086...        0.188335  \n",
       "5   [0.4260331, 0.27279034, 0.1930303, 0.29415825,...        0.189182  \n",
       "6   [1.6225176, 0.49620727, 0.23345754, 0.35704044...        0.345963  \n",
       "7   [1.4188101, 0.29197347, 0.15333605, 0.3154519,...        0.278226  \n",
       "8   [0.44144657, 0.38795996, 0.19049823, 0.3022683...        0.202581  \n",
       "9   [0.74514025, 0.4734809, 0.20758477, 0.21326503...        0.219892  \n",
       "10  [0.7465125, 0.47345257, 0.20975348, 0.21294709...        0.219310  \n",
       "11  [0.7493359, 0.48765707, 0.23373583, 0.21960872...        0.221718  \n",
       "12  [0.55847114, 0.37978885, 0.24733374, 0.2104330...        0.200371  \n",
       "13  [0.5609578, 0.3778348, 0.22739674, 0.20949966,...        0.191113  \n",
       "14  [0.53199214, 0.4365672, 0.21876721, 0.21108106...        0.194220  \n",
       "15  [1.73277, 0.4427758, 0.4111469, 0.31531253, 0....        0.359366  \n",
       "16  [2.0500252, 0.37924755, 0.2839488, 0.22681129,...        0.336321  \n",
       "17  [0.5364739, 0.46236882, 0.22217913, 0.22016397...        0.200403  \n",
       "18  [0.38628545, 0.7427452, 0.3703817, 0.27187595,...        0.241171  \n",
       "19  [0.38787448, 0.7476907, 0.37261835, 0.27211562...        0.241764  \n",
       "20  [0.4027729, 0.80330247, 0.38320857, 0.2822693,...        0.252775  \n",
       "21  [0.3116222, 0.57835996, 0.3831021, 0.2994879, ...        0.225365  \n",
       "22  [0.31046766, 0.5794681, 0.3674428, 0.2915811, ...        0.216173  \n",
       "23  [0.42250302, 0.72924334, 0.39017773, 0.2818692...        0.246588  \n",
       "24  [0.40386847, 0.75804824, 0.5778001, 0.4315052,...        0.304863  \n",
       "25  [0.45444784, 0.9528722, 0.34708968, 0.3151675,...        0.267708  \n",
       "26  [0.4563299, 0.83359456, 0.3662339, 0.2973489, ...        0.259696  \n",
       "27  [0.79802585, 0.24749367, 0.20519519, 0.1791570...        0.218551  \n",
       "28  [0.7988485, 0.24758333, 0.20610262, 0.17917743...        0.218264  \n",
       "29  [0.8132111, 0.25779137, 0.22674453, 0.18607253...        0.223319  \n",
       "30  [0.49139962, 0.21709509, 0.19161083, 0.1873208...        0.192021  \n",
       "31  [0.49252713, 0.24310027, 0.18369389, 0.1871396...        0.184903  \n",
       "32  [0.4558448, 0.24349013, 0.21191458, 0.18421006...        0.186382  \n",
       "33  [0.83028406, 0.28023353, 0.18463121, 0.2279322...        0.248229  \n",
       "34  [0.79945886, 0.40835804, 0.2185168, 0.19199964...        0.232000  \n",
       "35  [0.4637515, 0.33980352, 0.20658931, 0.18896657...        0.195809  \n",
       "36  [0.5646864, 0.3416949, 0.37660512, 0.30189574,...        0.202656  \n",
       "37  [0.5646507, 0.34213075, 0.37635693, 0.30203128...        0.202081  \n",
       "38  [0.5560264, 0.34749165, 0.38232553, 0.30664232...        0.202436  \n",
       "39  [0.46233505, 0.40088043, 0.363964, 0.33155915,...        0.202874  \n",
       "40  [0.46791187, 0.38735807, 0.36721846, 0.2907592...        0.194456  \n",
       "41  [0.355643, 0.34293512, 0.36365938, 0.313412, 0...        0.181290  \n",
       "42  [2.5123086, 0.97630805, 0.49998343, 0.6041228,...        0.504714  \n",
       "43  [1.0762672, 0.36687008, 0.40569413, 0.30982533...        0.255655  \n",
       "44  [0.43097824, 0.36279616, 0.37873825, 0.3308226...        0.195608  "
      ]
     },
     "execution_count": 34,
     "metadata": {},
     "output_type": "execute_result"
    }
   ],
   "source": [
    "with open('scenario5_results.pkl', 'rb') as f:\n",
    "    results = pickle.load(f)\n",
    "\n",
    "df5 = pd.DataFrame.from_dict(results).reset_index(drop=True)\n",
    "\n",
    "# add column mean_test_loss\n",
    "df5['mean_test_loss'] = df5['test_loss'].apply(lambda x: np.mean(x))\n",
    "df5"
   ]
  },
  {
   "cell_type": "code",
   "execution_count": 35,
   "metadata": {},
   "outputs": [
    {
     "data": {
      "text/plain": [
       "lr     weight_decay_\n",
       "0.001  0.0005           0.215670\n",
       "       0.0050           0.215441\n",
       "       0.0500           0.220116\n",
       "0.010  0.0005           0.204402\n",
       "       0.0050           0.194996\n",
       "       0.0500           0.199532\n",
       "0.100  0.0005           0.352627\n",
       "       0.0050           0.273982\n",
       "       0.0500           0.210819\n",
       "Name: mean_test_loss, dtype: float32"
      ]
     },
     "execution_count": 35,
     "metadata": {},
     "output_type": "execute_result"
    }
   ],
   "source": [
    "df5.groupby(['lr', 'weight_decay_'])['mean_test_loss'].mean()"
   ]
  },
  {
   "cell_type": "code",
   "execution_count": 36,
   "metadata": {},
   "outputs": [
    {
     "name": "stdout",
     "output_type": "stream",
     "text": [
      "Best Learning Rate: 0.01 | Best Weight Decay: 0.005\n",
      "Average test loss (5y): 0.195 ± 0.012\n"
     ]
    }
   ],
   "source": [
    "best_params = df5.groupby(['lr', 'weight_decay_'])['mean_test_loss'].mean().idxmin()\n",
    "print(f'Best Learning Rate: {best_params[0]} | Best Weight Decay: {best_params[1]}')\n",
    "\n",
    "print(f'Average test loss (5y): {df5[df5.lr==best_params[0]][df5.weight_decay_==best_params[1]][\"mean_test_loss\"].mean():.3f} ± {df5[df5.lr==best_params[0]][df5.weight_decay_==best_params[1]][\"mean_test_loss\"].std():.3f}')"
   ]
  },
  {
   "cell_type": "code",
   "execution_count": 37,
   "metadata": {},
   "outputs": [
    {
     "data": {
      "image/png": "[encoded data removed]",
      "text/plain": [
       "<Figure size 1000x500 with 1 Axes>"
      ]
     },
     "metadata": {},
     "output_type": "display_data"
    }
   ],
   "source": [
    "plt.figure(figsize=(10, 5))\n",
    "for year in [2014, 2015, 2016, 2017, 2018]:\n",
    "    plt.plot(np.arange(2, 13), df5[(df5.lr==best_params[0]) & (df5.weight_decay_==best_params[1]) & (df5.test_year==year)]['test_loss'].values[0], label=f'Year: {year}')\n",
    "    plt.legend()\n",
    "plt.title('Evolution of the test loss')\n",
    "plt.xticks(np.arange(2, 13), [months_name[i] for i in np.arange(2, 13)], rotation=45)\n",
    "plt.xlabel('Month')\n",
    "plt.ylabel('Test loss')\n",
    "plt.show()"
   ]
  },
  {
   "cell_type": "code",
   "execution_count": 41,
   "metadata": {},
   "outputs": [
    {
     "data": {
      "image/png": "[encoded data removed]",
      "text/plain": [
       "<Figure size 1000x500 with 1 Axes>"
      ]
     },
     "metadata": {},
     "output_type": "display_data"
    }
   ],
   "source": [
    "plt.figure(figsize=(10, 5))\n",
    "plt.plot(df5[(df5.lr==best_params[0]) & (df5.weight_decay_==best_params[1]) & (df5.test_year==2018)]['training_loss'].values[0])\n",
    "plt.xlabel('Epoch')\n",
    "plt.ylabel('Training Loss')\n",
    "plt.title('Training Loss for December 2018')\n",
    "plt.show()"
   ]
  },
  {
   "cell_type": "markdown",
   "metadata": {},
   "source": [
    "### 6. Train 01.2018 -> predict 02.2018, train 02.2018 -> predict 03.2018 ..."
   ]
  },
  {
   "cell_type": "markdown",
   "metadata": {},
   "source": [
    "> We train a model for each month and predict the following month of the same year."
   ]
  },
  {
   "cell_type": "code",
   "execution_count": 138,
   "metadata": {},
   "outputs": [],
   "source": [
    "# Run experiments\n",
    "\n",
    "def run_scenario6(lr_, weight_decay_, train_year, test_year, selected_months=[1, 2, 3, 4, 5, 6, 7, 8, 9, 10, 11, 12], NUM_EPOCHS=300):\n",
    "\n",
    "    ###### Print current lr\n",
    "    # print(f\"\\nLR: {lr_}\")\n",
    "    \n",
    "    ###### Define the model, optimizer, loss function and history\n",
    "    torch.backends.cudnn.deterministic = True\n",
    "    torch.backends.cudnn.benchmark = True\n",
    "    torch.manual_seed(random_seed)\n",
    "\n",
    "    # Create the model, optimizer, and trainer\n",
    "    # model = SimpleNN(input_dim=len(train_columns), output_dim=1, hidden_dim=5).to(DEVICE)\n",
    "    model = TwoLayerNN(input_dim=len(train_columns), output_dim=1, hidden_dim1 = 32, hidden_dim2 = 32).to(DEVICE)\n",
    "\n",
    "    optimizer = optim.SGD(\n",
    "        [param for param in model.parameters() if param.requires_grad],\n",
    "        lr=lr_,\n",
    "        momentum=0.9,\n",
    "        weight_decay=weight_decay_, \n",
    "    )\n",
    "\n",
    "    trainer = Trainer(\n",
    "        model=model,\n",
    "        criterion=nn.MSELoss(reduction='none').to(DEVICE),\n",
    "        metric=mse,\n",
    "        device=DEVICE,\n",
    "        optimizer=optimizer,\n",
    "        cast_label=False,\n",
    "    )\n",
    "    \n",
    "    y_pred_month_history = []\n",
    "    y_test_month_history = []\n",
    "    loss_test_month_history = []\n",
    "    \n",
    "    # loop over the months to use as training data\n",
    "    for month in selected_months[:-1]:\n",
    "    \n",
    "        ###### Define training data\n",
    "        x_train_month = time_series[(time_series.year.isin(train_year)) & (time_series.month == month)][train_columns].values\n",
    "        y_train_month = time_series[(time_series.year.isin(train_year)) & (time_series.month == month)]['target'].values\n",
    "        \n",
    "        x_mean, x_std = np.mean(x_train_month, axis=0), np.std(x_train_month, axis=0)\n",
    "        y_mean, y_std = np.mean(y_train_month), np.std(y_train_month)\n",
    "        \n",
    "        x_train_month = (x_train_month - x_mean) / x_std\n",
    "        y_train_month = (y_train_month - y_mean) / y_std\n",
    "        y_train_month = np.array(y_train_month).reshape(-1, 1)\n",
    "    \n",
    "        train_dataset = torch.utils.data.TensorDataset(torch.tensor(x_train_month), torch.tensor(y_train_month))\n",
    "        train_dataloader = DataLoader(train_dataset, batch_size=512, shuffle=True)\n",
    "        train_iterator = iter(train_dataloader)\n",
    "    \n",
    "        ###### Training loop\n",
    "        training_loss_history = []\n",
    "        for epoch in range(NUM_EPOCHS):\n",
    "        \n",
    "            # Clear gradients from the previous iteration\n",
    "            trainer.optimizer.zero_grad()\n",
    "\n",
    "            # Get next batch of data\n",
    "            try:\n",
    "                x_stream, y_stream = next(train_iterator)\n",
    "            except StopIteration:\n",
    "                train_iterator = iter(train_dataloader)\n",
    "                x_stream, y_stream = next(train_iterator)\n",
    "            x_stream = x_stream.to(DEVICE).type(torch.float32)\n",
    "            y_stream = y_stream.to(DEVICE).type(torch.float32)\n",
    "\n",
    "            # Forward pass\n",
    "            outs_stream = trainer.model(x_stream)\n",
    "            loss_stream = trainer.criterion(outs_stream, y_stream).mean()\n",
    "            \n",
    "            # Store loss value\n",
    "            training_loss_history.append(loss_stream.detach().cpu().numpy())\n",
    "        \n",
    "            # Get gradients w.r.t to parameters\n",
    "            loss_stream.backward()\n",
    "            \n",
    "            # Update the parameters\n",
    "            trainer.optimizer.step()\n",
    "    \n",
    "        ###### Test the model on the next month\n",
    "        x_test_month = time_series[(time_series.year==test_year) & (time_series.month == month+1)][train_columns].values\n",
    "        y_test_month = time_series[(time_series.year==test_year) & (time_series.month == month+1)]['target'].values\n",
    "        \n",
    "        x_test_month = (x_test_month - x_mean) / x_std\n",
    "        y_test_month = (y_test_month - y_mean) / y_std\n",
    "        y_test_month = np.array(y_test_month).reshape(-1, 1)\n",
    "        \n",
    "        y_pred_month = trainer.model(torch.tensor(x_test_month).to(DEVICE).type(torch.float32))\n",
    "        loss_test_month = trainer.criterion(y_pred_month, torch.tensor(y_test_month).to(DEVICE).type(torch.float32)).mean()\n",
    "    \n",
    "        # print(f\"Validation Loss: {loss_test_month:0.3f}\")\n",
    "        \n",
    "        y_pred_month_history.append(y_pred_month.detach().cpu().numpy()*y_std + y_mean)\n",
    "        y_test_month_history.append(y_test_month*y_std + y_mean)\n",
    "        loss_test_month_history.append(loss_test_month.detach().cpu().numpy())\n",
    "\n",
    "    return training_loss_history, y_pred_month_history, y_test_month_history, loss_test_month_history"
   ]
  },
  {
   "cell_type": "code",
   "execution_count": 139,
   "metadata": {},
   "outputs": [
    {
     "name": "stderr",
     "output_type": "stream",
     "text": [
      "Years: 100%|██████████| 5/5 [02:59<00:00, 35.86s/it]\n"
     ]
    }
   ],
   "source": [
    "results = {'lr': {}, 'weight_decay': {}, 'train_year': {}, 'test_year': {}, 'training_loss': {}, 'y_pred': {}, 'y_test': {}, 'test_loss': {}}\n",
    "\n",
    "for year in tqdm([2014, 2015, 2016, 2017, 2018], position=0, leave=True, desc='Years'):\n",
    "\n",
    "    train_year = [year]\n",
    "    test_year = year\n",
    "\n",
    "    for lr_ in [0.001, 0.01, 0.1]:\n",
    "        for weight_decay_ in [5e-4, 5e-3, 5e-2]:\n",
    "            training_loss_history, y_pred, y_test, test_loss = run_scenario6(lr_=lr_, weight_decay_=weight_decay_, train_year=train_year, test_year=test_year)\n",
    "            \n",
    "            results['lr'][(year, lr_, weight_decay_)] = lr_\n",
    "            results['weight_decay'][(year, lr_, weight_decay_)] = weight_decay_\n",
    "            results['train_year'][(year, lr_, weight_decay_)] = train_year\n",
    "            results['test_year'][(year, lr_, weight_decay_)] = test_year\n",
    "            results['training_loss'][(year, lr_, weight_decay_)] = training_loss_history\n",
    "            results['y_pred'][(year, lr_, weight_decay_)] = y_pred\n",
    "            results['y_test'][(year, lr_, weight_decay_)] = y_test\n",
    "            results['test_loss'][(year, lr_, weight_decay_)] = test_loss\n",
    "            \n",
    "with open('scenario6_results.pkl', 'wb') as f:\n",
    "    pickle.dump(results, f)"
   ]
  },
  {
   "cell_type": "code",
   "execution_count": 140,
   "metadata": {},
   "outputs": [
    {
     "data": {
      "text/html": [
       "<div>\n",
       "<style scoped>\n",
       "    .dataframe tbody tr th:only-of-type {\n",
       "        vertical-align: middle;\n",
       "    }\n",
       "\n",
       "    .dataframe tbody tr th {\n",
       "        vertical-align: top;\n",
       "    }\n",
       "\n",
       "    .dataframe thead th {\n",
       "        text-align: right;\n",
       "    }\n",
       "</style>\n",
       "<table border=\"1\" class=\"dataframe\">\n",
       "  <thead>\n",
       "    <tr style=\"text-align: right;\">\n",
       "      <th></th>\n",
       "      <th>lr</th>\n",
       "      <th>weight_decay</th>\n",
       "      <th>train_year</th>\n",
       "      <th>test_year</th>\n",
       "      <th>y_pred</th>\n",
       "      <th>y_test</th>\n",
       "      <th>test_loss</th>\n",
       "      <th>mean_test_loss</th>\n",
       "    </tr>\n",
       "  </thead>\n",
       "  <tbody>\n",
       "    <tr>\n",
       "      <th>34</th>\n",
       "      <td>0.10</td>\n",
       "      <td>0.0050</td>\n",
       "      <td>[2017]</td>\n",
       "      <td>2017</td>\n",
       "      <td>[[[8.861454], [24.73747], [45.988136], [56.989...</td>\n",
       "      <td>[[[15.22495256448771], [33.77693436157554], [4...</td>\n",
       "      <td>[0.79945886, 0.312583, 0.19777098, 0.24471623,...</td>\n",
       "      <td>0.540618</td>\n",
       "    </tr>\n",
       "    <tr>\n",
       "      <th>33</th>\n",
       "      <td>0.10</td>\n",
       "      <td>0.0005</td>\n",
       "      <td>[2017]</td>\n",
       "      <td>2017</td>\n",
       "      <td>[[[7.7351637], [22.481825], [48.040573], [38.5...</td>\n",
       "      <td>[[[15.22495256448771], [33.77693436157554], [4...</td>\n",
       "      <td>[0.83028406, 0.6339413, 0.43253127, 0.5413628,...</td>\n",
       "      <td>1.275737</td>\n",
       "    </tr>\n",
       "    <tr>\n",
       "      <th>13</th>\n",
       "      <td>0.01</td>\n",
       "      <td>0.0050</td>\n",
       "      <td>[2015]</td>\n",
       "      <td>2015</td>\n",
       "      <td>[[[10.4722], [15.319833], [17.386683], [19.177...</td>\n",
       "      <td>[[[5.5254920739104705], [8.72059047021699], [1...</td>\n",
       "      <td>[0.5609578, 0.34943837, 0.55170685, 1.0922574,...</td>\n",
       "      <td>0.491222</td>\n",
       "    </tr>\n",
       "  </tbody>\n",
       "</table>\n",
       "</div>"
      ],
      "text/plain": [
       "      lr  weight_decay train_year  test_year  \\\n",
       "34  0.10        0.0050     [2017]       2017   \n",
       "33  0.10        0.0005     [2017]       2017   \n",
       "13  0.01        0.0050     [2015]       2015   \n",
       "\n",
       "                                               y_pred  \\\n",
       "34  [[[8.861454], [24.73747], [45.988136], [56.989...   \n",
       "33  [[[7.7351637], [22.481825], [48.040573], [38.5...   \n",
       "13  [[[10.4722], [15.319833], [17.386683], [19.177...   \n",
       "\n",
       "                                               y_test  \\\n",
       "34  [[[15.22495256448771], [33.77693436157554], [4...   \n",
       "33  [[[15.22495256448771], [33.77693436157554], [4...   \n",
       "13  [[[5.5254920739104705], [8.72059047021699], [1...   \n",
       "\n",
       "                                            test_loss  mean_test_loss  \n",
       "34  [0.79945886, 0.312583, 0.19777098, 0.24471623,...        0.540618  \n",
       "33  [0.83028406, 0.6339413, 0.43253127, 0.5413628,...        1.275737  \n",
       "13  [0.5609578, 0.34943837, 0.55170685, 1.0922574,...        0.491222  "
      ]
     },
     "execution_count": 140,
     "metadata": {},
     "output_type": "execute_result"
    }
   ],
   "source": [
    "with open('scenario6_results.pkl', 'rb') as f:\n",
    "    results = pickle.load(f)\n",
    "\n",
    "df6 = pd.DataFrame.from_dict(results).reset_index(drop=True)\n",
    "\n",
    "# add column mean_test_loss\n",
    "df6['mean_test_loss'] = df6['test_loss'].apply(lambda x: np.mean(x))\n",
    "df6.sample(3)"
   ]
  },
  {
   "cell_type": "code",
   "execution_count": 141,
   "metadata": {},
   "outputs": [
    {
     "data": {
      "text/plain": [
       "lr     weight_decay\n",
       "0.001  0.0005          0.269060\n",
       "       0.0050          0.264429\n",
       "       0.0500          0.248110\n",
       "0.010  0.0005          0.444853\n",
       "       0.0050          0.409407\n",
       "       0.0500          0.253036\n",
       "0.100  0.0005          1.371684\n",
       "       0.0050          0.707269\n",
       "       0.0500          0.262910\n",
       "Name: mean_test_loss, dtype: float32"
      ]
     },
     "execution_count": 141,
     "metadata": {},
     "output_type": "execute_result"
    }
   ],
   "source": [
    "df6.groupby(['lr', 'weight_decay'])['mean_test_loss'].mean()"
   ]
  },
  {
   "cell_type": "code",
   "execution_count": 142,
   "metadata": {},
   "outputs": [
    {
     "name": "stdout",
     "output_type": "stream",
     "text": [
      "Best Learning Rate: 0.001 | Best Weight Decay: 0.05\n",
      "Average test loss (5y): 0.248 ± 0.016\n"
     ]
    }
   ],
   "source": [
    "best_params = df6.groupby(['lr', 'weight_decay'])['mean_test_loss'].mean().idxmin()\n",
    "print(f'Best Learning Rate: {best_params[0]} | Best Weight Decay: {best_params[1]}')\n",
    "\n",
    "print(f'Average test loss (5y): {df6[df6.lr==best_params[0]][df6.weight_decay==best_params[1]][\"mean_test_loss\"].mean():.3f} ± {df6[df6.lr==best_params[0]][df6.weight_decay==best_params[1]][\"mean_test_loss\"].std():.3f}')"
   ]
  },
  {
   "cell_type": "code",
   "execution_count": 143,
   "metadata": {},
   "outputs": [
    {
     "data": {
      "text/html": [
       "<div>\n",
       "<style scoped>\n",
       "    .dataframe tbody tr th:only-of-type {\n",
       "        vertical-align: middle;\n",
       "    }\n",
       "\n",
       "    .dataframe tbody tr th {\n",
       "        vertical-align: top;\n",
       "    }\n",
       "\n",
       "    .dataframe thead th {\n",
       "        text-align: right;\n",
       "    }\n",
       "</style>\n",
       "<table border=\"1\" class=\"dataframe\">\n",
       "  <thead>\n",
       "    <tr style=\"text-align: right;\">\n",
       "      <th></th>\n",
       "      <th>lr</th>\n",
       "      <th>weight_decay</th>\n",
       "      <th>train_year</th>\n",
       "      <th>test_year</th>\n",
       "      <th>y_pred</th>\n",
       "      <th>y_test</th>\n",
       "      <th>test_loss</th>\n",
       "      <th>mean_test_loss</th>\n",
       "    </tr>\n",
       "  </thead>\n",
       "  <tbody>\n",
       "    <tr>\n",
       "      <th>2</th>\n",
       "      <td>0.001</td>\n",
       "      <td>0.05</td>\n",
       "      <td>[2014]</td>\n",
       "      <td>2014</td>\n",
       "      <td>[[[9.812568], [16.113058], [23.542345], [26.61...</td>\n",
       "      <td>[[[6.823986227624879], [13.397230516795288], [...</td>\n",
       "      <td>[0.48469695, 0.23121746, 0.15332323, 0.2937673...</td>\n",
       "      <td>0.222580</td>\n",
       "    </tr>\n",
       "    <tr>\n",
       "      <th>11</th>\n",
       "      <td>0.001</td>\n",
       "      <td>0.05</td>\n",
       "      <td>[2015]</td>\n",
       "      <td>2015</td>\n",
       "      <td>[[[8.399813], [10.691908], [16.487888], [20.37...</td>\n",
       "      <td>[[[5.5254920739104705], [8.72059047021699], [1...</td>\n",
       "      <td>[0.7493359, 0.37847367, 0.2078817, 0.2723669, ...</td>\n",
       "      <td>0.250588</td>\n",
       "    </tr>\n",
       "    <tr>\n",
       "      <th>20</th>\n",
       "      <td>0.001</td>\n",
       "      <td>0.05</td>\n",
       "      <td>[2016]</td>\n",
       "      <td>2016</td>\n",
       "      <td>[[[8.220125], [16.858292], [28.318462], [27.24...</td>\n",
       "      <td>[[[7.436691793298497], [18.179829456913502], [...</td>\n",
       "      <td>[0.4027729, 0.8313328, 0.251524, 0.31766704, 0...</td>\n",
       "      <td>0.266756</td>\n",
       "    </tr>\n",
       "    <tr>\n",
       "      <th>29</th>\n",
       "      <td>0.001</td>\n",
       "      <td>0.05</td>\n",
       "      <td>[2017]</td>\n",
       "      <td>2017</td>\n",
       "      <td>[[[6.5725536], [15.84778], [32.241337], [41.21...</td>\n",
       "      <td>[[[15.22495256448771], [33.77693436157554], [4...</td>\n",
       "      <td>[0.8132111, 0.17533171, 0.1676762, 0.20678349,...</td>\n",
       "      <td>0.248379</td>\n",
       "    </tr>\n",
       "    <tr>\n",
       "      <th>38</th>\n",
       "      <td>0.001</td>\n",
       "      <td>0.05</td>\n",
       "      <td>[2018]</td>\n",
       "      <td>2018</td>\n",
       "      <td>[[[7.146555], [12.449159], [15.619535], [21.84...</td>\n",
       "      <td>[[[4.703835373160635], [6.010389335678687], [1...</td>\n",
       "      <td>[0.5560264, 0.2682357, 0.26985866, 0.6018029, ...</td>\n",
       "      <td>0.252248</td>\n",
       "    </tr>\n",
       "  </tbody>\n",
       "</table>\n",
       "</div>"
      ],
      "text/plain": [
       "       lr  weight_decay train_year  test_year  \\\n",
       "2   0.001          0.05     [2014]       2014   \n",
       "11  0.001          0.05     [2015]       2015   \n",
       "20  0.001          0.05     [2016]       2016   \n",
       "29  0.001          0.05     [2017]       2017   \n",
       "38  0.001          0.05     [2018]       2018   \n",
       "\n",
       "                                               y_pred  \\\n",
       "2   [[[9.812568], [16.113058], [23.542345], [26.61...   \n",
       "11  [[[8.399813], [10.691908], [16.487888], [20.37...   \n",
       "20  [[[8.220125], [16.858292], [28.318462], [27.24...   \n",
       "29  [[[6.5725536], [15.84778], [32.241337], [41.21...   \n",
       "38  [[[7.146555], [12.449159], [15.619535], [21.84...   \n",
       "\n",
       "                                               y_test  \\\n",
       "2   [[[6.823986227624879], [13.397230516795288], [...   \n",
       "11  [[[5.5254920739104705], [8.72059047021699], [1...   \n",
       "20  [[[7.436691793298497], [18.179829456913502], [...   \n",
       "29  [[[15.22495256448771], [33.77693436157554], [4...   \n",
       "38  [[[4.703835373160635], [6.010389335678687], [1...   \n",
       "\n",
       "                                            test_loss  mean_test_loss  \n",
       "2   [0.48469695, 0.23121746, 0.15332323, 0.2937673...        0.222580  \n",
       "11  [0.7493359, 0.37847367, 0.2078817, 0.2723669, ...        0.250588  \n",
       "20  [0.4027729, 0.8313328, 0.251524, 0.31766704, 0...        0.266756  \n",
       "29  [0.8132111, 0.17533171, 0.1676762, 0.20678349,...        0.248379  \n",
       "38  [0.5560264, 0.2682357, 0.26985866, 0.6018029, ...        0.252248  "
      ]
     },
     "execution_count": 143,
     "metadata": {},
     "output_type": "execute_result"
    }
   ],
   "source": [
    "df6[(df6.lr==best_params[0]) & (df6.weight_decay==best_params[1])]"
   ]
  },
  {
   "cell_type": "code",
   "execution_count": 144,
   "metadata": {},
   "outputs": [
    {
     "data": {
      "image/png": "[encoded data removed]",
      "text/plain": [
       "<Figure size 1000x500 with 1 Axes>"
      ]
     },
     "metadata": {},
     "output_type": "display_data"
    }
   ],
   "source": [
    "# pass test loss to an array\n",
    "test_losses = np.full((5, 11), np.nan)\n",
    "for ind, year in enumerate([2014, 2015, 2016, 2017, 2018]):\n",
    "    # create a 5x11 array with the test loss for each month\n",
    "    test_loss = np.array(df6[(df6.lr==best_params[0]) & (df6.weight_decay==best_params[1]) & (df6.test_year==year)]['test_loss'].values[0])\n",
    "    test_losses[ind, :test_loss.shape[0]] = test_loss.flatten()\n",
    "    \n",
    "plt.figure(figsize=(10, 5))\n",
    "plt.errorbar(np.arange(2, 13), test_losses.mean(axis=0), yerr=test_losses.std(axis=0), fmt='o')\n",
    "plt.title('Average test loss for each month')\n",
    "plt.xticks(np.arange(2, 13), [months_name[i] for i in np.arange(2, 13)], rotation=45)\n",
    "plt.xlabel('Month')\n",
    "plt.ylabel('Test Loss')\n",
    "plt.show()"
   ]
  },
  {
   "cell_type": "markdown",
   "metadata": {},
   "source": [
    "> The results are the worst when there is a notable change in the month weather. We can see that the results are less good when training with April and predicting May. For similar months, (e.g. May -> June) the results are better."
   ]
  },
  {
   "cell_type": "markdown",
   "metadata": {},
   "source": [
    "### 7. Train using 2 months, predict the following month"
   ]
  },
  {
   "cell_type": "code",
   "execution_count": 120,
   "metadata": {},
   "outputs": [],
   "source": [
    "# Run experiments\n",
    "def run_scenario7(lr_, weight_decay_, train_year, test_year, selected_months=[1, 2, 3, 4, 5, 6, 7, 8, 9, 10, 11, 12], NUM_EPOCHS=300):\n",
    "            \n",
    "    ###### Print current seed and lr\n",
    "    # print(f\"LR: {lr_}\")\n",
    "    \n",
    "    ###### Define the model, optimizer, loss function and history\n",
    "    torch.backends.cudnn.deterministic = True\n",
    "    torch.backends.cudnn.benchmark = True\n",
    "    torch.manual_seed(random_seed)\n",
    "\n",
    "    # Create the model, optimizer, and trainer\n",
    "    # model = SimpleNN(input_dim=len(train_columns), output_dim=1, hidden_dim=5).to(DEVICE)\n",
    "    model = TwoLayerNN(input_dim=len(train_columns), output_dim=1, hidden_dim1 = 32, hidden_dim2 = 32).to(DEVICE)\n",
    "\n",
    "    optimizer = optim.SGD(\n",
    "        [param for param in model.parameters() if param.requires_grad],\n",
    "        lr=lr_,\n",
    "        momentum=0.9,\n",
    "        weight_decay=weight_decay_, \n",
    "    )\n",
    "\n",
    "    trainer = Trainer(\n",
    "        model=model,\n",
    "        criterion=nn.MSELoss(reduction='none').to(DEVICE),\n",
    "        metric=mse,\n",
    "        device=DEVICE,\n",
    "        optimizer=optimizer,\n",
    "        cast_label=False,\n",
    "    )\n",
    "    \n",
    "    # loop over the months to use as training data\n",
    "    y_pred_month_history = []\n",
    "    y_test_month_history = []\n",
    "    loss_test_month_history = []\n",
    "    \n",
    "    for month in selected_months[:-2]:\n",
    "    \n",
    "        ###### Define training data\n",
    "        x_train_month = time_series[(time_series.year.isin(train_year)) & (time_series.month.isin([month, month+1]))][train_columns].values\n",
    "        y_train_month = time_series[(time_series.year.isin(train_year)) & (time_series.month.isin([month, month+1]))]['target'].values\n",
    "        \n",
    "        x_mean, x_std = np.mean(x_train_month, axis=0), np.std(x_train_month, axis=0)\n",
    "        y_mean, y_std = np.mean(y_train_month), np.std(y_train_month)\n",
    "        \n",
    "        x_train_month = (x_train_month - x_mean) / x_std\n",
    "        y_train_month = (y_train_month - y_mean) / y_std\n",
    "        y_train_month = np.array(y_train_month).reshape(-1, 1)\n",
    "    \n",
    "        train_dataset = torch.utils.data.TensorDataset(torch.tensor(x_train_month), torch.tensor(y_train_month))\n",
    "        train_dataloader = DataLoader(train_dataset, batch_size=512, shuffle=True)\n",
    "        train_iterator = iter(train_dataloader)\n",
    "    \n",
    "        ###### Training loop\n",
    "        training_loss_history = []\n",
    "        for epoch in range(NUM_EPOCHS):\n",
    "        \n",
    "            # Clear gradients from the previous iteration\n",
    "            trainer.optimizer.zero_grad()\n",
    "\n",
    "            # Get next batch of data\n",
    "            try:\n",
    "                x_stream, y_stream = next(train_iterator)\n",
    "            except StopIteration:\n",
    "                train_iterator = iter(train_dataloader)\n",
    "                x_stream, y_stream = next(train_iterator)\n",
    "            x_stream = x_stream.to(DEVICE).type(torch.float32)\n",
    "            y_stream = y_stream.to(DEVICE).type(torch.float32)\n",
    "\n",
    "            # Forward pass\n",
    "            outs_stream = trainer.model(x_stream)\n",
    "            loss_stream = trainer.criterion(outs_stream, y_stream).mean()\n",
    "            \n",
    "            # Store loss value\n",
    "            training_loss_history.append(loss_stream.detach().cpu().numpy())\n",
    "        \n",
    "            # Get gradients w.r.t to parameters\n",
    "            loss_stream.backward()\n",
    "            \n",
    "            # Update the parameters\n",
    "            trainer.optimizer.step()\n",
    "    \n",
    "        # Print training loss value\n",
    "        # print(f'Training Loss: {loss_stream:0.3f}')\n",
    "    \n",
    "        ###### Test the model on the next month\n",
    "        x_test_month = time_series[(time_series.year==test_year) & (time_series.month.isin([month+2]))][train_columns].values\n",
    "        y_test_month = time_series[(time_series.year==test_year) & (time_series.month.isin([month+2]))]['target'].values\n",
    "        \n",
    "        x_test_month = (x_test_month - x_mean) / x_std\n",
    "        y_test_month = (y_test_month - y_mean) / y_std\n",
    "        \n",
    "        y_test_month = np.array(y_test_month).reshape(-1, 1)\n",
    "        \n",
    "        y_pred_month = trainer.model(torch.tensor(x_test_month).to(DEVICE).type(torch.float32))\n",
    "        loss_test_month = trainer.criterion(y_pred_month, torch.tensor(y_test_month).to(DEVICE).type(torch.float32)).mean()\n",
    "    \n",
    "        # print(f\"Validation Loss: {loss_test_month:0.3f}\")\n",
    "\n",
    "        y_pred_month_history.append(y_pred_month.detach().cpu().numpy()*y_std + y_mean)\n",
    "        y_test_month_history.append(y_test_month*y_std + y_mean)\n",
    "        loss_test_month_history.append(loss_test_month.detach().cpu().numpy())\n",
    "        \n",
    "        \n",
    "    return training_loss_history, y_pred_month_history, y_test_month_history, loss_test_month_history"
   ]
  },
  {
   "cell_type": "code",
   "execution_count": 121,
   "metadata": {},
   "outputs": [
    {
     "name": "stderr",
     "output_type": "stream",
     "text": [
      "Years: 100%|██████████| 5/5 [02:36<00:00, 31.32s/it]\n"
     ]
    }
   ],
   "source": [
    "results = {'lr': {}, 'weight_decay': {}, 'train_year': {}, 'test_year': {}, 'training_loss': {}, 'y_pred': {}, 'y_test': {}, 'test_loss': {}}\n",
    "\n",
    "for year in tqdm([2014, 2015, 2016, 2017, 2018], position=0, leave=True, desc='Years'):\n",
    "\n",
    "    train_year = [year]\n",
    "    test_year = year\n",
    "\n",
    "    for lr_ in [0.001, 0.01, 0.1]:\n",
    "        for weight_decay_ in [5e-4, 5e-3, 5e-2]:\n",
    "            training_loss_history, y_pred, y_test, test_loss = run_scenario7(lr_=lr_, weight_decay_=weight_decay_, train_year=train_year, test_year=test_year)\n",
    "            \n",
    "            results['lr'][(year, lr_, weight_decay_)] = lr_\n",
    "            results['weight_decay'][(year, lr_, weight_decay_)] = weight_decay_\n",
    "            results['train_year'][(year, lr_, weight_decay_)] = train_year\n",
    "            results['test_year'][(year, lr_, weight_decay_)] = test_year\n",
    "            results['training_loss'][(year, lr_, weight_decay_)] = training_loss_history\n",
    "            results['y_pred'][(year, lr_, weight_decay_)] = y_pred\n",
    "            results['y_test'][(year, lr_, weight_decay_)] = y_test\n",
    "            results['test_loss'][(year, lr_, weight_decay_)] = test_loss\n",
    "            \n",
    "with open('scenario7_results.pkl', 'wb') as f:\n",
    "    pickle.dump(results, f)"
   ]
  },
  {
   "cell_type": "code",
   "execution_count": 122,
   "metadata": {},
   "outputs": [
    {
     "data": {
      "text/html": [
       "<div>\n",
       "<style scoped>\n",
       "    .dataframe tbody tr th:only-of-type {\n",
       "        vertical-align: middle;\n",
       "    }\n",
       "\n",
       "    .dataframe tbody tr th {\n",
       "        vertical-align: top;\n",
       "    }\n",
       "\n",
       "    .dataframe thead th {\n",
       "        text-align: right;\n",
       "    }\n",
       "</style>\n",
       "<table border=\"1\" class=\"dataframe\">\n",
       "  <thead>\n",
       "    <tr style=\"text-align: right;\">\n",
       "      <th></th>\n",
       "      <th>lr</th>\n",
       "      <th>weight_decay</th>\n",
       "      <th>train_year</th>\n",
       "      <th>test_year</th>\n",
       "      <th>y_pred</th>\n",
       "      <th>y_test</th>\n",
       "      <th>test_loss</th>\n",
       "      <th>mean_test_loss</th>\n",
       "    </tr>\n",
       "  </thead>\n",
       "  <tbody>\n",
       "    <tr>\n",
       "      <th>5</th>\n",
       "      <td>0.010</td>\n",
       "      <td>0.0500</td>\n",
       "      <td>[2014]</td>\n",
       "      <td>2014</td>\n",
       "      <td>[[[18.635094], [28.67563], [24.724243], [46.33...</td>\n",
       "      <td>[[[15.884267369320998], [11.806632110054904], ...</td>\n",
       "      <td>[0.30306327, 0.1581138, 0.26491722, 0.12837353...</td>\n",
       "      <td>0.174690</td>\n",
       "    </tr>\n",
       "    <tr>\n",
       "      <th>17</th>\n",
       "      <td>0.100</td>\n",
       "      <td>0.0500</td>\n",
       "      <td>[2015]</td>\n",
       "      <td>2015</td>\n",
       "      <td>[[[20.322998], [41.446037], [31.538208], [28.3...</td>\n",
       "      <td>[[[27.353259200443755], [17.914618784295154], ...</td>\n",
       "      <td>[0.54508907, 0.22452113, 0.21506375, 0.1441932...</td>\n",
       "      <td>0.190183</td>\n",
       "    </tr>\n",
       "    <tr>\n",
       "      <th>18</th>\n",
       "      <td>0.001</td>\n",
       "      <td>0.0005</td>\n",
       "      <td>[2016]</td>\n",
       "      <td>2016</td>\n",
       "      <td>[[[11.144691], [26.145987], [52.744827], [71.2...</td>\n",
       "      <td>[[[21.413553326692703], [53.589531031864176], ...</td>\n",
       "      <td>[0.89950866, 0.3178953, 0.34684548, 0.24106827...</td>\n",
       "      <td>0.251875</td>\n",
       "    </tr>\n",
       "  </tbody>\n",
       "</table>\n",
       "</div>"
      ],
      "text/plain": [
       "       lr  weight_decay train_year  test_year  \\\n",
       "5   0.010        0.0500     [2014]       2014   \n",
       "17  0.100        0.0500     [2015]       2015   \n",
       "18  0.001        0.0005     [2016]       2016   \n",
       "\n",
       "                                               y_pred  \\\n",
       "5   [[[18.635094], [28.67563], [24.724243], [46.33...   \n",
       "17  [[[20.322998], [41.446037], [31.538208], [28.3...   \n",
       "18  [[[11.144691], [26.145987], [52.744827], [71.2...   \n",
       "\n",
       "                                               y_test  \\\n",
       "5   [[[15.884267369320998], [11.806632110054904], ...   \n",
       "17  [[[27.353259200443755], [17.914618784295154], ...   \n",
       "18  [[[21.413553326692703], [53.589531031864176], ...   \n",
       "\n",
       "                                            test_loss  mean_test_loss  \n",
       "5   [0.30306327, 0.1581138, 0.26491722, 0.12837353...        0.174690  \n",
       "17  [0.54508907, 0.22452113, 0.21506375, 0.1441932...        0.190183  \n",
       "18  [0.89950866, 0.3178953, 0.34684548, 0.24106827...        0.251875  "
      ]
     },
     "execution_count": 122,
     "metadata": {},
     "output_type": "execute_result"
    }
   ],
   "source": [
    "with open('scenario7_results.pkl', 'rb') as f:\n",
    "    results = pickle.load(f)\n",
    "\n",
    "df7 = pd.DataFrame.from_dict(results).reset_index(drop=True)\n",
    "\n",
    "# add column mean_test_loss\n",
    "df7['mean_test_loss'] = df7['test_loss'].apply(lambda x: np.mean(x))\n",
    "df7.sample(3)"
   ]
  },
  {
   "cell_type": "code",
   "execution_count": 123,
   "metadata": {},
   "outputs": [
    {
     "data": {
      "text/plain": [
       "lr     weight_decay\n",
       "0.001  0.0005          0.213273\n",
       "       0.0050          0.211477\n",
       "       0.0500          0.205548\n",
       "0.010  0.0005          0.242502\n",
       "       0.0050          0.215015\n",
       "       0.0500          0.187099\n",
       "0.100  0.0005          0.513340\n",
       "       0.0050          0.333993\n",
       "       0.0500          0.214633\n",
       "Name: mean_test_loss, dtype: float32"
      ]
     },
     "execution_count": 123,
     "metadata": {},
     "output_type": "execute_result"
    }
   ],
   "source": [
    "df7.groupby(['lr', 'weight_decay'])['mean_test_loss'].mean()"
   ]
  },
  {
   "cell_type": "code",
   "execution_count": 124,
   "metadata": {},
   "outputs": [
    {
     "name": "stdout",
     "output_type": "stream",
     "text": [
      "Best Learning Rate: 0.01 | Best Weight Decay: 0.05\n",
      "Average test loss (5y): 0.187 ± 0.024\n"
     ]
    }
   ],
   "source": [
    "df7.groupby(['lr', 'weight_decay'])['mean_test_loss'].mean()\n",
    "best_params = df7.groupby(['lr', 'weight_decay'])['mean_test_loss'].mean().idxmin()\n",
    "print(f'Best Learning Rate: {best_params[0]} | Best Weight Decay: {best_params[1]}')\n",
    "\n",
    "print(f'Average test loss (5y): {df7[df7.lr==best_params[0]][df7.weight_decay==best_params[1]][\"mean_test_loss\"].mean():.3f} ± {df7[df7.lr==best_params[0]][df7.weight_decay==best_params[1]][\"mean_test_loss\"].std():.3f}')"
   ]
  },
  {
   "cell_type": "code",
   "execution_count": 127,
   "metadata": {},
   "outputs": [
    {
     "data": {
      "image/png": "[encoded data removed]",
      "text/plain": [
       "<Figure size 1000x500 with 1 Axes>"
      ]
     },
     "metadata": {},
     "output_type": "display_data"
    }
   ],
   "source": [
    "# pass test loss to an array\n",
    "test_losses = np.full((5, 10), np.nan)\n",
    "for ind, year in enumerate([2014, 2015, 2016, 2017, 2018]):\n",
    "    test_loss = np.array(df7[(df7.lr==best_params[0]) & (df7.weight_decay==best_params[1]) & (df7.test_year==year)]['test_loss'].values[0])\n",
    "    test_losses[ind, :test_loss.shape[0]] = test_loss.flatten()\n",
    "    \n",
    "plt.figure(figsize=(10, 5))\n",
    "plt.errorbar(np.arange(3, 13), test_losses.mean(axis=0), yerr=test_losses.std(axis=0), fmt='o')\n",
    "plt.title('Average test loss for each month')\n",
    "plt.xticks(np.arange(3, 13), [months_name[i] for i in np.arange(3, 13)], rotation=45)\n",
    "plt.xlabel('Month')\n",
    "plt.ylabel('Test Loss')\n",
    "plt.show()"
   ]
  },
  {
   "cell_type": "markdown",
   "metadata": {},
   "source": [
    "### 8. Train using prediction month of previous years"
   ]
  },
  {
   "cell_type": "code",
   "execution_count": 128,
   "metadata": {},
   "outputs": [],
   "source": [
    "# Run experiments\n",
    "def run_scenario8(lr_, weight_decay_, train_year, test_year, selected_months=[1, 2, 3, 4, 5, 6, 7, 8, 9, 10, 11, 12], NUM_EPOCHS=300):\n",
    "            \n",
    "    ###### Print current seed and lr\n",
    "    # print(f\"LR: {lr_}\")\n",
    "    \n",
    "    ###### Define the model, optimizer, loss function and history\n",
    "    torch.backends.cudnn.deterministic = True\n",
    "    torch.backends.cudnn.benchmark = True\n",
    "    torch.manual_seed(random_seed)\n",
    "\n",
    "    # Create the model, optimizer, and trainer\n",
    "    # model = SimpleNN(input_dim=len(train_columns), output_dim=1, hidden_dim=5).to(DEVICE)\n",
    "    model = TwoLayerNN(input_dim=len(train_columns), output_dim=1, hidden_dim1 = 32, hidden_dim2 = 32).to(DEVICE)\n",
    "\n",
    "    optimizer = optim.SGD(\n",
    "        [param for param in model.parameters() if param.requires_grad],\n",
    "        lr=lr_,\n",
    "        momentum=0.9,\n",
    "        weight_decay=weight_decay_, \n",
    "    )\n",
    "\n",
    "    trainer = Trainer(\n",
    "        model=model,\n",
    "        criterion=nn.MSELoss(reduction='none').to(DEVICE),\n",
    "        metric=mse,\n",
    "        device=DEVICE,\n",
    "        optimizer=optimizer,\n",
    "        cast_label=False,\n",
    "    )\n",
    "    \n",
    "    # loop over the months to use as training data\n",
    "    y_pred_month_history = []\n",
    "    y_test_month_history = []\n",
    "    loss_test_month_history = []\n",
    "    \n",
    "    for month in selected_months:\n",
    "    \n",
    "        ###### Define training data\n",
    "        x_train_month = time_series[(time_series.year.isin(train_year)) & (time_series.month.isin([month]))][train_columns].values\n",
    "        y_train_month = time_series[(time_series.year.isin(train_year)) & (time_series.month.isin([month]))]['target'].values\n",
    "        \n",
    "        x_mean, x_std = np.mean(x_train_month, axis=0), np.std(x_train_month, axis=0)\n",
    "        y_mean, y_std = np.mean(y_train_month), np.std(y_train_month)\n",
    "        \n",
    "        x_train_month = (x_train_month - x_mean) / x_std\n",
    "        y_train_month = (y_train_month - y_mean) / y_std\n",
    "        y_train_month = np.array(y_train_month).reshape(-1, 1)\n",
    "        \n",
    "        train_dataset = torch.utils.data.TensorDataset(torch.tensor(x_train_month), torch.tensor(y_train_month))\n",
    "        train_dataloader = DataLoader(train_dataset, batch_size=512, shuffle=True)\n",
    "        train_iterator = iter(train_dataloader)\n",
    "    \n",
    "        ###### Training loop\n",
    "        training_loss_history = []\n",
    "        for epoch in range(NUM_EPOCHS):\n",
    "        \n",
    "            # Clear gradients from the previous iteration\n",
    "            trainer.optimizer.zero_grad()\n",
    "\n",
    "            # Get next batch of data\n",
    "            try:\n",
    "                x_stream, y_stream = next(train_iterator)\n",
    "            except StopIteration:\n",
    "                train_iterator = iter(train_dataloader)\n",
    "                x_stream, y_stream = next(train_iterator)\n",
    "            x_stream = x_stream.to(DEVICE).type(torch.float32)\n",
    "            y_stream = y_stream.to(DEVICE).type(torch.float32)\n",
    "\n",
    "            # Forward pass\n",
    "            outs_stream = trainer.model(x_stream)\n",
    "            loss_stream = trainer.criterion(outs_stream, y_stream).mean()\n",
    "            \n",
    "            # Store loss value\n",
    "            training_loss_history.append(loss_stream.detach().cpu().numpy())\n",
    "        \n",
    "            # Get gradients w.r.t to parameters\n",
    "            loss_stream.backward()\n",
    "            \n",
    "            # Update the parameters\n",
    "            trainer.optimizer.step()\n",
    "    \n",
    "        # Print training loss value\n",
    "        # print(f'Training Loss: {loss_stream:0.3f}')\n",
    "    \n",
    "        ###### Test the model on the next month\n",
    "        x_test_month = time_series[(time_series.year==test_year) & (time_series.month.isin([month]))][train_columns].values\n",
    "        y_test_month = time_series[(time_series.year==test_year) & (time_series.month.isin([month]))]['target'].values\n",
    "        \n",
    "        x_test_month = (x_test_month - x_mean) / x_std\n",
    "        y_test_month = (y_test_month - y_mean) / y_std\n",
    "        y_test_month = np.array(y_test_month).reshape(-1, 1)\n",
    "        \n",
    "        y_pred_month = trainer.model(torch.tensor(x_test_month).to(DEVICE).type(torch.float32))\n",
    "        loss_test_month = trainer.criterion(y_pred_month, torch.tensor(y_test_month).to(DEVICE).type(torch.float32)).mean()\n",
    "    \n",
    "        # print(f\"Validation Loss: {loss_test_month:0.3f}\")\n",
    "\n",
    "        y_pred_month_history.append(y_pred_month.detach().cpu().numpy()*y_std + y_mean)\n",
    "        y_test_month_history.append(y_test_month*y_std + y_mean)\n",
    "        loss_test_month_history.append(loss_test_month.detach().cpu().numpy())\n",
    "        \n",
    "        \n",
    "    return training_loss_history, y_pred_month_history, y_test_month_history, loss_test_month_history"
   ]
  },
  {
   "cell_type": "code",
   "execution_count": 129,
   "metadata": {},
   "outputs": [
    {
     "name": "stderr",
     "output_type": "stream",
     "text": [
      "Years: 100%|██████████| 5/5 [04:58<00:00, 59.60s/it]\n"
     ]
    }
   ],
   "source": [
    "results = {'lr': {}, 'weight_decay': {}, 'train_year': {}, 'test_year': {}, 'training_loss': {}, 'y_pred': {}, 'y_test': {}, 'test_loss': {}}\n",
    "\n",
    "for year in tqdm([2014, 2015, 2016, 2017, 2018], position=0, leave=True, desc='Years'):\n",
    "\n",
    "    test_year = year\n",
    "    train_year = np.arange(2005, year, 1)\n",
    "\n",
    "    for lr_ in [0.001, 0.01, 0.1]:\n",
    "        for weight_decay_ in [5e-4, 5e-3, 5e-2]:\n",
    "            training_loss_history, y_pred, y_test, test_loss = run_scenario8(lr_=lr_, weight_decay_=weight_decay_, train_year=train_year, test_year=test_year)\n",
    "            \n",
    "            results['lr'][(year, lr_, weight_decay_)] = lr_\n",
    "            results['weight_decay'][(year, lr_, weight_decay_)] = weight_decay_\n",
    "            results['train_year'][(year, lr_, weight_decay_)] = train_year\n",
    "            results['test_year'][(year, lr_, weight_decay_)] = test_year\n",
    "            results['training_loss'][(year, lr_, weight_decay_)] = training_loss_history\n",
    "            results['y_pred'][(year, lr_, weight_decay_)] = y_pred\n",
    "            results['y_test'][(year, lr_, weight_decay_)] = y_test\n",
    "            results['test_loss'][(year, lr_, weight_decay_)] = test_loss\n",
    "            \n",
    "with open('scenario8_results.pkl', 'wb') as f:\n",
    "    pickle.dump(results, f)"
   ]
  },
  {
   "cell_type": "code",
   "execution_count": 130,
   "metadata": {},
   "outputs": [
    {
     "data": {
      "text/html": [
       "<div>\n",
       "<style scoped>\n",
       "    .dataframe tbody tr th:only-of-type {\n",
       "        vertical-align: middle;\n",
       "    }\n",
       "\n",
       "    .dataframe tbody tr th {\n",
       "        vertical-align: top;\n",
       "    }\n",
       "\n",
       "    .dataframe thead th {\n",
       "        text-align: right;\n",
       "    }\n",
       "</style>\n",
       "<table border=\"1\" class=\"dataframe\">\n",
       "  <thead>\n",
       "    <tr style=\"text-align: right;\">\n",
       "      <th></th>\n",
       "      <th>lr</th>\n",
       "      <th>weight_decay</th>\n",
       "      <th>train_year</th>\n",
       "      <th>test_year</th>\n",
       "      <th>y_pred</th>\n",
       "      <th>y_test</th>\n",
       "      <th>test_loss</th>\n",
       "      <th>mean_test_loss</th>\n",
       "    </tr>\n",
       "  </thead>\n",
       "  <tbody>\n",
       "    <tr>\n",
       "      <th>36</th>\n",
       "      <td>0.001</td>\n",
       "      <td>0.0005</td>\n",
       "      <td>[2005, 2006, 2007, 2008, 2009, 2010, 2011, 201...</td>\n",
       "      <td>2018</td>\n",
       "      <td>[[[6.6290197], [10.821488], [26.546295], [39.7...</td>\n",
       "      <td>[[[3.927471439274143], [25.073689796692005], [...</td>\n",
       "      <td>[0.24791272, 0.15215115, 0.13118455, 0.1717243...</td>\n",
       "      <td>0.151293</td>\n",
       "    </tr>\n",
       "    <tr>\n",
       "      <th>7</th>\n",
       "      <td>0.100</td>\n",
       "      <td>0.0050</td>\n",
       "      <td>[2005, 2006, 2007, 2008, 2009, 2010, 2011, 201...</td>\n",
       "      <td>2014</td>\n",
       "      <td>[[[7.3729057], [12.568324], [19.060665], [42.2...</td>\n",
       "      <td>[[[2.812268887967102], [15.680444907775552], [...</td>\n",
       "      <td>[0.1332708, 0.13557042, 0.08017974, 0.09094357...</td>\n",
       "      <td>0.145823</td>\n",
       "    </tr>\n",
       "    <tr>\n",
       "      <th>29</th>\n",
       "      <td>0.001</td>\n",
       "      <td>0.0500</td>\n",
       "      <td>[2005, 2006, 2007, 2008, 2009, 2010, 2011, 201...</td>\n",
       "      <td>2017</td>\n",
       "      <td>[[[10.315002], [12.533944], [18.84293], [18.30...</td>\n",
       "      <td>[[[6.144677596800554], [12.29933526621949], [1...</td>\n",
       "      <td>[0.1863708, 0.1578519, 0.096588634, 0.12015521...</td>\n",
       "      <td>0.168196</td>\n",
       "    </tr>\n",
       "  </tbody>\n",
       "</table>\n",
       "</div>"
      ],
      "text/plain": [
       "       lr  weight_decay                                         train_year  \\\n",
       "36  0.001        0.0005  [2005, 2006, 2007, 2008, 2009, 2010, 2011, 201...   \n",
       "7   0.100        0.0050  [2005, 2006, 2007, 2008, 2009, 2010, 2011, 201...   \n",
       "29  0.001        0.0500  [2005, 2006, 2007, 2008, 2009, 2010, 2011, 201...   \n",
       "\n",
       "    test_year                                             y_pred  \\\n",
       "36       2018  [[[6.6290197], [10.821488], [26.546295], [39.7...   \n",
       "7        2014  [[[7.3729057], [12.568324], [19.060665], [42.2...   \n",
       "29       2017  [[[10.315002], [12.533944], [18.84293], [18.30...   \n",
       "\n",
       "                                               y_test  \\\n",
       "36  [[[3.927471439274143], [25.073689796692005], [...   \n",
       "7   [[[2.812268887967102], [15.680444907775552], [...   \n",
       "29  [[[6.144677596800554], [12.29933526621949], [1...   \n",
       "\n",
       "                                            test_loss  mean_test_loss  \n",
       "36  [0.24791272, 0.15215115, 0.13118455, 0.1717243...        0.151293  \n",
       "7   [0.1332708, 0.13557042, 0.08017974, 0.09094357...        0.145823  \n",
       "29  [0.1863708, 0.1578519, 0.096588634, 0.12015521...        0.168196  "
      ]
     },
     "execution_count": 130,
     "metadata": {},
     "output_type": "execute_result"
    }
   ],
   "source": [
    "with open('scenario8_results.pkl', 'rb') as f:\n",
    "    results = pickle.load(f)\n",
    "\n",
    "df8 = pd.DataFrame.from_dict(results).reset_index(drop=True)\n",
    "\n",
    "# add column mean_test_loss\n",
    "df8['mean_test_loss'] = df8['test_loss'].apply(lambda x: np.mean(x))\n",
    "df8.sample(3)"
   ]
  },
  {
   "cell_type": "code",
   "execution_count": 131,
   "metadata": {},
   "outputs": [
    {
     "data": {
      "text/plain": [
       "lr     weight_decay\n",
       "0.001  0.0005          0.154783\n",
       "       0.0050          0.154938\n",
       "       0.0500          0.161452\n",
       "0.010  0.0005          0.143830\n",
       "       0.0050          0.144138\n",
       "       0.0500          0.155474\n",
       "0.100  0.0005          0.148497\n",
       "       0.0050          0.149205\n",
       "       0.0500          0.160276\n",
       "Name: mean_test_loss, dtype: float32"
      ]
     },
     "execution_count": 131,
     "metadata": {},
     "output_type": "execute_result"
    }
   ],
   "source": [
    "df8.groupby(['lr', 'weight_decay'])['mean_test_loss'].mean()"
   ]
  },
  {
   "cell_type": "code",
   "execution_count": 132,
   "metadata": {},
   "outputs": [
    {
     "name": "stdout",
     "output_type": "stream",
     "text": [
      "Best Learning Rate: 0.01 | Best Weight Decay: 0.0005\n",
      "Average test loss (5y): 0.144 ± 0.008\n"
     ]
    }
   ],
   "source": [
    "df8.groupby(['lr', 'weight_decay'])['mean_test_loss'].mean()\n",
    "best_params = df8.groupby(['lr', 'weight_decay'])['mean_test_loss'].mean().idxmin()\n",
    "print(f'Best Learning Rate: {best_params[0]} | Best Weight Decay: {best_params[1]}')\n",
    "\n",
    "print(f'Average test loss (5y): {df8[df8.lr==best_params[0]][df8.weight_decay==best_params[1]][\"mean_test_loss\"].mean():.3f} ± {df8[df8.lr==best_params[0]][df8.weight_decay==best_params[1]][\"mean_test_loss\"].std():.3f}')"
   ]
  },
  {
   "cell_type": "code",
   "execution_count": 133,
   "metadata": {},
   "outputs": [
    {
     "data": {
      "text/html": [
       "<div>\n",
       "<style scoped>\n",
       "    .dataframe tbody tr th:only-of-type {\n",
       "        vertical-align: middle;\n",
       "    }\n",
       "\n",
       "    .dataframe tbody tr th {\n",
       "        vertical-align: top;\n",
       "    }\n",
       "\n",
       "    .dataframe thead th {\n",
       "        text-align: right;\n",
       "    }\n",
       "</style>\n",
       "<table border=\"1\" class=\"dataframe\">\n",
       "  <thead>\n",
       "    <tr style=\"text-align: right;\">\n",
       "      <th></th>\n",
       "      <th>lr</th>\n",
       "      <th>weight_decay</th>\n",
       "      <th>train_year</th>\n",
       "      <th>test_year</th>\n",
       "      <th>y_pred</th>\n",
       "      <th>y_test</th>\n",
       "      <th>test_loss</th>\n",
       "      <th>mean_test_loss</th>\n",
       "    </tr>\n",
       "  </thead>\n",
       "  <tbody>\n",
       "    <tr>\n",
       "      <th>3</th>\n",
       "      <td>0.01</td>\n",
       "      <td>0.0005</td>\n",
       "      <td>[2005, 2006, 2007, 2008, 2009, 2010, 2011, 201...</td>\n",
       "      <td>2014</td>\n",
       "      <td>[[[5.978258], [13.489601], [19.706223], [43.66...</td>\n",
       "      <td>[[[2.812268887967102], [15.680444907775552], [...</td>\n",
       "      <td>[0.13564524, 0.1376055, 0.076777354, 0.0900065...</td>\n",
       "      <td>0.142858</td>\n",
       "    </tr>\n",
       "    <tr>\n",
       "      <th>12</th>\n",
       "      <td>0.01</td>\n",
       "      <td>0.0005</td>\n",
       "      <td>[2005, 2006, 2007, 2008, 2009, 2010, 2011, 201...</td>\n",
       "      <td>2015</td>\n",
       "      <td>[[[7.375555], [15.906685], [26.58216], [25.030...</td>\n",
       "      <td>[[[6.4952673017987195], [19.144333895911306], ...</td>\n",
       "      <td>[0.2029635, 0.114465564, 0.13997166, 0.1157429...</td>\n",
       "      <td>0.133250</td>\n",
       "    </tr>\n",
       "    <tr>\n",
       "      <th>21</th>\n",
       "      <td>0.01</td>\n",
       "      <td>0.0005</td>\n",
       "      <td>[2005, 2006, 2007, 2008, 2009, 2010, 2011, 201...</td>\n",
       "      <td>2016</td>\n",
       "      <td>[[[14.516597], [12.537039], [16.17764], [15.31...</td>\n",
       "      <td>[[[4.642965123676376], [8.427035519618586], [5...</td>\n",
       "      <td>[0.17178546, 0.13880447, 0.13745598, 0.1989043...</td>\n",
       "      <td>0.152743</td>\n",
       "    </tr>\n",
       "    <tr>\n",
       "      <th>30</th>\n",
       "      <td>0.01</td>\n",
       "      <td>0.0005</td>\n",
       "      <td>[2005, 2006, 2007, 2008, 2009, 2010, 2011, 201...</td>\n",
       "      <td>2017</td>\n",
       "      <td>[[[9.11412], [14.871618], [19.56896], [18.4889...</td>\n",
       "      <td>[[[6.144677596800554], [12.29933526621949], [1...</td>\n",
       "      <td>[0.16018258, 0.119667, 0.08374885, 0.10959077,...</td>\n",
       "      <td>0.149622</td>\n",
       "    </tr>\n",
       "    <tr>\n",
       "      <th>39</th>\n",
       "      <td>0.01</td>\n",
       "      <td>0.0005</td>\n",
       "      <td>[2005, 2006, 2007, 2008, 2009, 2010, 2011, 201...</td>\n",
       "      <td>2018</td>\n",
       "      <td>[[[6.5375814], [11.6596], [34.43227], [48.6555...</td>\n",
       "      <td>[[[3.927471439274143], [25.073689796692005], [...</td>\n",
       "      <td>[0.2077965, 0.13259718, 0.12082693, 0.16571692...</td>\n",
       "      <td>0.140679</td>\n",
       "    </tr>\n",
       "  </tbody>\n",
       "</table>\n",
       "</div>"
      ],
      "text/plain": [
       "      lr  weight_decay                                         train_year  \\\n",
       "3   0.01        0.0005  [2005, 2006, 2007, 2008, 2009, 2010, 2011, 201...   \n",
       "12  0.01        0.0005  [2005, 2006, 2007, 2008, 2009, 2010, 2011, 201...   \n",
       "21  0.01        0.0005  [2005, 2006, 2007, 2008, 2009, 2010, 2011, 201...   \n",
       "30  0.01        0.0005  [2005, 2006, 2007, 2008, 2009, 2010, 2011, 201...   \n",
       "39  0.01        0.0005  [2005, 2006, 2007, 2008, 2009, 2010, 2011, 201...   \n",
       "\n",
       "    test_year                                             y_pred  \\\n",
       "3        2014  [[[5.978258], [13.489601], [19.706223], [43.66...   \n",
       "12       2015  [[[7.375555], [15.906685], [26.58216], [25.030...   \n",
       "21       2016  [[[14.516597], [12.537039], [16.17764], [15.31...   \n",
       "30       2017  [[[9.11412], [14.871618], [19.56896], [18.4889...   \n",
       "39       2018  [[[6.5375814], [11.6596], [34.43227], [48.6555...   \n",
       "\n",
       "                                               y_test  \\\n",
       "3   [[[2.812268887967102], [15.680444907775552], [...   \n",
       "12  [[[6.4952673017987195], [19.144333895911306], ...   \n",
       "21  [[[4.642965123676376], [8.427035519618586], [5...   \n",
       "30  [[[6.144677596800554], [12.29933526621949], [1...   \n",
       "39  [[[3.927471439274143], [25.073689796692005], [...   \n",
       "\n",
       "                                            test_loss  mean_test_loss  \n",
       "3   [0.13564524, 0.1376055, 0.076777354, 0.0900065...        0.142858  \n",
       "12  [0.2029635, 0.114465564, 0.13997166, 0.1157429...        0.133250  \n",
       "21  [0.17178546, 0.13880447, 0.13745598, 0.1989043...        0.152743  \n",
       "30  [0.16018258, 0.119667, 0.08374885, 0.10959077,...        0.149622  \n",
       "39  [0.2077965, 0.13259718, 0.12082693, 0.16571692...        0.140679  "
      ]
     },
     "execution_count": 133,
     "metadata": {},
     "output_type": "execute_result"
    }
   ],
   "source": [
    "df8[(df8.lr==best_params[0]) & (df8.weight_decay==best_params[1])]"
   ]
  },
  {
   "cell_type": "code",
   "execution_count": 134,
   "metadata": {},
   "outputs": [
    {
     "data": {
      "image/png": "[encoded data removed]",
      "text/plain": [
       "<Figure size 1000x500 with 1 Axes>"
      ]
     },
     "metadata": {},
     "output_type": "display_data"
    }
   ],
   "source": [
    "# pass test loss to an array\n",
    "test_losses = np.full((5, 12), np.nan)\n",
    "for ind, year in enumerate([2014, 2015, 2016, 2017, 2018]):\n",
    "    # create a 5x12 array with the test loss for each month\n",
    "    test_loss = np.array(df8[(df8.lr==best_params[0]) & (df8.weight_decay==best_params[1]) & (df8.test_year==year)]['test_loss'].values[0])\n",
    "    test_losses[ind, :test_loss.shape[0]] = test_loss.flatten()\n",
    "    \n",
    "plt.figure(figsize=(10, 5))\n",
    "plt.errorbar(np.arange(1, 13), test_losses.mean(axis=0), yerr=test_losses.std(axis=0), fmt='o')\n",
    "plt.title('Average test loss for each month')\n",
    "plt.xticks(np.arange(1, 13), [months_name[i] for i in np.arange(1, 13)], rotation=45)\n",
    "plt.xlabel('Month')\n",
    "plt.ylabel('Test Loss')\n",
    "plt.show()"
   ]
  },
  {
   "cell_type": "markdown",
   "metadata": {},
   "source": [
    "### Show results for each scenario"
   ]
  },
  {
   "cell_type": "code",
   "execution_count": 76,
   "metadata": {},
   "outputs": [
    {
     "data": {
      "text/html": [
       "<div>\n",
       "<style scoped>\n",
       "    .dataframe tbody tr th:only-of-type {\n",
       "        vertical-align: middle;\n",
       "    }\n",
       "\n",
       "    .dataframe tbody tr th {\n",
       "        vertical-align: top;\n",
       "    }\n",
       "\n",
       "    .dataframe thead th {\n",
       "        text-align: right;\n",
       "    }\n",
       "</style>\n",
       "<table border=\"1\" class=\"dataframe\">\n",
       "  <thead>\n",
       "    <tr style=\"text-align: right;\">\n",
       "      <th></th>\n",
       "      <th>Scenario 4</th>\n",
       "      <th>Scenario 5</th>\n",
       "      <th>Scenario 6</th>\n",
       "      <th>Scenario 7</th>\n",
       "      <th>Scenario 8</th>\n",
       "    </tr>\n",
       "  </thead>\n",
       "  <tbody>\n",
       "    <tr>\n",
       "      <th>2014</th>\n",
       "      <td>1.5211434</td>\n",
       "      <td>0.201382</td>\n",
       "      <td>0.252411</td>\n",
       "      <td>0.201055</td>\n",
       "      <td>0.142858</td>\n",
       "    </tr>\n",
       "    <tr>\n",
       "      <th>2015</th>\n",
       "      <td>1.7554168</td>\n",
       "      <td>0.200371</td>\n",
       "      <td>0.278704</td>\n",
       "      <td>0.201463</td>\n",
       "      <td>0.133250</td>\n",
       "    </tr>\n",
       "    <tr>\n",
       "      <th>2016</th>\n",
       "      <td>0.9308866</td>\n",
       "      <td>0.225365</td>\n",
       "      <td>0.270227</td>\n",
       "      <td>0.251875</td>\n",
       "      <td>0.152743</td>\n",
       "    </tr>\n",
       "    <tr>\n",
       "      <th>2017</th>\n",
       "      <td>2.0512104</td>\n",
       "      <td>0.192021</td>\n",
       "      <td>0.268967</td>\n",
       "      <td>0.193672</td>\n",
       "      <td>0.149622</td>\n",
       "    </tr>\n",
       "    <tr>\n",
       "      <th>2018</th>\n",
       "      <td>1.2641034</td>\n",
       "      <td>0.202874</td>\n",
       "      <td>0.274991</td>\n",
       "      <td>0.218301</td>\n",
       "      <td>0.140679</td>\n",
       "    </tr>\n",
       "  </tbody>\n",
       "</table>\n",
       "</div>"
      ],
      "text/plain": [
       "     Scenario 4  Scenario 5  Scenario 6  Scenario 7  Scenario 8\n",
       "2014  1.5211434    0.201382    0.252411    0.201055    0.142858\n",
       "2015  1.7554168    0.200371    0.278704    0.201463    0.133250\n",
       "2016  0.9308866    0.225365    0.270227    0.251875    0.152743\n",
       "2017  2.0512104    0.192021    0.268967    0.193672    0.149622\n",
       "2018  1.2641034    0.202874    0.274991    0.218301    0.140679"
      ]
     },
     "metadata": {},
     "output_type": "display_data"
    },
    {
     "name": "stdout",
     "output_type": "stream",
     "text": [
      "Scenario 4: 1.505 ± 0.433\n",
      "Scenario 5: 0.204 ± 0.012\n",
      "Scenario 6: 0.269 ± 0.010\n",
      "Scenario 7: 0.213 ± 0.023\n",
      "Scenario 8: 0.144 ± 0.008\n"
     ]
    }
   ],
   "source": [
    "# create a df with the columns as scnearios and rows as mean_test_loss for each year\n",
    "scenarios = ['Scenario 4', 'Scenario 5', 'Scenario 6', 'Scenario 7', 'Scenario 8']\n",
    "df_results = pd.DataFrame(columns=scenarios)\n",
    "\n",
    "for year in [2014, 2015, 2016, 2017, 2018]:\n",
    "    df_results = df_results.append({\n",
    "        'Scenario 4': df4[(df4['lr']==df4.groupby(['lr'])['test_loss'].mean().idxmin()) & (df4['test_year']==year)]['test_loss'].values[0],\n",
    "        'Scenario 5': df5[(df5['lr']==df5.groupby(['lr'])['mean_test_loss'].mean().idxmin()) & (df5['test_year']==year)]['mean_test_loss'].values[0],'Scenario 6': df6[(df6['lr']==df6.groupby(['lr'])['mean_test_loss'].mean().idxmin()) & (df6['test_year']==year)]['mean_test_loss'].values[0],\n",
    "        'Scenario 7': df7[(df7['lr']==df7.groupby(['lr'])['mean_test_loss'].mean().idxmin()) & (df7['test_year']==year)]['mean_test_loss'].values[0],\n",
    "        'Scenario 8': df8[(df8['lr']==df8.groupby(['lr'])['mean_test_loss'].mean().idxmin()) & (df8['test_year']==year)]['mean_test_loss'].values[0]}, ignore_index=True)\n",
    "    \n",
    "df_results.index = [2014, 2015, 2016, 2017, 2018]\n",
    "display(df_results)\n",
    "\n",
    "for scenario in scenarios:\n",
    "    print(f'{scenario}: {df_results[scenario].mean():.3f} ± {df_results[scenario].std():.3f}')"
   ]
  }
 ],
 "metadata": {
  "kernelspec": {
   "display_name": "FL",
   "language": "python",
   "name": "python3"
  },
  "language_info": {
   "codemirror_mode": {
    "name": "ipython",
    "version": 3
   },
   "file_extension": ".py",
   "mimetype": "text/x-python",
   "name": "python",
   "nbconvert_exporter": "python",
   "pygments_lexer": "ipython3",
   "version": "3.9.9"
  }
 },
 "nbformat": 4,
 "nbformat_minor": 2
}
